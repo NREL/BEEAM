{
  "nbformat": 4,
  "nbformat_minor": 0,
  "metadata": {
    "colab": {
      "name": "CVRMSE_NMBE_calibration.ipynb",
      "provenance": [],
      "collapsed_sections": [],
      "toc_visible": true,
      "authorship_tag": "ABX9TyP5fnKcUWUylNQiRggDWaQB",
      "include_colab_link": true
    },
    "kernelspec": {
      "name": "python3",
      "display_name": "Python 3"
    }
  },
  "cells": [
    {
      "cell_type": "markdown",
      "metadata": {
        "id": "view-in-github",
        "colab_type": "text"
      },
      "source": [
        "<a href=\"https://colab.research.google.com/github/NREL/BEEAM/blob/flexlab-develop/FMU/flexlab_demo/openstudio/notebooks/CVRMSE_NMBE_calibration.ipynb\" target=\"_parent\"><img src=\"https://colab.research.google.com/assets/colab-badge.svg\" alt=\"Open In Colab\"/></a>"
      ]
    },
    {
      "cell_type": "code",
      "metadata": {
        "colab": {
          "base_uri": "https://localhost:8080/"
        },
        "id": "IR5OQSzEy0eu",
        "outputId": "593c7428-6d35-4d4c-d7cb-32183adf63c0"
      },
      "source": [
        "# connect to goolgle drive\n",
        "from google.colab import drive\n",
        "drive.mount('/content/drive', force_remount=True)"
      ],
      "execution_count": null,
      "outputs": [
        {
          "output_type": "stream",
          "name": "stdout",
          "text": [
            "Mounted at /content/drive\n"
          ]
        }
      ]
    },
    {
      "cell_type": "markdown",
      "metadata": {
        "id": "NgAZb_3bRM2e"
      },
      "source": [
        "# Purpose\n",
        "Reads the CSV file from the OpenStudio [Timeseries Objective Function Reporting Measure](https://github.com/NREL/openstudio-calibration-gem/tree/develop/lib/measures/TimeseriesObjectiveFunction) and plots results."
      ]
    },
    {
      "cell_type": "code",
      "metadata": {
        "id": "3NKdMYi0y84Y"
      },
      "source": [
        "# import libraries\n",
        "import math\n",
        "import matplotlib.pyplot as plt\n",
        "import os\n",
        "import pandas as pd\n",
        "import seaborn as sns"
      ],
      "execution_count": null,
      "outputs": []
    },
    {
      "cell_type": "markdown",
      "metadata": {
        "id": "sj-6IuPnWGjs"
      },
      "source": [
        "# 1 Setup"
      ]
    },
    {
      "cell_type": "code",
      "metadata": {
        "id": "klQeAYoCzODN",
        "colab": {
          "base_uri": "https://localhost:8080/"
        },
        "outputId": "702d0b21-45b2-4a52-aa0d-ef867dcc2fb3"
      },
      "source": [
        "# dir\n",
        "csv_dir = '/content/drive/Shared drives/NREL DC Design Tool/Tasks/7 Validation/7.2 Whole Tool Validation/FLEXLAB/NREL OpenStudio Model/3 Calibration'\n",
        "\n",
        "# names\n",
        "# csv_name = 'timeseriesArch Calibration Plnm.csv'\n",
        "csv_name = 'timeseriesArch Calibration Zone.csv'\n",
        "# csv_name = 'timeseriesMech Calibration Clg.csv'\n",
        "# csv_name = 'timeseriesMech Calibration Fan.csv'\n",
        "\n",
        "# path\n",
        "csv_path = os.path.join(csv_dir, csv_name)\n",
        "\n",
        "# array of columns to remove (set to False if NA)\n",
        "cols_to_drop = ['Metered time'] #False\n",
        "\n",
        "# column names for calculations (must match renamed columns if applicable)\n",
        "observed_column_name = 'Measured'\n",
        "predicted_column_name = 'Modeled'\n",
        "\n",
        "# array of desired column names, in order, after dropping, if applicable (set to False if NA)\n",
        "col_name_dict = {'Simulation Time':'datetime',\n",
        "                 'Simulated Value':predicted_colunm_name,\n",
        "                 'Metered Value':observed_column_name}\n",
        "\n",
        "# column index (after dropping or renaming columns)\n",
        "col_index = 'datetime'\n",
        "\n",
        "# beginning and end timestamps to slice dataset (if desired)\n",
        "# in 'YYYY-MM-DD HH:MM:SS' format (set to False if NA)\n",
        "beg = False\n",
        "end = False\n",
        "\n",
        "# plot title\n",
        "title = csv_name.strip('timeseries').strip('.csv') #.strip('.').strip('_initial') #.strip('_') #'Architectural Test Plenum Temperature Calibration'\n",
        "print(title)\n",
        "\n",
        "# plot axis labels\n",
        "xlabel = 'Date'\n",
        "ylabel = 'Temperature (C)'\n",
        "# ylabel = 'Cooling Load (W)'\n",
        "# ylabel = 'Fan Power (W)'\n",
        "\n",
        "# plot file name\n",
        "png_name = title.replace(' ', '_').lower() + '.png'\n",
        "print(png_name)\n",
        "dpi = 300\n",
        "\n",
        "# size\n",
        "# aspect = 2\n",
        "\n",
        "# plot observed and predicted colors\n",
        "obs_clr = 'orange'\n",
        "pre_clr = 'purple'\n",
        "\n",
        "# yaxis min, max, and multiple for rounding\n",
        "# if none, min and max will be rounded based on data and multiple\n",
        "ymin = 23\n",
        "ymax = 38\n",
        "ymult = 1\n",
        "\n",
        "# ymin = 0\n",
        "# ymax = 2200 \n",
        "# ymult = 1000 \n",
        "\n",
        "# legend location\n",
        "legend_location = 'upper left'\n",
        "# legend_location = 'upper right'"
      ],
      "execution_count": null,
      "outputs": [
        {
          "output_type": "stream",
          "name": "stdout",
          "text": [
            "Arch Calibration Zone\n",
            "arch_calibration_zone.png\n"
          ]
        }
      ]
    },
    {
      "cell_type": "markdown",
      "metadata": {
        "id": "c43r0GZ1Wrrh"
      },
      "source": [
        "# 2 Extract"
      ]
    },
    {
      "cell_type": "code",
      "metadata": {
        "colab": {
          "base_uri": "https://localhost:8080/",
          "height": 424
        },
        "id": "qdqozjeWTuHm",
        "outputId": "0f097e5f-c5d6-4074-9a06-6bd4131917d6"
      },
      "source": [
        "# read csv\n",
        "df = pd.read_csv(csv_path)\n",
        "\n",
        "# show\n",
        "df"
      ],
      "execution_count": null,
      "outputs": [
        {
          "output_type": "execute_result",
          "data": {
            "text/html": [
              "<div>\n",
              "<style scoped>\n",
              "    .dataframe tbody tr th:only-of-type {\n",
              "        vertical-align: middle;\n",
              "    }\n",
              "\n",
              "    .dataframe tbody tr th {\n",
              "        vertical-align: top;\n",
              "    }\n",
              "\n",
              "    .dataframe thead th {\n",
              "        text-align: right;\n",
              "    }\n",
              "</style>\n",
              "<table border=\"1\" class=\"dataframe\">\n",
              "  <thead>\n",
              "    <tr style=\"text-align: right;\">\n",
              "      <th></th>\n",
              "      <th>Simulation Time</th>\n",
              "      <th>Simulated Value</th>\n",
              "      <th>Metered time</th>\n",
              "      <th>Metered Value</th>\n",
              "    </tr>\n",
              "  </thead>\n",
              "  <tbody>\n",
              "    <tr>\n",
              "      <th>0</th>\n",
              "      <td>2020/10/30 00:00:00</td>\n",
              "      <td>25.477778</td>\n",
              "      <td>2020/10/30 00:00:00</td>\n",
              "      <td>25.642054</td>\n",
              "    </tr>\n",
              "    <tr>\n",
              "      <th>1</th>\n",
              "      <td>2020/10/30 00:15:00</td>\n",
              "      <td>25.796529</td>\n",
              "      <td>2020/10/30 00:15:00</td>\n",
              "      <td>25.685371</td>\n",
              "    </tr>\n",
              "    <tr>\n",
              "      <th>2</th>\n",
              "      <td>2020/10/30 00:30:00</td>\n",
              "      <td>25.928234</td>\n",
              "      <td>2020/10/30 00:30:00</td>\n",
              "      <td>25.733244</td>\n",
              "    </tr>\n",
              "    <tr>\n",
              "      <th>3</th>\n",
              "      <td>2020/10/30 00:45:00</td>\n",
              "      <td>26.057832</td>\n",
              "      <td>2020/10/30 00:45:00</td>\n",
              "      <td>25.775576</td>\n",
              "    </tr>\n",
              "    <tr>\n",
              "      <th>4</th>\n",
              "      <td>2020/10/30 01:00:00</td>\n",
              "      <td>26.161660</td>\n",
              "      <td>2020/10/30 01:00:00</td>\n",
              "      <td>25.817978</td>\n",
              "    </tr>\n",
              "    <tr>\n",
              "      <th>...</th>\n",
              "      <td>...</td>\n",
              "      <td>...</td>\n",
              "      <td>...</td>\n",
              "      <td>...</td>\n",
              "    </tr>\n",
              "    <tr>\n",
              "      <th>542</th>\n",
              "      <td>2020/11/04 15:30:00</td>\n",
              "      <td>36.925318</td>\n",
              "      <td>2020/11/04 15:30:00</td>\n",
              "      <td>37.302730</td>\n",
              "    </tr>\n",
              "    <tr>\n",
              "      <th>543</th>\n",
              "      <td>2020/11/04 15:45:00</td>\n",
              "      <td>36.953757</td>\n",
              "      <td>2020/11/04 15:45:00</td>\n",
              "      <td>37.357245</td>\n",
              "    </tr>\n",
              "    <tr>\n",
              "      <th>544</th>\n",
              "      <td>2020/11/04 16:00:00</td>\n",
              "      <td>36.982672</td>\n",
              "      <td>2020/11/04 16:00:00</td>\n",
              "      <td>37.402714</td>\n",
              "    </tr>\n",
              "    <tr>\n",
              "      <th>545</th>\n",
              "      <td>2020/11/04 16:15:00</td>\n",
              "      <td>37.007788</td>\n",
              "      <td>2020/11/04 16:15:00</td>\n",
              "      <td>37.447809</td>\n",
              "    </tr>\n",
              "    <tr>\n",
              "      <th>546</th>\n",
              "      <td>2020/11/04 16:30:00</td>\n",
              "      <td>37.031514</td>\n",
              "      <td>2020/11/04 16:30:00</td>\n",
              "      <td>37.488719</td>\n",
              "    </tr>\n",
              "  </tbody>\n",
              "</table>\n",
              "<p>547 rows × 4 columns</p>\n",
              "</div>"
            ],
            "text/plain": [
              "         Simulation Time  Simulated Value         Metered time  Metered Value\n",
              "0    2020/10/30 00:00:00        25.477778  2020/10/30 00:00:00      25.642054\n",
              "1    2020/10/30 00:15:00        25.796529  2020/10/30 00:15:00      25.685371\n",
              "2    2020/10/30 00:30:00        25.928234  2020/10/30 00:30:00      25.733244\n",
              "3    2020/10/30 00:45:00        26.057832  2020/10/30 00:45:00      25.775576\n",
              "4    2020/10/30 01:00:00        26.161660  2020/10/30 01:00:00      25.817978\n",
              "..                   ...              ...                  ...            ...\n",
              "542  2020/11/04 15:30:00        36.925318  2020/11/04 15:30:00      37.302730\n",
              "543  2020/11/04 15:45:00        36.953757  2020/11/04 15:45:00      37.357245\n",
              "544  2020/11/04 16:00:00        36.982672  2020/11/04 16:00:00      37.402714\n",
              "545  2020/11/04 16:15:00        37.007788  2020/11/04 16:15:00      37.447809\n",
              "546  2020/11/04 16:30:00        37.031514  2020/11/04 16:30:00      37.488719\n",
              "\n",
              "[547 rows x 4 columns]"
            ]
          },
          "metadata": {},
          "execution_count": 48
        }
      ]
    },
    {
      "cell_type": "markdown",
      "metadata": {
        "id": "Ievd7SzIWxUu"
      },
      "source": [
        "# 3 Transform"
      ]
    },
    {
      "cell_type": "markdown",
      "metadata": {
        "id": "y1GL0hibDYk3"
      },
      "source": [
        "## 3.1 Dataframe to Plot"
      ]
    },
    {
      "cell_type": "code",
      "metadata": {
        "colab": {
          "base_uri": "https://localhost:8080/",
          "height": 455
        },
        "id": "QUkeHRk6R2GV",
        "outputId": "50819eb7-eaef-4a24-cfe6-dd66dd1df294"
      },
      "source": [
        "# drop columns\n",
        "if len(cols_to_drop) > 0:\n",
        "    df.drop(labels=cols_to_drop, axis=1, inplace=True)\n",
        "\n",
        "# change column names\n",
        "if len(col_name_dict) > 0:\n",
        "    df.rename(columns=col_name_dict, inplace=True)\n",
        "\n",
        "# convert column index to datetime format\n",
        "df[col_index] = pd.to_datetime(df[col_index])\n",
        "\n",
        "# set index\n",
        "df.set_index(col_index, inplace=True)\n",
        "\n",
        "# slice dataframe\n",
        "if beg and not end:\n",
        "    df = df[beg:df.index[-1]]\n",
        "elif end and not beg:\n",
        "    df = df[df.index[0]:end]\n",
        "elif beg and end:\n",
        "    df = df[beg:end]\n",
        "\n",
        "# show dataframe\n",
        "df"
      ],
      "execution_count": null,
      "outputs": [
        {
          "output_type": "execute_result",
          "data": {
            "text/html": [
              "<div>\n",
              "<style scoped>\n",
              "    .dataframe tbody tr th:only-of-type {\n",
              "        vertical-align: middle;\n",
              "    }\n",
              "\n",
              "    .dataframe tbody tr th {\n",
              "        vertical-align: top;\n",
              "    }\n",
              "\n",
              "    .dataframe thead th {\n",
              "        text-align: right;\n",
              "    }\n",
              "</style>\n",
              "<table border=\"1\" class=\"dataframe\">\n",
              "  <thead>\n",
              "    <tr style=\"text-align: right;\">\n",
              "      <th></th>\n",
              "      <th>Modeled</th>\n",
              "      <th>Measured</th>\n",
              "    </tr>\n",
              "    <tr>\n",
              "      <th>datetime</th>\n",
              "      <th></th>\n",
              "      <th></th>\n",
              "    </tr>\n",
              "  </thead>\n",
              "  <tbody>\n",
              "    <tr>\n",
              "      <th>2020-10-30 00:00:00</th>\n",
              "      <td>25.477778</td>\n",
              "      <td>25.642054</td>\n",
              "    </tr>\n",
              "    <tr>\n",
              "      <th>2020-10-30 00:15:00</th>\n",
              "      <td>25.796529</td>\n",
              "      <td>25.685371</td>\n",
              "    </tr>\n",
              "    <tr>\n",
              "      <th>2020-10-30 00:30:00</th>\n",
              "      <td>25.928234</td>\n",
              "      <td>25.733244</td>\n",
              "    </tr>\n",
              "    <tr>\n",
              "      <th>2020-10-30 00:45:00</th>\n",
              "      <td>26.057832</td>\n",
              "      <td>25.775576</td>\n",
              "    </tr>\n",
              "    <tr>\n",
              "      <th>2020-10-30 01:00:00</th>\n",
              "      <td>26.161660</td>\n",
              "      <td>25.817978</td>\n",
              "    </tr>\n",
              "    <tr>\n",
              "      <th>...</th>\n",
              "      <td>...</td>\n",
              "      <td>...</td>\n",
              "    </tr>\n",
              "    <tr>\n",
              "      <th>2020-11-04 15:30:00</th>\n",
              "      <td>36.925318</td>\n",
              "      <td>37.302730</td>\n",
              "    </tr>\n",
              "    <tr>\n",
              "      <th>2020-11-04 15:45:00</th>\n",
              "      <td>36.953757</td>\n",
              "      <td>37.357245</td>\n",
              "    </tr>\n",
              "    <tr>\n",
              "      <th>2020-11-04 16:00:00</th>\n",
              "      <td>36.982672</td>\n",
              "      <td>37.402714</td>\n",
              "    </tr>\n",
              "    <tr>\n",
              "      <th>2020-11-04 16:15:00</th>\n",
              "      <td>37.007788</td>\n",
              "      <td>37.447809</td>\n",
              "    </tr>\n",
              "    <tr>\n",
              "      <th>2020-11-04 16:30:00</th>\n",
              "      <td>37.031514</td>\n",
              "      <td>37.488719</td>\n",
              "    </tr>\n",
              "  </tbody>\n",
              "</table>\n",
              "<p>547 rows × 2 columns</p>\n",
              "</div>"
            ],
            "text/plain": [
              "                       Modeled   Measured\n",
              "datetime                                 \n",
              "2020-10-30 00:00:00  25.477778  25.642054\n",
              "2020-10-30 00:15:00  25.796529  25.685371\n",
              "2020-10-30 00:30:00  25.928234  25.733244\n",
              "2020-10-30 00:45:00  26.057832  25.775576\n",
              "2020-10-30 01:00:00  26.161660  25.817978\n",
              "...                        ...        ...\n",
              "2020-11-04 15:30:00  36.925318  37.302730\n",
              "2020-11-04 15:45:00  36.953757  37.357245\n",
              "2020-11-04 16:00:00  36.982672  37.402714\n",
              "2020-11-04 16:15:00  37.007788  37.447809\n",
              "2020-11-04 16:30:00  37.031514  37.488719\n",
              "\n",
              "[547 rows x 2 columns]"
            ]
          },
          "metadata": {},
          "execution_count": 49
        }
      ]
    },
    {
      "cell_type": "markdown",
      "metadata": {
        "id": "QVHT55rL_V6J"
      },
      "source": [
        "## 3.2 Dataframe for Calculations"
      ]
    },
    {
      "cell_type": "code",
      "metadata": {
        "colab": {
          "base_uri": "https://localhost:8080/",
          "height": 455
        },
        "id": "eDmkMEs0yMpw",
        "outputId": "6dd1ce6d-9e5b-49f8-82d0-3932a7900bd2"
      },
      "source": [
        "# new dataframe for calculations\n",
        "df_calcs = df.copy()\n",
        "\n",
        "# calculate difference of predicted and observed for NMBE\n",
        "df_calcs['(obs - pre)'] = df_calcs[observed_column_name] - df_calcs[predicted_column_name]\n",
        "df_calcs\n",
        "\n",
        "# calculate the square of the difference for CV(RMSE)\n",
        "df_calcs['(obs - pre)^2'] = df_calcs['(obs - pre)']**2\n",
        "df_calcs"
      ],
      "execution_count": null,
      "outputs": [
        {
          "output_type": "execute_result",
          "data": {
            "text/html": [
              "<div>\n",
              "<style scoped>\n",
              "    .dataframe tbody tr th:only-of-type {\n",
              "        vertical-align: middle;\n",
              "    }\n",
              "\n",
              "    .dataframe tbody tr th {\n",
              "        vertical-align: top;\n",
              "    }\n",
              "\n",
              "    .dataframe thead th {\n",
              "        text-align: right;\n",
              "    }\n",
              "</style>\n",
              "<table border=\"1\" class=\"dataframe\">\n",
              "  <thead>\n",
              "    <tr style=\"text-align: right;\">\n",
              "      <th></th>\n",
              "      <th>Modeled</th>\n",
              "      <th>Measured</th>\n",
              "      <th>(obs - pre)</th>\n",
              "      <th>(obs - pre)^2</th>\n",
              "    </tr>\n",
              "    <tr>\n",
              "      <th>datetime</th>\n",
              "      <th></th>\n",
              "      <th></th>\n",
              "      <th></th>\n",
              "      <th></th>\n",
              "    </tr>\n",
              "  </thead>\n",
              "  <tbody>\n",
              "    <tr>\n",
              "      <th>2020-10-30 00:00:00</th>\n",
              "      <td>25.477778</td>\n",
              "      <td>25.642054</td>\n",
              "      <td>0.164276</td>\n",
              "      <td>0.026987</td>\n",
              "    </tr>\n",
              "    <tr>\n",
              "      <th>2020-10-30 00:15:00</th>\n",
              "      <td>25.796529</td>\n",
              "      <td>25.685371</td>\n",
              "      <td>-0.111158</td>\n",
              "      <td>0.012356</td>\n",
              "    </tr>\n",
              "    <tr>\n",
              "      <th>2020-10-30 00:30:00</th>\n",
              "      <td>25.928234</td>\n",
              "      <td>25.733244</td>\n",
              "      <td>-0.194990</td>\n",
              "      <td>0.038021</td>\n",
              "    </tr>\n",
              "    <tr>\n",
              "      <th>2020-10-30 00:45:00</th>\n",
              "      <td>26.057832</td>\n",
              "      <td>25.775576</td>\n",
              "      <td>-0.282256</td>\n",
              "      <td>0.079668</td>\n",
              "    </tr>\n",
              "    <tr>\n",
              "      <th>2020-10-30 01:00:00</th>\n",
              "      <td>26.161660</td>\n",
              "      <td>25.817978</td>\n",
              "      <td>-0.343682</td>\n",
              "      <td>0.118117</td>\n",
              "    </tr>\n",
              "    <tr>\n",
              "      <th>...</th>\n",
              "      <td>...</td>\n",
              "      <td>...</td>\n",
              "      <td>...</td>\n",
              "      <td>...</td>\n",
              "    </tr>\n",
              "    <tr>\n",
              "      <th>2020-11-04 15:30:00</th>\n",
              "      <td>36.925318</td>\n",
              "      <td>37.302730</td>\n",
              "      <td>0.377412</td>\n",
              "      <td>0.142440</td>\n",
              "    </tr>\n",
              "    <tr>\n",
              "      <th>2020-11-04 15:45:00</th>\n",
              "      <td>36.953757</td>\n",
              "      <td>37.357245</td>\n",
              "      <td>0.403488</td>\n",
              "      <td>0.162803</td>\n",
              "    </tr>\n",
              "    <tr>\n",
              "      <th>2020-11-04 16:00:00</th>\n",
              "      <td>36.982672</td>\n",
              "      <td>37.402714</td>\n",
              "      <td>0.420042</td>\n",
              "      <td>0.176435</td>\n",
              "    </tr>\n",
              "    <tr>\n",
              "      <th>2020-11-04 16:15:00</th>\n",
              "      <td>37.007788</td>\n",
              "      <td>37.447809</td>\n",
              "      <td>0.440021</td>\n",
              "      <td>0.193618</td>\n",
              "    </tr>\n",
              "    <tr>\n",
              "      <th>2020-11-04 16:30:00</th>\n",
              "      <td>37.031514</td>\n",
              "      <td>37.488719</td>\n",
              "      <td>0.457205</td>\n",
              "      <td>0.209036</td>\n",
              "    </tr>\n",
              "  </tbody>\n",
              "</table>\n",
              "<p>547 rows × 4 columns</p>\n",
              "</div>"
            ],
            "text/plain": [
              "                       Modeled   Measured  (obs - pre)  (obs - pre)^2\n",
              "datetime                                                             \n",
              "2020-10-30 00:00:00  25.477778  25.642054     0.164276       0.026987\n",
              "2020-10-30 00:15:00  25.796529  25.685371    -0.111158       0.012356\n",
              "2020-10-30 00:30:00  25.928234  25.733244    -0.194990       0.038021\n",
              "2020-10-30 00:45:00  26.057832  25.775576    -0.282256       0.079668\n",
              "2020-10-30 01:00:00  26.161660  25.817978    -0.343682       0.118117\n",
              "...                        ...        ...          ...            ...\n",
              "2020-11-04 15:30:00  36.925318  37.302730     0.377412       0.142440\n",
              "2020-11-04 15:45:00  36.953757  37.357245     0.403488       0.162803\n",
              "2020-11-04 16:00:00  36.982672  37.402714     0.420042       0.176435\n",
              "2020-11-04 16:15:00  37.007788  37.447809     0.440021       0.193618\n",
              "2020-11-04 16:30:00  37.031514  37.488719     0.457205       0.209036\n",
              "\n",
              "[547 rows x 4 columns]"
            ]
          },
          "metadata": {},
          "execution_count": 50
        }
      ]
    },
    {
      "cell_type": "markdown",
      "metadata": {
        "id": "H-Waukn65G11"
      },
      "source": [
        "# 4 Load"
      ]
    },
    {
      "cell_type": "markdown",
      "metadata": {
        "id": "jGn_su1UXsFm"
      },
      "source": [
        "## 4.1 Calculate NMBE and CV(RMSE)\n",
        "\n",
        "$ NMBE = \\sum_{i=1}^n (y_i - \\hat{y_i} ) / (n - p) * \\bar{y} $\n",
        "\n",
        "$ CV(RMSE) = \\sqrt{ \\sum{ (y_i - \\hat{y_i})^2 } / (n - p) } / \\bar{y} $\n",
        "\n",
        "where\n",
        "\n",
        "> $ y_i = $ single observed (measured) value\n",
        ">\n",
        "> $ \\hat{y_i} = $ single predicted (modeled) value\n",
        ">\n",
        "> $ n = $ number of data points or periods\n",
        ">\n",
        "> $ p = $ number of parameters or terms in the\n",
        "baseline model\n",
        ">\n",
        "> $ \\bar{y} = $ arithmetic mean of the sample of n\n",
        "observations\n"
      ]
    },
    {
      "cell_type": "code",
      "metadata": {
        "colab": {
          "base_uri": "https://localhost:8080/"
        },
        "id": "5gA1KglGUz-Y",
        "outputId": "3b7cc96b-5635-459d-e5ad-629e79a7d0f8"
      },
      "source": [
        "# NMBE sum\n",
        "nmbe_sum = df_calcs['(obs - pre)'].sum()\n",
        "print(f'NMBE sum = {nmbe_sum}')\n",
        "\n",
        "# sum of sqaures for CV(RMSE)\n",
        "cvrmse_sum = df_calcs['(obs - pre)^2'].sum()\n",
        "print(f'CV(RMSE) sum = {cvrmse_sum}')\n",
        "\n",
        "# number of data points\n",
        "n = len(df_calcs.index)\n",
        "print(f'n = {n}')\n",
        "\n",
        "# number of parameters\n",
        "p = 1\n",
        "\n",
        "# mean of samples\n",
        "y_bar = df_calcs[observed_column_name].mean()\n",
        "print(f'y_bar = {y_bar}')\n",
        "\n",
        "print('')\n",
        "\n",
        "# calculate NMBE\n",
        "nmbe = nmbe_sum / ((n - p) * y_bar)\n",
        "nmbe_pct = nmbe * 100\n",
        "print(f'NMBE = {nmbe}')\n",
        "\n",
        "# calculate CV(RMSE)\n",
        "cvrmse = (cvrmse_sum / (n - p))**0.5 / y_bar\n",
        "cvrmse_pct = cvrmse * 100\n",
        "print(f'CV(RMSE) = {cvrmse}')"
      ],
      "execution_count": null,
      "outputs": [
        {
          "output_type": "stream",
          "name": "stdout",
          "text": [
            "NMBE sum = 2.126390999999959\n",
            "CV(RMSE) sum = 104.27827792675691\n",
            "n = 547\n",
            "y_bar = 34.46280695978064\n",
            "\n",
            "NMBE = 0.00011300556613203176\n",
            "CV(RMSE) = 0.012680896459761235\n"
          ]
        }
      ]
    },
    {
      "cell_type": "markdown",
      "metadata": {
        "id": "o54E3oK45N_4"
      },
      "source": [
        "## 4.2 Plot"
      ]
    },
    {
      "cell_type": "code",
      "metadata": {
        "colab": {
          "base_uri": "https://localhost:8080/",
          "height": 300
        },
        "id": "xVygFFg7C4Ir",
        "outputId": "d02427aa-f63a-4827-9991-f0a4b49b42e2"
      },
      "source": [
        "df.describe()"
      ],
      "execution_count": null,
      "outputs": [
        {
          "output_type": "execute_result",
          "data": {
            "text/html": [
              "<div>\n",
              "<style scoped>\n",
              "    .dataframe tbody tr th:only-of-type {\n",
              "        vertical-align: middle;\n",
              "    }\n",
              "\n",
              "    .dataframe tbody tr th {\n",
              "        vertical-align: top;\n",
              "    }\n",
              "\n",
              "    .dataframe thead th {\n",
              "        text-align: right;\n",
              "    }\n",
              "</style>\n",
              "<table border=\"1\" class=\"dataframe\">\n",
              "  <thead>\n",
              "    <tr style=\"text-align: right;\">\n",
              "      <th></th>\n",
              "      <th>Modeled</th>\n",
              "      <th>Measured</th>\n",
              "    </tr>\n",
              "  </thead>\n",
              "  <tbody>\n",
              "    <tr>\n",
              "      <th>count</th>\n",
              "      <td>547.000000</td>\n",
              "      <td>547.000000</td>\n",
              "    </tr>\n",
              "    <tr>\n",
              "      <th>mean</th>\n",
              "      <td>34.458920</td>\n",
              "      <td>34.462807</td>\n",
              "    </tr>\n",
              "    <tr>\n",
              "      <th>std</th>\n",
              "      <td>2.851508</td>\n",
              "      <td>2.911484</td>\n",
              "    </tr>\n",
              "    <tr>\n",
              "      <th>min</th>\n",
              "      <td>25.477778</td>\n",
              "      <td>25.642054</td>\n",
              "    </tr>\n",
              "    <tr>\n",
              "      <th>25%</th>\n",
              "      <td>32.978199</td>\n",
              "      <td>32.763966</td>\n",
              "    </tr>\n",
              "    <tr>\n",
              "      <th>50%</th>\n",
              "      <td>35.914022</td>\n",
              "      <td>35.586082</td>\n",
              "    </tr>\n",
              "    <tr>\n",
              "      <th>75%</th>\n",
              "      <td>36.356211</td>\n",
              "      <td>36.315715</td>\n",
              "    </tr>\n",
              "    <tr>\n",
              "      <th>max</th>\n",
              "      <td>37.172744</td>\n",
              "      <td>37.488719</td>\n",
              "    </tr>\n",
              "  </tbody>\n",
              "</table>\n",
              "</div>"
            ],
            "text/plain": [
              "          Modeled    Measured\n",
              "count  547.000000  547.000000\n",
              "mean    34.458920   34.462807\n",
              "std      2.851508    2.911484\n",
              "min     25.477778   25.642054\n",
              "25%     32.978199   32.763966\n",
              "50%     35.914022   35.586082\n",
              "75%     36.356211   36.315715\n",
              "max     37.172744   37.488719"
            ]
          },
          "metadata": {},
          "execution_count": 52
        }
      ]
    },
    {
      "cell_type": "code",
      "metadata": {
        "colab": {
          "base_uri": "https://localhost:8080/"
        },
        "id": "f888wCYEC63J",
        "outputId": "6ab73198-4b9a-4838-e009-a8bfb274084f"
      },
      "source": [
        "# get min and max for axis scale\n",
        "pre_min = df[predicted_colunm_name].min()\n",
        "pre_max = df[predicted_colunm_name].max()\n",
        "\n",
        "obs_min = df[observed_column_name].min()\n",
        "obs_max = df[observed_column_name].max()\n",
        "\n",
        "abs_min = min(pre_min, obs_min)\n",
        "abs_max = max(pre_max, obs_max)\n",
        "print(abs_min, abs_max)\n",
        "\n",
        "# yaxis minimum value\n",
        "if ymin == None:\n",
        "    rnd_min = abs_min - abs_min % ymult # math.floor(abs_min)\n",
        "else:\n",
        "    rnd_min = ymin\n",
        "\n",
        "# yaxis maximum value\n",
        "if ymax == None:\n",
        "    rnd_max = math.ceil(abs_max / ymult) * ymult #round(abs_max, -1)\n",
        "else:\n",
        "    rnd_max = ymax\n",
        "\n",
        "print(rnd_min, rnd_max)\n",
        "\n",
        "# get max time for annotation location\n",
        "# time_max = df.index[-1]\n",
        "# time_max"
      ],
      "execution_count": null,
      "outputs": [
        {
          "output_type": "stream",
          "name": "stdout",
          "text": [
            "25.477778 37.488719\n",
            "23 38\n"
          ]
        }
      ]
    },
    {
      "cell_type": "code",
      "metadata": {
        "colab": {
          "base_uri": "https://localhost:8080/",
          "height": 316
        },
        "id": "FQu2BSjmW1wW",
        "outputId": "d6361a4a-7472-4d32-a32f-e8fc56e7f161"
      },
      "source": [
        "# use Seaborn's default theme\n",
        "sns.set_theme()\n",
        "\n",
        "# create figure and axis\n",
        "fig, ax = plt.subplots()\n",
        "\n",
        "# set title and axis labels\n",
        "# ax.set_title(title)\n",
        "ax.set_xlabel(xlabel)\n",
        "ax.set_ylabel(ylabel)\n",
        "\n",
        "# add data\n",
        "ax.plot(df.index, df[observed_column_name], label=observed_column_name, color=obs_clr)\n",
        "ax.plot(df.index, df[predicted_colunm_name], label=predicted_colunm_name, color=pre_clr)\n",
        "\n",
        "# add legend\n",
        "ax.legend(loc=legend_location) #bbox_to_anchor=(1, 1), loc='center right') #loc='best')\n",
        "\n",
        "# format x-axis\n",
        "ax.figure.autofmt_xdate()\n",
        "\n",
        "# format y-axis\n",
        "ax.set_ylim(ymin=rnd_min, ymax=rnd_max)"
      ],
      "execution_count": null,
      "outputs": [
        {
          "output_type": "execute_result",
          "data": {
            "text/plain": [
              "(23.0, 38.0)"
            ]
          },
          "metadata": {},
          "execution_count": 54
        },
        {
          "output_type": "display_data",
          "data": {
            "image/png": "[encoded data removed]",
            "text/plain": [
              "<Figure size 432x288 with 1 Axes>"
            ]
          },
          "metadata": {}
        }
      ]
    },
    {
      "cell_type": "code",
      "metadata": {
        "colab": {
          "base_uri": "https://localhost:8080/",
          "height": 335
        },
        "id": "bH1T8apQfFfN",
        "outputId": "55d4e0ba-b09d-4e84-c9b9-3065d04505cb"
      },
      "source": [
        "# annotation text, note s is a deprecated synonym for text\n",
        "text = f'{nmbe_pct:.1f}% NMBE\\n{cvrmse_pct:.1f}% CV(RMSE)'\n",
        "print(text)\n",
        "\n",
        "# add (or remove) annotation\n",
        "annotation = ax.annotate(s=text, xy=(0.725, 0.025), xycoords='axes fraction', fontsize=10)\n",
        "# annotation.remove()\n",
        "\n",
        "fig"
      ],
      "execution_count": null,
      "outputs": [
        {
          "output_type": "stream",
          "name": "stdout",
          "text": [
            "0.0% NMBE\n",
            "1.3% CV(RMSE)\n"
          ]
        },
        {
          "output_type": "execute_result",
          "data": {
            "image/png": "[encoded data removed]",
            "text/plain": [
              "<Figure size 432x288 with 1 Axes>"
            ]
          },
          "metadata": {},
          "execution_count": 55
        }
      ]
    },
    {
      "cell_type": "code",
      "metadata": {
        "id": "2oYylGCRjNSL"
      },
      "source": [
        "# save\n",
        "fig.savefig(os.path.join(csv_dir, png_name), bbox_inches='tight', dpi=dpi)"
      ],
      "execution_count": null,
      "outputs": []
    },
    {
      "cell_type": "code",
      "metadata": {
        "id": "AR1pRaj3KQd0"
      },
      "source": [
        ""
      ],
      "execution_count": null,
      "outputs": []
    }
  ]
}