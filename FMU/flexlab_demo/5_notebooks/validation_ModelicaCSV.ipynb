{
  "nbformat": 4,
  "nbformat_minor": 0,
  "metadata": {
    "colab": {
      "name": "validation_ModelicaCSV.ipynb",
      "provenance": [],
      "collapsed_sections": [],
      "toc_visible": true
    },
    "kernelspec": {
      "name": "python3",
      "display_name": "Python 3"
    },
    "language_info": {
      "name": "python"
    }
  },
  "cells": [
    {
      "cell_type": "markdown",
      "metadata": {
        "id": "Aej_mzeL9T1f"
      },
      "source": [
        "# Purpose\n",
        "Transforms Modelica CSV files into separate CSV files for combining with measured data to calculate validation metrics of NMBE and CV(RMSE)."
      ]
    },
    {
      "cell_type": "code",
      "metadata": {
        "colab": {
          "base_uri": "https://localhost:8080/"
        },
        "id": "U3RsKOtqsRV0",
        "outputId": "fcf2a87c-db27-4409-fed1-b50b150c86a5"
      },
      "source": [
        "# connect to goolgle drive\n",
        "from google.colab import drive\n",
        "drive.mount('/content/drive', force_remount=True)"
      ],
      "execution_count": null,
      "outputs": [
        {
          "output_type": "stream",
          "name": "stdout",
          "text": [
            "Mounted at /content/drive\n"
          ]
        }
      ]
    },
    {
      "cell_type": "code",
      "metadata": {
        "id": "GJGM0lW0sYBo"
      },
      "source": [
        "import os\n",
        "import pandas as pd"
      ],
      "execution_count": null,
      "outputs": []
    },
    {
      "cell_type": "markdown",
      "metadata": {
        "id": "CoCqHlPU5Trc"
      },
      "source": [
        "# 1 Setup"
      ]
    },
    {
      "cell_type": "code",
      "metadata": {
        "id": "gaCoOn_gsx62"
      },
      "source": [
        "# dir, paths\n",
        "in_dir =  r'/content/drive/Shared drives/NREL DC Design Tool/Tasks/7 Validation/7.2 Whole Tool Validation/FLEXLAB/NREL OpenStudio Model/4 Validation' #r'https://raw.githubusercontent.com/NREL/BEEAM/flexlab-develop/FMU/flexlab_ac_dc'\n",
        "out_dir = r'/content/drive/Shared drives/NREL DC Design Tool/Tasks/7 Validation/7.2 Whole Tool Validation/FLEXLAB/NREL OpenStudio Model/4 Validation'\n",
        "ac_csv_path = os.path.join(in_dir, 'flexlab_ac_Cable.csv')\n",
        "dc_csv_path = os.path.join(in_dir, 'flexlab_dc_2.csv')\n",
        "\n",
        "# index column\n",
        "idx_col = 'Time'\n",
        "\n",
        "# origin for converting timestamps to datetime format\n",
        "origin = pd.Timestamp('2020-01-01 00:00')\n",
        "unit = 's'\n",
        "\n",
        "# AC experiment beginning and end timestamps\n",
        "ac_lo_beg = '2020-11-11 10:30'\n",
        "ac_lo_end = '2020-11-11 17:00'\n",
        "ac_md_beg = '2020-11-12 14:30'\n",
        "ac_md_end = '2020-11-13 11:30'\n",
        "ac_hi_beg = '2020-11-13 12:00'\n",
        "ac_hi_end = '2020-11-16 08:00'\n",
        "ac_beg = ac_lo_beg\n",
        "ac_end = ac_hi_end\n",
        "\n",
        "# DC experiment beginning and end timestamps\n",
        "dc_hi_beg = '2020-11-17 18:00'\n",
        "dc_hi_end = '2020-11-20 16:00'\n",
        "dc_lo_beg = '2020-11-23 11:30'\n",
        "dc_lo_end = '2020-11-25 08:45'\n",
        "dc_md_beg = '2020-11-25 09:30'\n",
        "dc_md_end = '2020-11-30 08:00'\n",
        "dc_beg = dc_hi_beg\n",
        "dc_end = dc_md_end\n",
        "\n",
        "# column names for separate files\n",
        "clg_col = 'PTAC_Clg_Coil_Cooling_Rate'\n",
        "fan_col = 'PTAC_Fan_electric_rate'\n",
        "plnm_temp_col = 'PlnmB_zone_temp'\n",
        "zone_temp_col = 'ZoneB_zone_temp'\n",
        "pwr_col = 'Vin.P'"
      ],
      "execution_count": null,
      "outputs": []
    },
    {
      "cell_type": "markdown",
      "metadata": {
        "id": "vvHjGC0X7C4B"
      },
      "source": [
        "# 2 Extract"
      ]
    },
    {
      "cell_type": "code",
      "metadata": {
        "colab": {
          "base_uri": "https://localhost:8080/"
        },
        "id": "QuAos29DtDKI",
        "outputId": "4ed77065-646c-4fe7-9261-6edb8b79ca71"
      },
      "source": [
        "# read csvs to dataframes\n",
        "ac_df = pd.read_csv(ac_csv_path)\n",
        "dc_df = pd.read_csv(dc_csv_path)\n",
        "\n",
        "# show\n",
        "ac_df, dc_df"
      ],
      "execution_count": null,
      "outputs": [
        {
          "output_type": "execute_result",
          "data": {
            "text/plain": [
              "(            Time  systemDef.hrms[1]  ...   CPUtime  EventCounter\n",
              " 0     27216000.0                  1  ...  5.184999             3\n",
              " 1     27216900.0                  1  ...  5.188391             3\n",
              " 2     27216900.0                  1  ...  5.205755             6\n",
              " 3     27217800.0                  1  ...  5.206602             6\n",
              " 4     27217800.0                  1  ...  5.211056             9\n",
              " ...          ...                ...  ...       ...           ...\n",
              " 1148  27732600.0                  1  ...  7.561513          1725\n",
              " 1149  27733500.0                  1  ...  7.562079          1725\n",
              " 1150  27733500.0                  1  ...  7.564965          1728\n",
              " 1151  27734400.0                  1  ...  7.565535          1728\n",
              " 1152  27734400.0                  1  ...  7.570095          1731\n",
              " \n",
              " [1153 rows x 3643 columns],\n",
              "             Time  systemDef.hrms[1]  ...   CPUtime  EventCounter\n",
              " 0     27648000.0                  1  ...  4.907096             3\n",
              " 1     27648900.0                  1  ...  4.909160             3\n",
              " 2     27648900.0                  1  ...  4.921892             6\n",
              " 3     27649800.0                  1  ...  4.921986             6\n",
              " 4     27649800.0                  1  ...  4.923186             9\n",
              " ...          ...                ...  ...       ...           ...\n",
              " 2876  28942200.0                  1  ...  6.963911          4317\n",
              " 2877  28943100.0                  1  ...  6.964021          4317\n",
              " 2878  28943100.0                  1  ...  6.965385          4320\n",
              " 2879  28944000.0                  1  ...  6.965496          4320\n",
              " 2880  28944000.0                  1  ...  6.967764          4323\n",
              " \n",
              " [2881 rows x 1095 columns])"
            ]
          },
          "metadata": {},
          "execution_count": 4
        }
      ]
    },
    {
      "cell_type": "markdown",
      "metadata": {
        "id": "exja9N_57PLn"
      },
      "source": [
        "# 3 Transform"
      ]
    },
    {
      "cell_type": "markdown",
      "metadata": {
        "id": "zfhDNKnV7cdi"
      },
      "source": [
        "## 3.1 Timestamps"
      ]
    },
    {
      "cell_type": "code",
      "metadata": {
        "colab": {
          "base_uri": "https://localhost:8080/"
        },
        "id": "S-d_MEDlZwbI",
        "outputId": "f6443a8e-b6a1-4783-9b81-2ee182257ef3"
      },
      "source": [
        "# loop through dataframes\n",
        "for df in [ac_df, dc_df]: \n",
        "    \n",
        "    # change time column to datetime format based on units and origin\n",
        "    df[idx_col] = pd.to_datetime(df[idx_col], unit=unit, origin=origin)\n",
        "\n",
        "    # add row of zeros at index -1 to end of dataframe to make rows even prior to removing duplicates\n",
        "    df.loc[-1] = 0\n",
        "\n",
        "    # shift index back to zero-based (not really needed)\n",
        "    df.index = df.index + 1\n",
        "\n",
        "    # sort index so that new row is first\n",
        "    df.sort_index(inplace=True)\n",
        "\n",
        "    # set time column of new first row to same value as second row\n",
        "    df.loc[0, idx_col] = df.loc[1, idx_col]\n",
        "\n",
        "    # drop duplicates\n",
        "    df.drop_duplicates(subset=[idx_col], keep='last', inplace=True)\n",
        "\n",
        "    # rename timestamp column\n",
        "    df.rename(columns={idx_col:'datetime'}, inplace=True)\n",
        "\n",
        "    # set index to time column\n",
        "    df.set_index('datetime', inplace=True)\n",
        "\n",
        "# show\n",
        "ac_df, dc_df"
      ],
      "execution_count": null,
      "outputs": [
        {
          "output_type": "execute_result",
          "data": {
            "text/plain": [
              "(                     systemDef.hrms[1]  ...  EventCounter\n",
              " datetime                                ...              \n",
              " 2020-11-11 00:00:00                  1  ...             3\n",
              " 2020-11-11 00:15:00                  1  ...             6\n",
              " 2020-11-11 00:30:00                  1  ...             9\n",
              " 2020-11-11 00:45:00                  1  ...            12\n",
              " 2020-11-11 01:00:00                  1  ...            15\n",
              " ...                                ...  ...           ...\n",
              " 2020-11-16 23:00:00                  1  ...          1719\n",
              " 2020-11-16 23:15:00                  1  ...          1722\n",
              " 2020-11-16 23:30:00                  1  ...          1725\n",
              " 2020-11-16 23:45:00                  1  ...          1728\n",
              " 2020-11-17 00:00:00                  1  ...          1731\n",
              " \n",
              " [577 rows x 3642 columns],\n",
              "                      systemDef.hrms[1]  ...  EventCounter\n",
              " datetime                                ...              \n",
              " 2020-11-16 00:00:00                  1  ...             3\n",
              " 2020-11-16 00:15:00                  1  ...             6\n",
              " 2020-11-16 00:30:00                  1  ...             9\n",
              " 2020-11-16 00:45:00                  1  ...            12\n",
              " 2020-11-16 01:00:00                  1  ...            15\n",
              " ...                                ...  ...           ...\n",
              " 2020-11-30 23:00:00                  1  ...          4311\n",
              " 2020-11-30 23:15:00                  1  ...          4314\n",
              " 2020-11-30 23:30:00                  1  ...          4317\n",
              " 2020-11-30 23:45:00                  1  ...          4320\n",
              " 2020-12-01 00:00:00                  1  ...          4323\n",
              " \n",
              " [1441 rows x 1094 columns])"
            ]
          },
          "metadata": {},
          "execution_count": 5
        }
      ]
    },
    {
      "cell_type": "code",
      "metadata": {
        "colab": {
          "base_uri": "https://localhost:8080/",
          "height": 321
        },
        "id": "OgNQ6B-QUIZs",
        "outputId": "a1aa9c1e-7ed7-4071-e51e-0e3fa99436ee"
      },
      "source": [
        "ac_series = ac_df[\"'in_fmu1'.PTAC_Clg_Coil_Cooling_Rate\"]\n",
        "ac_series.plot()"
      ],
      "execution_count": null,
      "outputs": [
        {
          "output_type": "execute_result",
          "data": {
            "text/plain": [
              "<matplotlib.axes._subplots.AxesSubplot at 0x7f531117f390>"
            ]
          },
          "metadata": {},
          "execution_count": 6
        },
        {
          "output_type": "display_data",
          "data": {
            "image/png": "[encoded data removed]",
            "text/plain": [
              "<Figure size 432x288 with 1 Axes>"
            ]
          },
          "metadata": {
            "needs_background": "light"
          }
        }
      ]
    },
    {
      "cell_type": "code",
      "metadata": {
        "colab": {
          "base_uri": "https://localhost:8080/",
          "height": 321
        },
        "id": "pjM_-19EisAZ",
        "outputId": "7f45ec6b-7c9b-493e-8645-c086a90d8804"
      },
      "source": [
        "dc_series = dc_df[\"'in_fmu1'.PTAC_Clg_Coil_Cooling_Rate\"]\n",
        "dc_series.plot()"
      ],
      "execution_count": null,
      "outputs": [
        {
          "output_type": "execute_result",
          "data": {
            "text/plain": [
              "<matplotlib.axes._subplots.AxesSubplot at 0x7f5311124c90>"
            ]
          },
          "metadata": {},
          "execution_count": 7
        },
        {
          "output_type": "display_data",
          "data": {
            "image/png": "[encoded data removed]",
            "text/plain": [
              "<Figure size 432x288 with 1 Axes>"
            ]
          },
          "metadata": {
            "needs_background": "light"
          }
        }
      ]
    },
    {
      "cell_type": "markdown",
      "metadata": {
        "id": "76SVwYt87oXK"
      },
      "source": [
        "## 3.2 Slice by Columns"
      ]
    },
    {
      "cell_type": "code",
      "metadata": {
        "colab": {
          "base_uri": "https://localhost:8080/"
        },
        "id": "osK1EEgitGl4",
        "outputId": "337a5bc7-678e-47d0-cac1-afc446efcd46"
      },
      "source": [
        "# print columns\n",
        "# [print(idx, col) for idx, col in enumerate(ac_df.columns)]\n",
        "\n",
        "# list of columns\n",
        "cols_list = []\n",
        "for col in dc_df.columns:\n",
        "    if col == 'Vin.P' or col == 'Vin.P1' or col.startswith(\"'in_fmu1'\") or col == 'EventCounter':\n",
        "        cols_list.append(col)\n",
        "\n",
        "cols_list"
      ],
      "execution_count": null,
      "outputs": [
        {
          "output_type": "execute_result",
          "data": {
            "text/plain": [
              "['Vin.P',\n",
              " \"'in_fmu1'._PlnmBLightsDriver_start\",\n",
              " \"'in_fmu1'.PlnmBLightsDriver\",\n",
              " \"'in_fmu1'._ZoneBPlugsConverters_start\",\n",
              " \"'in_fmu1'.ZoneBPlugsConverters\",\n",
              " \"'in_fmu1'._PlnmBDCHub_start\",\n",
              " \"'in_fmu1'.PlnmBDCHub\",\n",
              " \"'in_fmu1'.PTAC_Clg_Coil_Cooling_Rate\",\n",
              " \"'in_fmu1'.PTAC_Fan_electric_rate\",\n",
              " \"'in_fmu1'.PlnmB_zone_temp\",\n",
              " \"'in_fmu1'.ZoneB_zone_temp\",\n",
              " \"'in_fmu1'.site_outdoor_air_drybulb_temperature\",\n",
              " \"'in_fmu1'.PlnmB_electric_heating_rate\",\n",
              " \"'in_fmu1'.ZoneB_electric_heating_rate\",\n",
              " \"'in_fmu1'.PlnmB_lights_heating_rate\",\n",
              " \"'in_fmu1'.ZoneB_lights_heating_rate\",\n",
              " \"'in_fmu1'.PlnmB_cooling_setpoint\",\n",
              " \"'in_fmu1'.ZoneB_cooling_setpoint\",\n",
              " \"'in_fmu1'.cPlnmB_heating_setpoint\",\n",
              " \"'in_fmu1'.ZoneB_heating_setpoint\",\n",
              " \"'in_fmu1'.ZoneB_plugs_heating_rate\",\n",
              " \"'in_fmu1'.ZoneB_light_heating_rate\",\n",
              " \"'in_fmu1'.fmi_loggingOn\",\n",
              " \"'in_fmu1'.fmi_InputTime\",\n",
              " \"'in_fmu1'.fmi_UsePreOnInputSignals\",\n",
              " \"'in_fmu1'.fmi_StartTime\",\n",
              " \"'in_fmu1'.fmi_StopTime\",\n",
              " \"'in_fmu1'.fmi_NumberOfSteps\",\n",
              " \"'in_fmu1'.fmi_CommunicationStepSize\",\n",
              " \"'in_fmu1'.stepSizeScaleFactor\",\n",
              " \"'in_fmu1'.fmi_forceShutDownAtStopTime\",\n",
              " \"'in_fmu1'.fmi_rTol\",\n",
              " 'EventCounter']"
            ]
          },
          "metadata": {},
          "execution_count": 8
        }
      ]
    },
    {
      "cell_type": "code",
      "metadata": {
        "colab": {
          "base_uri": "https://localhost:8080/"
        },
        "id": "mGeB2Nrv3Y7P",
        "outputId": "e8fadd47-d01c-4d9e-b447-9e4345101149"
      },
      "source": [
        "# slice by columns (didn't work by looping)\n",
        "ac_df = ac_df.loc[:, cols_list]\n",
        "dc_df = dc_df.loc[:, cols_list]\n",
        "\n",
        "# show\n",
        "ac_df, dc_df"
      ],
      "execution_count": null,
      "outputs": [
        {
          "output_type": "execute_result",
          "data": {
            "text/plain": [
              "(                         Vin.P  ...  EventCounter\n",
              " datetime                        ...              \n",
              " 2020-11-11 00:00:00 -573.85675  ...             3\n",
              " 2020-11-11 00:15:00 -909.80334  ...             6\n",
              " 2020-11-11 00:30:00 -909.94086  ...             9\n",
              " 2020-11-11 00:45:00 -910.04400  ...            12\n",
              " 2020-11-11 01:00:00 -909.78754  ...            15\n",
              " ...                        ...  ...           ...\n",
              " 2020-11-16 23:00:00  -51.26476  ...          1719\n",
              " 2020-11-16 23:15:00  -51.26476  ...          1722\n",
              " 2020-11-16 23:30:00  -51.26476  ...          1725\n",
              " 2020-11-16 23:45:00  -51.26476  ...          1728\n",
              " 2020-11-17 00:00:00  -51.26476  ...          1731\n",
              " \n",
              " [577 rows x 33 columns],                            Vin.P  ...  EventCounter\n",
              " datetime                          ...              \n",
              " 2020-11-16 00:00:00   -16.598005  ...             3\n",
              " 2020-11-16 00:15:00 -1851.331200  ...             6\n",
              " 2020-11-16 00:30:00 -1851.397300  ...             9\n",
              " 2020-11-16 00:45:00 -1851.255500  ...            12\n",
              " 2020-11-16 01:00:00 -1851.209200  ...            15\n",
              " ...                          ...  ...           ...\n",
              " 2020-11-30 23:00:00   -16.598005  ...          4311\n",
              " 2020-11-30 23:15:00   -16.598005  ...          4314\n",
              " 2020-11-30 23:30:00   -16.598005  ...          4317\n",
              " 2020-11-30 23:45:00   -16.598005  ...          4320\n",
              " 2020-12-01 00:00:00   -16.598005  ...          4323\n",
              " \n",
              " [1441 rows x 33 columns])"
            ]
          },
          "metadata": {},
          "execution_count": 9
        }
      ]
    },
    {
      "cell_type": "code",
      "metadata": {
        "id": "GgubMlcvBFjY",
        "colab": {
          "base_uri": "https://localhost:8080/"
        },
        "outputId": "3f39a697-cbe4-4ade-da36-9ad66a21fb33"
      },
      "source": [
        "# rename columns\n",
        "for df in [ac_df, dc_df]: \n",
        "    for col in df.columns:\n",
        "        col_str = col.replace(\"'in_fmu1'.\", \"\")\n",
        "        df.rename(columns={col:col_str}, inplace=True)\n",
        "\n",
        "ac_df, dc_df"
      ],
      "execution_count": null,
      "outputs": [
        {
          "output_type": "execute_result",
          "data": {
            "text/plain": [
              "(                         Vin.P  ...  EventCounter\n",
              " datetime                        ...              \n",
              " 2020-11-11 00:00:00 -573.85675  ...             3\n",
              " 2020-11-11 00:15:00 -909.80334  ...             6\n",
              " 2020-11-11 00:30:00 -909.94086  ...             9\n",
              " 2020-11-11 00:45:00 -910.04400  ...            12\n",
              " 2020-11-11 01:00:00 -909.78754  ...            15\n",
              " ...                        ...  ...           ...\n",
              " 2020-11-16 23:00:00  -51.26476  ...          1719\n",
              " 2020-11-16 23:15:00  -51.26476  ...          1722\n",
              " 2020-11-16 23:30:00  -51.26476  ...          1725\n",
              " 2020-11-16 23:45:00  -51.26476  ...          1728\n",
              " 2020-11-17 00:00:00  -51.26476  ...          1731\n",
              " \n",
              " [577 rows x 33 columns],                            Vin.P  ...  EventCounter\n",
              " datetime                          ...              \n",
              " 2020-11-16 00:00:00   -16.598005  ...             3\n",
              " 2020-11-16 00:15:00 -1851.331200  ...             6\n",
              " 2020-11-16 00:30:00 -1851.397300  ...             9\n",
              " 2020-11-16 00:45:00 -1851.255500  ...            12\n",
              " 2020-11-16 01:00:00 -1851.209200  ...            15\n",
              " ...                          ...  ...           ...\n",
              " 2020-11-30 23:00:00   -16.598005  ...          4311\n",
              " 2020-11-30 23:15:00   -16.598005  ...          4314\n",
              " 2020-11-30 23:30:00   -16.598005  ...          4317\n",
              " 2020-11-30 23:45:00   -16.598005  ...          4320\n",
              " 2020-12-01 00:00:00   -16.598005  ...          4323\n",
              " \n",
              " [1441 rows x 33 columns])"
            ]
          },
          "metadata": {},
          "execution_count": 10
        }
      ]
    },
    {
      "cell_type": "markdown",
      "metadata": {
        "id": "iDZMb5oSVP6M"
      },
      "source": [
        "## 3.3 Slice by Rows"
      ]
    },
    {
      "cell_type": "code",
      "metadata": {
        "colab": {
          "base_uri": "https://localhost:8080/"
        },
        "id": "wNwYu-9XVHDL",
        "outputId": "47627c63-40cb-465e-ada8-c7103665c81a"
      },
      "source": [
        "# slice by rows\n",
        "ac_df = ac_df[ac_beg:ac_end]\n",
        "dc_df = dc_df[dc_beg:dc_end]\n",
        "\n",
        "# show\n",
        "ac_df, dc_df"
      ],
      "execution_count": null,
      "outputs": [
        {
          "output_type": "execute_result",
          "data": {
            "text/plain": [
              "(                          Vin.P  ...  EventCounter\n",
              " datetime                         ...              \n",
              " 2020-11-11 10:30:00  -900.78200  ...           129\n",
              " 2020-11-11 10:45:00  -571.27563  ...           132\n",
              " 2020-11-11 11:00:00  -573.24400  ...           135\n",
              " 2020-11-11 11:15:00  -573.78780  ...           138\n",
              " 2020-11-11 11:30:00  -573.82050  ...           141\n",
              " ...                         ...  ...           ...\n",
              " 2020-11-16 07:00:00 -1944.64830  ...          1527\n",
              " 2020-11-16 07:15:00 -1944.54680  ...          1530\n",
              " 2020-11-16 07:30:00 -1944.46960  ...          1533\n",
              " 2020-11-16 07:45:00 -1944.53980  ...          1536\n",
              " 2020-11-16 08:00:00 -1944.36390  ...          1539\n",
              " \n",
              " [471 rows x 33 columns],                          Vin.P  ...  EventCounter\n",
              " datetime                        ...              \n",
              " 2020-11-17 18:00:00 -602.23810  ...           507\n",
              " 2020-11-17 18:15:00 -803.09296  ...           510\n",
              " 2020-11-17 18:30:00 -803.10410  ...           513\n",
              " 2020-11-17 18:45:00 -803.13430  ...           516\n",
              " 2020-11-17 19:00:00 -803.09656  ...           519\n",
              " ...                        ...  ...           ...\n",
              " 2020-11-30 07:00:00 -602.51135  ...          4119\n",
              " 2020-11-30 07:15:00 -602.48740  ...          4122\n",
              " 2020-11-30 07:30:00 -602.49725  ...          4125\n",
              " 2020-11-30 07:45:00 -602.55160  ...          4128\n",
              " 2020-11-30 08:00:00 -602.50270  ...          4131\n",
              " \n",
              " [1209 rows x 33 columns])"
            ]
          },
          "metadata": {},
          "execution_count": 11
        }
      ]
    },
    {
      "cell_type": "code",
      "metadata": {
        "id": "d26Q-VsTm0Dg"
      },
      "source": [
        "ac_df.to_csv(os.path.join(out_dir, 'ac_fmu_data.csv'))\n",
        "dc_df.to_csv(os.path.join(out_dir, 'dc_fmu_data.csv'))"
      ],
      "execution_count": null,
      "outputs": []
    },
    {
      "cell_type": "markdown",
      "metadata": {
        "id": "CIdGrBlfgdG9"
      },
      "source": [
        "## 3.4 Separate"
      ]
    },
    {
      "cell_type": "code",
      "metadata": {
        "id": "Gv1lY2wCVg4F"
      },
      "source": [
        "# AC series\n",
        "ac_clg = ac_df[clg_col]\n",
        "ac_fan = ac_df[fan_col]\n",
        "ac_plnm_temp = ac_df[plnm_temp_col]\n",
        "ac_zone_temp = ac_df[zone_temp_col]\n",
        "ac_pwr = ac_df[pwr_col]\n",
        "\n",
        "# DC series\n",
        "dc_clg = dc_df[clg_col]\n",
        "dc_fan = dc_df[fan_col]\n",
        "dc_plnm_temp = dc_df[plnm_temp_col]\n",
        "dc_zone_temp = dc_df[zone_temp_col]\n",
        "dc_pwr = dc_df[pwr_col]"
      ],
      "execution_count": null,
      "outputs": []
    },
    {
      "cell_type": "markdown",
      "metadata": {
        "id": "NhlLRkghjd7k"
      },
      "source": [
        "# 4 Load"
      ]
    },
    {
      "cell_type": "code",
      "metadata": {
        "id": "cMOzHh8-iV3t"
      },
      "source": [
        "# AC CSV files\n",
        "ac_clg.to_csv(os.path.join(out_dir, 'AC_' + clg_col + '.csv'))\n",
        "ac_fan.to_csv(os.path.join(out_dir, 'AC_' + fan_col + '.csv'))\n",
        "ac_plnm_temp.to_csv(os.path.join(out_dir, 'AC_' + plnm_temp_col + '.csv'))\n",
        "ac_zone_temp.to_csv(os.path.join(out_dir, 'AC_' + zone_temp_col + '.csv'))\n",
        "ac_pwr.to_csv(os.path.join(out_dir, 'AC_' + pwr_col + '.csv'))\n",
        "\n",
        "# DC CSV files\n",
        "dc_clg.to_csv(os.path.join(out_dir, 'DC_' + clg_col + '.csv'))\n",
        "dc_fan.to_csv(os.path.join(out_dir, 'DC_' + fan_col + '.csv'))\n",
        "dc_plnm_temp.to_csv(os.path.join(out_dir, 'DC_' + plnm_temp_col + '.csv'))\n",
        "dc_zone_temp.to_csv(os.path.join(out_dir, 'DC_' + zone_temp_col + '.csv'))\n",
        "dc_pwr.to_csv(os.path.join(out_dir, 'DC_' + pwr_col + '.csv'))"
      ],
      "execution_count": null,
      "outputs": []
    },
    {
      "cell_type": "code",
      "metadata": {
        "id": "syIhI7efiX0s"
      },
      "source": [
        ""
      ],
      "execution_count": null,
      "outputs": []
    }
  ]
}