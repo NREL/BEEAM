{
  "nbformat": 4,
  "nbformat_minor": 0,
  "metadata": {
    "colab": {
      "name": "validation_ModelicaCSV.ipynb",
      "provenance": [],
      "collapsed_sections": [],
      "toc_visible": true,
      "include_colab_link": true
    },
    "kernelspec": {
      "name": "python3",
      "display_name": "Python 3"
    },
    "language_info": {
      "name": "python"
    }
  },
  "cells": [
    {
      "cell_type": "markdown",
      "metadata": {
        "id": "view-in-github",
        "colab_type": "text"
      },
      "source": [
        "<a href=\"https://colab.research.google.com/github/NREL/BEEAM/blob/flexlab-develop/FMU/flexlab_demo/notebooks/validation_ModelicaCSV.ipynb\" target=\"_parent\"><img src=\"https://colab.research.google.com/assets/colab-badge.svg\" alt=\"Open In Colab\"/></a>"
      ]
    },
    {
      "cell_type": "markdown",
      "metadata": {
        "id": "Aej_mzeL9T1f"
      },
      "source": [
        "# Purpose\n",
        "Transforms Modelica CSV files into separate CSV files for combining with measured data to calculate validation metrics of NMBE and CV(RMSE). Modelica CSV files are read from the https://github.com/NREL/BEEAM repository and the separated files are saved to the project's shared Google Drive. Note, this notebook is set up to be run from Google Drive."
      ]
    },
    {
      "cell_type": "code",
      "metadata": {
        "colab": {
          "base_uri": "https://localhost:8080/"
        },
        "id": "U3RsKOtqsRV0",
        "outputId": "036315ef-4588-457b-9c78-f9194654a2f7"
      },
      "source": [
        "# connect to goolgle drive\n",
        "from google.colab import drive\n",
        "drive.mount('/content/drive', force_remount=True)"
      ],
      "execution_count": null,
      "outputs": [
        {
          "output_type": "stream",
          "text": [
            "Mounted at /content/drive\n"
          ],
          "name": "stdout"
        }
      ]
    },
    {
      "cell_type": "code",
      "metadata": {
        "id": "GJGM0lW0sYBo"
      },
      "source": [
        "import os\n",
        "import pandas as pd"
      ],
      "execution_count": null,
      "outputs": []
    },
    {
      "cell_type": "markdown",
      "metadata": {
        "id": "CoCqHlPU5Trc"
      },
      "source": [
        "# 1 Setup"
      ]
    },
    {
      "cell_type": "code",
      "metadata": {
        "id": "gaCoOn_gsx62"
      },
      "source": [
        "# dir, paths\n",
        "in_dir = r'https://raw.githubusercontent.com/NREL/BEEAM/flexlab-develop/FMU/flexlab_ac_dc'\n",
        "out_dir = r'/content/drive/Shared drives/NREL DC Design Tool/Tasks/7 Validation/7.2 Whole Tool Validation/FLEXLAB/NREL OpenStudio Model/4 Validation'\n",
        "ac_csv_path = os.path.join(in_dir, 'AC/FlexLab_AC1.csv')\n",
        "dc_csv_path = os.path.join(in_dir, 'DC/FlexLab_DC.csv')\n",
        "\n",
        "# index column\n",
        "idx_col = 'Time'\n",
        "\n",
        "# origin for converting timestamps to datetime format\n",
        "origin = pd.Timestamp('2020-01-01 00:00')\n",
        "unit = 's'\n",
        "\n",
        "# AC experiment beginning and end timestamps\n",
        "ac_lo_beg = '2020-11-11 10:30'\n",
        "ac_lo_end = '2020-11-11 17:00'\n",
        "ac_md_beg = '2020-11-12 14:30'\n",
        "ac_md_end = '2020-11-13 11:30'\n",
        "ac_hi_beg = '2020-11-13 12:00'\n",
        "ac_hi_end = '2020-11-16 08:00'\n",
        "ac_beg = ac_lo_beg\n",
        "ac_end = ac_hi_end\n",
        "\n",
        "# DC experiment beginning and end timestamps\n",
        "dc_hi_beg = '2020-11-17 18:00'\n",
        "dc_hi_end = '2020-11-20 16:00'\n",
        "dc_lo_beg = '2020-11-23 11:30'\n",
        "dc_lo_end = '2020-11-25 08:45'\n",
        "dc_md_beg = '2020-11-25 09:30'\n",
        "dc_md_end = '2020-11-30 08:00'\n",
        "dc_beg = dc_hi_beg\n",
        "dc_end = dc_md_end\n",
        "\n",
        "# column names for separate files\n",
        "clg_col = 'PTAC_Clg_Coil_Cooling_Rate'\n",
        "fan_col = 'PTAC_Fan_electric_rate'\n",
        "plnm_temp_col = 'PlnmB_zone_temp'\n",
        "zone_temp_col = 'ZoneB_zone_temp'\n",
        "pwr_col = 'Vin.P'"
      ],
      "execution_count": null,
      "outputs": []
    },
    {
      "cell_type": "markdown",
      "metadata": {
        "id": "vvHjGC0X7C4B"
      },
      "source": [
        "# 2 Extract"
      ]
    },
    {
      "cell_type": "code",
      "metadata": {
        "colab": {
          "base_uri": "https://localhost:8080/"
        },
        "id": "QuAos29DtDKI",
        "outputId": "74ef8e71-4ce8-47ad-fee4-e5c91565ff2c"
      },
      "source": [
        "# read csvs to dataframes\n",
        "ac_df = pd.read_csv(ac_csv_path)\n",
        "dc_df = pd.read_csv(dc_csv_path)\n",
        "\n",
        "# show\n",
        "ac_df, dc_df"
      ],
      "execution_count": null,
      "outputs": [
        {
          "output_type": "execute_result",
          "data": {
            "text/plain": [
              "(            Time  systemDef.hrms[1]  ...   CPUtime  EventCounter\n",
              " 0     27216000.0                  1  ...  4.523843             3\n",
              " 1     27216900.0                  1  ...  4.524242             3\n",
              " 2     27216900.0                  1  ...  4.534403             6\n",
              " 3     27217800.0                  1  ...  4.534625             6\n",
              " 4     27217800.0                  1  ...  4.536173             9\n",
              " ...          ...                ...  ...       ...           ...\n",
              " 1148  27732600.0                  1  ...  5.891319          1725\n",
              " 1149  27733500.0                  1  ...  5.891603          1725\n",
              " 1150  27733500.0                  1  ...  5.893418          1728\n",
              " 1151  27734400.0                  1  ...  5.893698          1728\n",
              " 1152  27734400.0                  1  ...  5.896020          1731\n",
              " \n",
              " [1153 rows x 2463 columns],\n",
              "             Time  systemDef.hrms[1]  ...   CPUtime  EventCounter\n",
              " 0     27648000.0                  1  ...  4.593835             3\n",
              " 1     27648900.0                  1  ...  4.593967             3\n",
              " 2     27648900.0                  1  ...  4.601794             6\n",
              " 3     27649800.0                  1  ...  4.601849             6\n",
              " 4     27649800.0                  1  ...  4.602673             9\n",
              " ...          ...                ...  ...       ...           ...\n",
              " 2876  28942200.0                  1  ...  6.048766          4317\n",
              " 2877  28943100.0                  1  ...  6.048818          4317\n",
              " 2878  28943100.0                  1  ...  6.049783          4320\n",
              " 2879  28944000.0                  1  ...  6.049838          4320\n",
              " 2880  28944000.0                  1  ...  6.051178          4323\n",
              " \n",
              " [2881 rows x 452 columns])"
            ]
          },
          "metadata": {
            "tags": []
          },
          "execution_count": 4
        }
      ]
    },
    {
      "cell_type": "markdown",
      "metadata": {
        "id": "exja9N_57PLn"
      },
      "source": [
        "# 3 Transform"
      ]
    },
    {
      "cell_type": "markdown",
      "metadata": {
        "id": "zfhDNKnV7cdi"
      },
      "source": [
        "## 3.1 Timestamps"
      ]
    },
    {
      "cell_type": "code",
      "metadata": {
        "colab": {
          "base_uri": "https://localhost:8080/"
        },
        "id": "S-d_MEDlZwbI",
        "outputId": "c771c3cb-24ee-47ce-93f4-f81a1adda2e0"
      },
      "source": [
        "# loop through dataframes\n",
        "for df in [ac_df, dc_df]:\n",
        "    \n",
        "    # change time column to datetime format based on units and origin\n",
        "    df[idx_col] = pd.to_datetime(df[idx_col], unit=unit, origin=origin)\n",
        "\n",
        "    # add row of zeros at index -1 to end of dataframe to make rows even prior to removing duplicates\n",
        "    df.loc[-1] = 0\n",
        "\n",
        "    # shift index back to zero-based (not really needed)\n",
        "    df.index = df.index + 1\n",
        "\n",
        "    # sort index so that new row is first\n",
        "    df.sort_index(inplace=True)\n",
        "\n",
        "    # set time column of new first row to same value as second row\n",
        "    df.loc[0, idx_col] = df.loc[1, idx_col]\n",
        "\n",
        "    # drop duplicates\n",
        "    df.drop_duplicates(subset=[idx_col], keep='last', inplace=True)\n",
        "\n",
        "    # rename timestamp column\n",
        "    df.rename(columns={idx_col:'datetime'}, inplace=True)\n",
        "\n",
        "    # set index to time column\n",
        "    df.set_index('datetime', inplace=True)\n",
        "\n",
        "# show\n",
        "ac_df, dc_df"
      ],
      "execution_count": null,
      "outputs": [
        {
          "output_type": "execute_result",
          "data": {
            "text/plain": [
              "(                     systemDef.hrms[1]  ...  EventCounter\n",
              " datetime                                ...              \n",
              " 2020-11-11 00:00:00                  1  ...             3\n",
              " 2020-11-11 00:15:00                  1  ...             6\n",
              " 2020-11-11 00:30:00                  1  ...             9\n",
              " 2020-11-11 00:45:00                  1  ...            12\n",
              " 2020-11-11 01:00:00                  1  ...            15\n",
              " ...                                ...  ...           ...\n",
              " 2020-11-16 23:00:00                  1  ...          1719\n",
              " 2020-11-16 23:15:00                  1  ...          1722\n",
              " 2020-11-16 23:30:00                  1  ...          1725\n",
              " 2020-11-16 23:45:00                  1  ...          1728\n",
              " 2020-11-17 00:00:00                  1  ...          1731\n",
              " \n",
              " [577 rows x 2462 columns],\n",
              "                      systemDef.hrms[1]  ...  EventCounter\n",
              " datetime                                ...              \n",
              " 2020-11-16 00:00:00                  1  ...             3\n",
              " 2020-11-16 00:15:00                  1  ...             6\n",
              " 2020-11-16 00:30:00                  1  ...             9\n",
              " 2020-11-16 00:45:00                  1  ...            12\n",
              " 2020-11-16 01:00:00                  1  ...            15\n",
              " ...                                ...  ...           ...\n",
              " 2020-11-30 23:00:00                  1  ...          4311\n",
              " 2020-11-30 23:15:00                  1  ...          4314\n",
              " 2020-11-30 23:30:00                  1  ...          4317\n",
              " 2020-11-30 23:45:00                  1  ...          4320\n",
              " 2020-12-01 00:00:00                  1  ...          4323\n",
              " \n",
              " [1441 rows x 451 columns])"
            ]
          },
          "metadata": {
            "tags": []
          },
          "execution_count": 5
        }
      ]
    },
    {
      "cell_type": "code",
      "metadata": {
        "colab": {
          "base_uri": "https://localhost:8080/",
          "height": 321
        },
        "id": "OgNQ6B-QUIZs",
        "outputId": "71bd1a3d-7823-44ac-e730-8785d50b6236"
      },
      "source": [
        "ac_series = ac_df[\"'in_fmu1'.PTAC_Clg_Coil_Cooling_Rate\"]\n",
        "ac_series.plot()"
      ],
      "execution_count": null,
      "outputs": [
        {
          "output_type": "execute_result",
          "data": {
            "text/plain": [
              "<matplotlib.axes._subplots.AxesSubplot at 0x7f220e8603d0>"
            ]
          },
          "metadata": {
            "tags": []
          },
          "execution_count": 6
        },
        {
          "output_type": "display_data",
          "data": {
            "image/png": "[encoded data removed]",
            "text/plain": [
              "<Figure size 432x288 with 1 Axes>"
            ]
          },
          "metadata": {
            "tags": [],
            "needs_background": "light"
          }
        }
      ]
    },
    {
      "cell_type": "code",
      "metadata": {
        "colab": {
          "base_uri": "https://localhost:8080/",
          "height": 321
        },
        "id": "pjM_-19EisAZ",
        "outputId": "32290467-dd16-470b-da22-ad4e7e478c30"
      },
      "source": [
        "dc_series = dc_df[\"'in_fmu1'.PTAC_Clg_Coil_Cooling_Rate\"]\n",
        "dc_series.plot()"
      ],
      "execution_count": null,
      "outputs": [
        {
          "output_type": "execute_result",
          "data": {
            "text/plain": [
              "<matplotlib.axes._subplots.AxesSubplot at 0x7f2215106c90>"
            ]
          },
          "metadata": {
            "tags": []
          },
          "execution_count": 7
        },
        {
          "output_type": "display_data",
          "data": {
            "image/png": "[encoded data removed]",
            "text/plain": [
              "<Figure size 432x288 with 1 Axes>"
            ]
          },
          "metadata": {
            "tags": [],
            "needs_background": "light"
          }
        }
      ]
    },
    {
      "cell_type": "markdown",
      "metadata": {
        "id": "76SVwYt87oXK"
      },
      "source": [
        "## 3.2 Slice by Columns"
      ]
    },
    {
      "cell_type": "code",
      "metadata": {
        "colab": {
          "base_uri": "https://localhost:8080/"
        },
        "id": "osK1EEgitGl4",
        "outputId": "7b9e1a2b-c4a8-416b-f801-fdd536fac819"
      },
      "source": [
        "# print columns\n",
        "# [print(idx, col) for idx, col in enumerate(ac_df.columns)]\n",
        "\n",
        "# list of columns\n",
        "cols_list = []\n",
        "for col in ac_df.columns:\n",
        "    if col == 'Vin.P' or col == 'Vin.P1' or col.startswith(\"'in_fmu1'\") or col == 'EventCounter':\n",
        "        cols_list.append(col)\n",
        "\n",
        "cols_list"
      ],
      "execution_count": null,
      "outputs": [
        {
          "output_type": "execute_result",
          "data": {
            "text/plain": [
              "['Vin.P',\n",
              " 'Vin.P1',\n",
              " \"'in_fmu1'._PlnmBLightsDriver_start\",\n",
              " \"'in_fmu1'.PlnmBLightsDriver\",\n",
              " \"'in_fmu1'._ZoneBPlugsConverters_start\",\n",
              " \"'in_fmu1'.ZoneBPlugsConverters\",\n",
              " \"'in_fmu1'._PlnmBDCHub_start\",\n",
              " \"'in_fmu1'.PlnmBDCHub\",\n",
              " \"'in_fmu1'.PTAC_Clg_Coil_Cooling_Rate\",\n",
              " \"'in_fmu1'.PTAC_Fan_electric_rate\",\n",
              " \"'in_fmu1'.PlnmB_zone_temp\",\n",
              " \"'in_fmu1'.ZoneB_zone_temp\",\n",
              " \"'in_fmu1'.site_outdoor_air_drybulb_temperature\",\n",
              " \"'in_fmu1'.PlnmB_electric_heating_rate\",\n",
              " \"'in_fmu1'.ZoneB_electric_heating_rate\",\n",
              " \"'in_fmu1'.PlnmB_lights_heating_rate\",\n",
              " \"'in_fmu1'.ZoneB_lights_heating_rate\",\n",
              " \"'in_fmu1'.PlnmB_cooling_setpoint\",\n",
              " \"'in_fmu1'.ZoneB_cooling_setpoint\",\n",
              " \"'in_fmu1'.cPlnmB_heating_setpoint\",\n",
              " \"'in_fmu1'.ZoneB_heating_setpoint\",\n",
              " \"'in_fmu1'.ZoneB_plugs_heating_rate\",\n",
              " \"'in_fmu1'.ZoneB_light_heating_rate\",\n",
              " \"'in_fmu1'.fmi_loggingOn\",\n",
              " \"'in_fmu1'.fmi_InputTime\",\n",
              " \"'in_fmu1'.fmi_UsePreOnInputSignals\",\n",
              " \"'in_fmu1'.fmi_StartTime\",\n",
              " \"'in_fmu1'.fmi_StopTime\",\n",
              " \"'in_fmu1'.fmi_NumberOfSteps\",\n",
              " \"'in_fmu1'.fmi_CommunicationStepSize\",\n",
              " \"'in_fmu1'.stepSizeScaleFactor\",\n",
              " \"'in_fmu1'.fmi_forceShutDownAtStopTime\",\n",
              " \"'in_fmu1'.fmi_rTol\",\n",
              " 'EventCounter']"
            ]
          },
          "metadata": {
            "tags": []
          },
          "execution_count": 8
        }
      ]
    },
    {
      "cell_type": "code",
      "metadata": {
        "colab": {
          "base_uri": "https://localhost:8080/"
        },
        "id": "mGeB2Nrv3Y7P",
        "outputId": "ca3aa013-64f6-46aa-adef-238ed914a76e"
      },
      "source": [
        "# slice by columns (didn't work by looping)\n",
        "ac_df = ac_df.loc[:, cols_list]\n",
        "dc_df = dc_df.loc[:, cols_list]\n",
        "\n",
        "# show\n",
        "ac_df, dc_df"
      ],
      "execution_count": null,
      "outputs": [
        {
          "output_type": "execute_result",
          "data": {
            "text/plain": [
              "(                          Vin.P      Vin.P1  ...  'in_fmu1'.fmi_rTol  EventCounter\n",
              " datetime                                     ...                                  \n",
              " 2020-11-11 00:00:00 -573.551500 -573.551500  ...            0.000001             3\n",
              " 2020-11-11 00:15:00 -909.241100 -909.241100  ...            0.000001             6\n",
              " 2020-11-11 00:30:00 -909.378200 -909.378200  ...            0.000001             9\n",
              " 2020-11-11 00:45:00 -909.481200 -909.481200  ...            0.000001            12\n",
              " 2020-11-11 01:00:00 -909.225300 -909.225300  ...            0.000001            15\n",
              " ...                         ...         ...  ...                 ...           ...\n",
              " 2020-11-16 23:00:00  -51.253025  -51.253025  ...            0.000001          1719\n",
              " 2020-11-16 23:15:00  -51.253025  -51.253025  ...            0.000001          1722\n",
              " 2020-11-16 23:30:00  -51.253025  -51.253025  ...            0.000001          1725\n",
              " 2020-11-16 23:45:00  -51.253025  -51.253025  ...            0.000001          1728\n",
              " 2020-11-17 00:00:00  -51.253025  -51.253025  ...            0.000001          1731\n",
              " \n",
              " [577 rows x 34 columns],\n",
              "                            Vin.P       Vin.P1  ...  'in_fmu1'.fmi_rTol  EventCounter\n",
              " datetime                                       ...                                  \n",
              " 2020-11-16 00:00:00   -16.598005   -16.598005  ...            0.000001             3\n",
              " 2020-11-16 00:15:00 -1782.883900 -1782.883900  ...            0.000001             6\n",
              " 2020-11-16 00:30:00 -1782.947100 -1782.947100  ...            0.000001             9\n",
              " 2020-11-16 00:45:00 -1782.811600 -1782.811600  ...            0.000001            12\n",
              " 2020-11-16 01:00:00 -1782.767600 -1782.767600  ...            0.000001            15\n",
              " ...                          ...          ...  ...                 ...           ...\n",
              " 2020-11-30 23:00:00   -16.598005   -16.598005  ...            0.000001          4311\n",
              " 2020-11-30 23:15:00   -16.598005   -16.598005  ...            0.000001          4314\n",
              " 2020-11-30 23:30:00   -16.598005   -16.598005  ...            0.000001          4317\n",
              " 2020-11-30 23:45:00   -16.598005   -16.598005  ...            0.000001          4320\n",
              " 2020-12-01 00:00:00   -16.598005   -16.598005  ...            0.000001          4323\n",
              " \n",
              " [1441 rows x 34 columns])"
            ]
          },
          "metadata": {
            "tags": []
          },
          "execution_count": 9
        }
      ]
    },
    {
      "cell_type": "code",
      "metadata": {
        "id": "GgubMlcvBFjY",
        "colab": {
          "base_uri": "https://localhost:8080/"
        },
        "outputId": "6570bc90-4c68-4e19-f477-3f31ec8154ab"
      },
      "source": [
        "# rename columns\n",
        "for df in [ac_df, dc_df]:\n",
        "    for col in df.columns:\n",
        "        col_str = col.replace(\"'in_fmu1'.\", \"\")\n",
        "        df.rename(columns={col:col_str}, inplace=True)\n",
        "\n",
        "ac_df, dc_df"
      ],
      "execution_count": null,
      "outputs": [
        {
          "output_type": "execute_result",
          "data": {
            "text/plain": [
              "(                          Vin.P      Vin.P1  ...  fmi_rTol  EventCounter\n",
              " datetime                                     ...                        \n",
              " 2020-11-11 00:00:00 -573.551500 -573.551500  ...  0.000001             3\n",
              " 2020-11-11 00:15:00 -909.241100 -909.241100  ...  0.000001             6\n",
              " 2020-11-11 00:30:00 -909.378200 -909.378200  ...  0.000001             9\n",
              " 2020-11-11 00:45:00 -909.481200 -909.481200  ...  0.000001            12\n",
              " 2020-11-11 01:00:00 -909.225300 -909.225300  ...  0.000001            15\n",
              " ...                         ...         ...  ...       ...           ...\n",
              " 2020-11-16 23:00:00  -51.253025  -51.253025  ...  0.000001          1719\n",
              " 2020-11-16 23:15:00  -51.253025  -51.253025  ...  0.000001          1722\n",
              " 2020-11-16 23:30:00  -51.253025  -51.253025  ...  0.000001          1725\n",
              " 2020-11-16 23:45:00  -51.253025  -51.253025  ...  0.000001          1728\n",
              " 2020-11-17 00:00:00  -51.253025  -51.253025  ...  0.000001          1731\n",
              " \n",
              " [577 rows x 34 columns],\n",
              "                            Vin.P       Vin.P1  ...  fmi_rTol  EventCounter\n",
              " datetime                                       ...                        \n",
              " 2020-11-16 00:00:00   -16.598005   -16.598005  ...  0.000001             3\n",
              " 2020-11-16 00:15:00 -1782.883900 -1782.883900  ...  0.000001             6\n",
              " 2020-11-16 00:30:00 -1782.947100 -1782.947100  ...  0.000001             9\n",
              " 2020-11-16 00:45:00 -1782.811600 -1782.811600  ...  0.000001            12\n",
              " 2020-11-16 01:00:00 -1782.767600 -1782.767600  ...  0.000001            15\n",
              " ...                          ...          ...  ...       ...           ...\n",
              " 2020-11-30 23:00:00   -16.598005   -16.598005  ...  0.000001          4311\n",
              " 2020-11-30 23:15:00   -16.598005   -16.598005  ...  0.000001          4314\n",
              " 2020-11-30 23:30:00   -16.598005   -16.598005  ...  0.000001          4317\n",
              " 2020-11-30 23:45:00   -16.598005   -16.598005  ...  0.000001          4320\n",
              " 2020-12-01 00:00:00   -16.598005   -16.598005  ...  0.000001          4323\n",
              " \n",
              " [1441 rows x 34 columns])"
            ]
          },
          "metadata": {
            "tags": []
          },
          "execution_count": 10
        }
      ]
    },
    {
      "cell_type": "markdown",
      "metadata": {
        "id": "iDZMb5oSVP6M"
      },
      "source": [
        "## 3.3 Slice by Rows"
      ]
    },
    {
      "cell_type": "code",
      "metadata": {
        "colab": {
          "base_uri": "https://localhost:8080/"
        },
        "id": "wNwYu-9XVHDL",
        "outputId": "844b2b96-70ee-4ec6-829a-9c4a6ccff38b"
      },
      "source": [
        "# slice by rows\n",
        "ac_df = ac_df[ac_beg:ac_end]\n",
        "dc_df = dc_df[dc_beg:dc_end]\n",
        "\n",
        "# show\n",
        "ac_df, dc_df"
      ],
      "execution_count": null,
      "outputs": [
        {
          "output_type": "execute_result",
          "data": {
            "text/plain": [
              "(                          Vin.P      Vin.P1  ...  fmi_rTol  EventCounter\n",
              " datetime                                     ...                        \n",
              " 2020-11-11 10:30:00  -900.22327  -900.22327  ...  0.000001           129\n",
              " 2020-11-11 10:45:00  -570.97090  -570.97090  ...  0.000001           132\n",
              " 2020-11-11 11:00:00  -572.93890  -572.93890  ...  0.000001           135\n",
              " 2020-11-11 11:15:00  -573.48260  -573.48260  ...  0.000001           138\n",
              " 2020-11-11 11:30:00  -573.51526  -573.51526  ...  0.000001           141\n",
              " ...                         ...         ...  ...       ...           ...\n",
              " 2020-11-16 07:00:00 -1940.19270 -1940.19270  ...  0.000001          1527\n",
              " 2020-11-16 07:15:00 -1940.09120 -1940.09120  ...  0.000001          1530\n",
              " 2020-11-16 07:30:00 -1940.01420 -1940.01420  ...  0.000001          1533\n",
              " 2020-11-16 07:45:00 -1940.08420 -1940.08420  ...  0.000001          1536\n",
              " 2020-11-16 08:00:00 -1939.90840 -1939.90840  ...  0.000001          1539\n",
              " \n",
              " [471 rows x 34 columns],\n",
              "                          Vin.P     Vin.P1  ...  fmi_rTol  EventCounter\n",
              " datetime                                   ...                        \n",
              " 2020-11-17 18:00:00 -592.96344 -592.96344  ...  0.000001           507\n",
              " 2020-11-17 18:15:00 -791.08624 -791.08624  ...  0.000001           510\n",
              " 2020-11-17 18:30:00 -791.09700 -791.09700  ...  0.000001           513\n",
              " 2020-11-17 18:45:00 -791.12620 -791.12620  ...  0.000001           516\n",
              " 2020-11-17 19:00:00 -791.08970 -791.08970  ...  0.000001           519\n",
              " ...                        ...        ...  ...       ...           ...\n",
              " 2020-11-30 07:00:00 -595.77515 -595.77515  ...  0.000001          4119\n",
              " 2020-11-30 07:15:00 -595.75170 -595.75170  ...  0.000001          4122\n",
              " 2020-11-30 07:30:00 -595.76130 -595.76130  ...  0.000001          4125\n",
              " 2020-11-30 07:45:00 -595.81450 -595.81450  ...  0.000001          4128\n",
              " 2020-11-30 08:00:00 -595.76660 -595.76660  ...  0.000001          4131\n",
              " \n",
              " [1209 rows x 34 columns])"
            ]
          },
          "metadata": {
            "tags": []
          },
          "execution_count": 11
        }
      ]
    },
    {
      "cell_type": "code",
      "metadata": {
        "id": "d26Q-VsTm0Dg"
      },
      "source": [
        "ac_df.to_csv(os.path.join(out_dir, 'ac_fmu_data.csv'))\n",
        "dc_df.to_csv(os.path.join(out_dir, 'dc_fmu_data.csv'))"
      ],
      "execution_count": null,
      "outputs": []
    },
    {
      "cell_type": "markdown",
      "metadata": {
        "id": "CIdGrBlfgdG9"
      },
      "source": [
        "## 3.4 Separate"
      ]
    },
    {
      "cell_type": "code",
      "metadata": {
        "id": "Gv1lY2wCVg4F"
      },
      "source": [
        "# AC series\n",
        "ac_clg = ac_df[clg_col]\n",
        "ac_fan = ac_df[fan_col]\n",
        "ac_plnm_temp = ac_df[plnm_temp_col]\n",
        "ac_zone_temp = ac_df[zone_temp_col]\n",
        "ac_pwr = ac_df[pwr_col]\n",
        "\n",
        "# DC series\n",
        "dc_clg = dc_df[clg_col]\n",
        "dc_fan = dc_df[fan_col]\n",
        "dc_plnm_temp = dc_df[plnm_temp_col]\n",
        "dc_zone_temp = dc_df[zone_temp_col]\n",
        "dc_pwr = dc_df[pwr_col]"
      ],
      "execution_count": null,
      "outputs": []
    },
    {
      "cell_type": "markdown",
      "metadata": {
        "id": "NhlLRkghjd7k"
      },
      "source": [
        "# 4 Load"
      ]
    },
    {
      "cell_type": "code",
      "metadata": {
        "id": "cMOzHh8-iV3t"
      },
      "source": [
        "# AC CSV files\n",
        "ac_clg.to_csv(os.path.join(out_dir, 'AC_' + clg_col + '.csv'))\n",
        "ac_fan.to_csv(os.path.join(out_dir, 'AC_' + fan_col + '.csv'))\n",
        "ac_plnm_temp.to_csv(os.path.join(out_dir, 'AC_' + plnm_temp_col + '.csv'))\n",
        "ac_zone_temp.to_csv(os.path.join(out_dir, 'AC_' + zone_temp_col + '.csv'))\n",
        "ac_pwr.to_csv(os.path.join(out_dir, 'AC_' + pwr_col + '.csv'))\n",
        "\n",
        "# DC CSV files\n",
        "dc_clg.to_csv(os.path.join(out_dir, 'DC_' + clg_col + '.csv'))\n",
        "dc_fan.to_csv(os.path.join(out_dir, 'DC_' + fan_col + '.csv'))\n",
        "dc_plnm_temp.to_csv(os.path.join(out_dir, 'DC_' + plnm_temp_col + '.csv'))\n",
        "dc_zone_temp.to_csv(os.path.join(out_dir, 'DC_' + zone_temp_col + '.csv'))\n",
        "dc_pwr.to_csv(os.path.join(out_dir, 'DC_' + pwr_col + '.csv'))"
      ],
      "execution_count": null,
      "outputs": []
    },
    {
      "cell_type": "code",
      "metadata": {
        "id": "syIhI7efiX0s"
      },
      "source": [
        ""
      ],
      "execution_count": null,
      "outputs": []
    }
  ]
}