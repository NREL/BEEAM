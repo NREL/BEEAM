{
  "nbformat": 4,
  "nbformat_minor": 0,
  "metadata": {
    "colab": {
      "name": "validation_NMBE_CVRMSE.ipynb",
      "provenance": [],
      "collapsed_sections": [],
      "toc_visible": true,
      "authorship_tag": "ABX9TyNdBj8/NRPUrdVUQBvKdo3q",
      "include_colab_link": true
    },
    "kernelspec": {
      "name": "python3",
      "display_name": "Python 3"
    }
  },
  "cells": [
    {
      "cell_type": "markdown",
      "metadata": {
        "id": "view-in-github",
        "colab_type": "text"
      },
      "source": [
        "<a href=\"https://colab.research.google.com/github/NREL/BEEAM/blob/flexlab-develop/FMU/flexlab_demo/notebooks/validation_NMBE_CVRMSE.ipynb\" target=\"_parent\"><img src=\"https://colab.research.google.com/assets/colab-badge.svg\" alt=\"Open In Colab\"/></a>"
      ]
    },
    {
      "cell_type": "markdown",
      "metadata": {
        "id": "NgAZb_3bRM2e"
      },
      "source": [
        "# Purpose\n",
        "Extracts observed and predicted CSV data, calculates NMBE and CV(RMSE), and loads plots."
      ]
    },
    {
      "cell_type": "code",
      "metadata": {
        "colab": {
          "base_uri": "https://localhost:8080/"
        },
        "id": "IR5OQSzEy0eu",
        "outputId": "10c8ce06-1395-4b66-949a-7d7120326ded"
      },
      "source": [
        "# connect to goolgle drive\n",
        "from google.colab import drive\n",
        "drive.mount('/content/drive', force_remount=True)"
      ],
      "execution_count": null,
      "outputs": [
        {
          "output_type": "stream",
          "text": [
            "Mounted at /content/drive\n"
          ],
          "name": "stdout"
        }
      ]
    },
    {
      "cell_type": "code",
      "metadata": {
        "id": "3NKdMYi0y84Y"
      },
      "source": [
        "# import libraries\n",
        "import math\n",
        "import matplotlib.pyplot as plt\n",
        "import numpy as np\n",
        "import os\n",
        "import pandas as pd\n",
        "import seaborn as sns"
      ],
      "execution_count": null,
      "outputs": []
    },
    {
      "cell_type": "markdown",
      "metadata": {
        "id": "sj-6IuPnWGjs"
      },
      "source": [
        "# 1 Setup"
      ]
    },
    {
      "cell_type": "code",
      "metadata": {
        "id": "klQeAYoCzODN"
      },
      "source": [
        "# dir\n",
        "dir = r'/content/drive/Shared drives/NREL DC Design Tool/Tasks/7 Validation/7.2 Whole Tool Validation/FLEXLAB'\n",
        "\n",
        "# observed data dir and paths\n",
        "obs_dir = dir + r'/FL_Data'\n",
        "obs_elec_path = os.path.join(obs_dir, 'Raw/data_FL.csv')\n",
        "obs_mech_path = os.path.join(obs_dir, 'Transformed/chw_fan_15min.csv')\n",
        "obs_temp_path = os.path.join(obs_dir, 'Transformed/Strat Tree Data Export_average_15min.csv')\n",
        "\n",
        "# predicted data dir\n",
        "pre_dir = dir + r'/NREL OpenStudio Model/4 Validation'\n",
        "\n",
        "# predicted data paths: AC experiment\n",
        "ac_clg_path = os.path.join(pre_dir, 'AC_PTAC_Clg_Coil_Cooling_Rate.csv')\n",
        "ac_fan_path = os.path.join(pre_dir, 'AC_PTAC_Fan_electric_rate.csv')\n",
        "ac_plnm_temp_path = os.path.join(pre_dir, 'AC_PlnmB_zone_temp.csv')\n",
        "ac_zone_temp_path = os.path.join(pre_dir, 'AC_ZoneB_zone_temp.csv')\n",
        "ac_pwr_path = os.path.join(pre_dir, 'AC_Vin.P.csv')\n",
        "\n",
        "# predicted data paths: DC experiment\n",
        "dc_clg_path = os.path.join(pre_dir, 'DC_PTAC_Clg_Coil_Cooling_Rate.csv')\n",
        "dc_fan_path = os.path.join(pre_dir, 'DC_PTAC_Fan_electric_rate.csv')\n",
        "dc_plnm_temp_path = os.path.join(pre_dir, 'DC_PlnmB_zone_temp.csv')\n",
        "dc_zone_temp_path = os.path.join(pre_dir, 'DC_ZoneB_zone_temp.csv')\n",
        "dc_pwr_path = os.path.join(pre_dir, 'DC_Vin.P.csv')\n",
        "\n",
        "# index column name\n",
        "idx_col = 'datetime'\n",
        "\n",
        "# column names\n",
        "obs_col_name = 'Measured'\n",
        "pre_col_name = 'Modeled'\n",
        "\n",
        "# resample rule for raw data\n",
        "resample_rule = '15T' \n",
        "\n",
        "# AC experiment beginning and end timestamps\n",
        "ac_lo_beg = '2020-11-11 10:30'\n",
        "ac_lo_end = '2020-11-11 17:00'\n",
        "ac_md_beg = '2020-11-12 14:30'\n",
        "ac_md_end = '2020-11-13 11:30'\n",
        "ac_hi_beg = '2020-11-13 12:00'\n",
        "ac_hi_end = '2020-11-16 08:00'\n",
        "ac_beg = ac_lo_beg\n",
        "ac_end = ac_hi_end\n",
        "\n",
        "# DC experiment beginning and end timestamps\n",
        "dc_hi_beg = '2020-11-17 18:00'\n",
        "dc_hi_end = '2020-11-20 16:00'\n",
        "dc_lo_beg = '2020-11-23 11:30'\n",
        "dc_lo_end = '2020-11-25 08:45'\n",
        "dc_md_beg = '2020-11-25 09:30'\n",
        "dc_md_end = '2020-11-30 08:00'\n",
        "dc_beg = dc_hi_beg\n",
        "dc_end = dc_md_end"
      ],
      "execution_count": null,
      "outputs": []
    },
    {
      "cell_type": "markdown",
      "metadata": {
        "id": "jGn_su1UXsFm"
      },
      "source": [
        "$ NMBE = \\sum_{i=1}^n (y_i - \\hat{y_i} ) / (n - p) * \\bar{y} $\n",
        "\n",
        "$ CV(RMSE) = \\sqrt{ \\sum{ (y_i - \\hat{y_i})^2 } / (n - p) } / \\bar{y} $\n",
        "\n",
        "where\n",
        "\n",
        "> $ y_i = $ single observed (measured) value\n",
        ">\n",
        "> $ \\hat{y_i} = $ single predicted (modeled) value\n",
        ">\n",
        "> $ n = $ number of data points or periods\n",
        ">\n",
        "> $ p = $ number of parameters or terms in the\n",
        "baseline model\n",
        ">\n",
        "> $ \\bar{y} = $ arithmetic mean of the sample of n\n",
        "observations\n"
      ]
    },
    {
      "cell_type": "code",
      "metadata": {
        "id": "V8ApBlkGvbNx"
      },
      "source": [
        "# function for calcs\n",
        "def calcs(pre_minus_obs_series, obs_series, pre_minus_obs_squared_series):\n",
        "\n",
        "    # NMBE sum\n",
        "    nmbe_sum = pre_minus_obs_series.sum()\n",
        "    print(f'NMBE sum = {nmbe_sum}')\n",
        "\n",
        "    # number of data points\n",
        "    n = obs_series.count()\n",
        "    print(f'n = {n}')\n",
        "\n",
        "    # number of parameters\n",
        "    p = 1\n",
        "\n",
        "    # mean of samples\n",
        "    y_bar = obs_series.mean()\n",
        "    print(f'y_bar = {y_bar}')\n",
        "\n",
        "    # calculate NMBE\n",
        "    nmbe = nmbe_sum / ((n - p) * y_bar)\n",
        "    nmbe_pct = nmbe * 100\n",
        "    print(f'NMBE = {nmbe}')\n",
        "\n",
        "    # sum of sqaures for CV(RMSE)\n",
        "    cvrmse_sum = pre_minus_obs_squared_series.sum()\n",
        "    # print(f'CV(RMSE) sum = {cvrmse_sum}')\n",
        "\n",
        "    # calculate CV(RMSE)\n",
        "    cvrmse = (cvrmse_sum / (n - p))**0.5 / y_bar\n",
        "    cvrmse_pct = cvrmse * 100\n",
        "    print(f'CV(RMSE) = {cvrmse}')\n",
        "\n",
        "    return {'nmbe':nmbe_pct, 'cvrmse':cvrmse_pct}"
      ],
      "execution_count": null,
      "outputs": []
    },
    {
      "cell_type": "markdown",
      "metadata": {
        "id": "c43r0GZ1Wrrh"
      },
      "source": [
        "# 2 Extract"
      ]
    },
    {
      "cell_type": "code",
      "metadata": {
        "id": "qdqozjeWTuHm",
        "colab": {
          "base_uri": "https://localhost:8080/"
        },
        "outputId": "f6e012a5-73d1-48ce-b8d4-6dfc137c370a"
      },
      "source": [
        "# raw data\n",
        "# obs_df = pd.read_csv(obs_path)\n",
        "\n",
        "# observed data: electrical\n",
        "obs_elec_df = pd.read_csv(obs_elec_path)\n",
        "obs_raw_elec_ac_df = pd.DataFrame(obs_elec_df.loc[:, obs_elec_df.columns[0:10]])\n",
        "obs_raw_elec_dc_df = pd.DataFrame(data={'time':obs_elec_df['time'], 'DC_Power_Hub':obs_elec_df['DC_Power_Hub']})\n",
        "\n",
        "# observed data: mechanical\n",
        "obs_mech_df = pd.read_csv(obs_mech_path)\n",
        "# obs_raw_mech_df = pd.DataFrame(data={'time':obs_df['time'], 'HVAC_Thermal_Load':obs_df['HVAC_Thermal_Load']})\n",
        "\n",
        "# observed data: temperatures\n",
        "obs_temp_df = pd.read_csv(obs_temp_path)\n",
        "\n",
        "# predicted data: AC\n",
        "pre_ac_clg_df = pd.read_csv(ac_clg_path)\n",
        "pre_ac_fan_df = pd.read_csv(ac_fan_path)\n",
        "pre_ac_plnm_temp_df = pd.read_csv(ac_plnm_temp_path)\n",
        "pre_ac_zone_temp_df = pd.read_csv(ac_zone_temp_path)\n",
        "pre_ac_pwr_df = pd.read_csv(ac_pwr_path)\n",
        "\n",
        "# predicted data: DC\n",
        "pre_dc_clg_df = pd.read_csv(dc_clg_path)\n",
        "pre_dc_fan_df = pd.read_csv(dc_fan_path)\n",
        "pre_dc_plnm_temp_df = pd.read_csv(dc_plnm_temp_path)\n",
        "pre_dc_zone_temp_df = pd.read_csv(dc_zone_temp_path)\n",
        "pre_dc_pwr_df = pd.read_csv(dc_pwr_path)\n",
        "\n",
        "# lists for looping\n",
        "raw_df_list = [obs_raw_elec_ac_df, obs_raw_elec_dc_df]\n",
        "\n",
        "not_raw_df_list = [obs_mech_df, obs_temp_df,\n",
        "                   pre_ac_clg_df, pre_ac_fan_df, pre_ac_plnm_temp_df, pre_ac_zone_temp_df, pre_ac_pwr_df,\n",
        "                   pre_dc_clg_df, pre_dc_fan_df, pre_dc_plnm_temp_df, pre_dc_zone_temp_df, pre_dc_pwr_df]           \n",
        "\n",
        "obs_raw_elec_ac_df, obs_temp_df"
      ],
      "execution_count": null,
      "outputs": [
        {
          "output_type": "execute_result",
          "data": {
            "text/plain": [
              "(                      time  ...  West_desk_plug_load_emulators\n",
              " 0      2020-10-30 00:00:00  ...                      31.880844\n",
              " 1      2020-10-30 00:01:00  ...                      31.878972\n",
              " 2      2020-10-30 00:02:00  ...                      31.913479\n",
              " 3      2020-10-30 00:03:00  ...                      31.973615\n",
              " 4      2020-10-30 00:04:00  ...                      31.986319\n",
              " ...                    ...  ...                            ...\n",
              " 46075  2020-11-30 23:55:00  ...                       0.364146\n",
              " 46076  2020-11-30 23:56:00  ...                       0.368845\n",
              " 46077  2020-11-30 23:57:00  ...                       0.331812\n",
              " 46078  2020-11-30 23:58:00  ...                       0.353618\n",
              " 46079  2020-11-30 23:59:00  ...                       0.342477\n",
              " \n",
              " [46080 rows x 10 columns],                  datetime  zone_temp  plnm_temp\n",
              " 0     2020-10-30 00:00:00  25.642054  23.693248\n",
              " 1     2020-10-30 00:15:00  25.685371  23.685806\n",
              " 2     2020-10-30 00:30:00  25.733244  23.701334\n",
              " 3     2020-10-30 00:45:00  25.775576  23.710255\n",
              " 4     2020-10-30 01:00:00  25.817978  23.719775\n",
              " ...                   ...        ...        ...\n",
              " 3051  2020-11-30 18:45:00  23.510949  23.481169\n",
              " 3052  2020-11-30 19:00:00  23.634501  23.489393\n",
              " 3053  2020-11-30 19:15:00  23.627450  23.474090\n",
              " 3054  2020-11-30 19:30:00  23.574687  23.430209\n",
              " 3055  2020-11-30 19:45:00  23.526115  23.407994\n",
              " \n",
              " [3056 rows x 3 columns])"
            ]
          },
          "metadata": {
            "tags": []
          },
          "execution_count": 20
        }
      ]
    },
    {
      "cell_type": "markdown",
      "metadata": {
        "id": "Ievd7SzIWxUu"
      },
      "source": [
        "# 3 Transform"
      ]
    },
    {
      "cell_type": "code",
      "metadata": {
        "colab": {
          "base_uri": "https://localhost:8080/",
          "height": 712
        },
        "id": "Ye2FXYXOmkXb",
        "outputId": "a2eef739-4010-4cd3-be8c-ef79d37278d5"
      },
      "source": [
        "# loop through raw dataframes\n",
        "for df in raw_df_list:\n",
        "    \n",
        "    # print columns\n",
        "    [print(col) for col in df.columns]\n",
        "    print('')\n",
        "\n",
        "    # rename timestamp column\n",
        "    df.rename(columns={'time':idx_col}, inplace=True)\n",
        "\n",
        "    # convert timestamp\n",
        "    df[idx_col] = pd.to_datetime(df[idx_col])\n",
        "\n",
        "    # set index\n",
        "    df.set_index(idx_col, inplace=True)\n",
        "\n",
        "    # resample...doesn't work in a loop\n",
        "    # df = df.resample(resample_rule).mean()\n",
        "\n",
        "# show\n",
        "obs_raw_elec_ac_df"
      ],
      "execution_count": null,
      "outputs": [
        {
          "output_type": "stream",
          "text": [
            "time\n",
            "AC_LED_Fixture_1\n",
            "AC_LED_Fixture_2\n",
            "AC_LED_Fixture_3\n",
            "AC_LED_Fixture_4\n",
            "AC_LED_Fixture_5\n",
            "AC_LED_Fixture_6\n",
            "North_desk_plug_load_emulators\n",
            "East_desk_plug_load_emulators\n",
            "West_desk_plug_load_emulators\n",
            "\n",
            "time\n",
            "DC_Power_Hub\n",
            "\n"
          ],
          "name": "stdout"
        },
        {
          "output_type": "execute_result",
          "data": {
            "text/html": [
              "<div>\n",
              "<style scoped>\n",
              "    .dataframe tbody tr th:only-of-type {\n",
              "        vertical-align: middle;\n",
              "    }\n",
              "\n",
              "    .dataframe tbody tr th {\n",
              "        vertical-align: top;\n",
              "    }\n",
              "\n",
              "    .dataframe thead th {\n",
              "        text-align: right;\n",
              "    }\n",
              "</style>\n",
              "<table border=\"1\" class=\"dataframe\">\n",
              "  <thead>\n",
              "    <tr style=\"text-align: right;\">\n",
              "      <th></th>\n",
              "      <th>AC_LED_Fixture_1</th>\n",
              "      <th>AC_LED_Fixture_2</th>\n",
              "      <th>AC_LED_Fixture_3</th>\n",
              "      <th>AC_LED_Fixture_4</th>\n",
              "      <th>AC_LED_Fixture_5</th>\n",
              "      <th>AC_LED_Fixture_6</th>\n",
              "      <th>North_desk_plug_load_emulators</th>\n",
              "      <th>East_desk_plug_load_emulators</th>\n",
              "      <th>West_desk_plug_load_emulators</th>\n",
              "    </tr>\n",
              "    <tr>\n",
              "      <th>datetime</th>\n",
              "      <th></th>\n",
              "      <th></th>\n",
              "      <th></th>\n",
              "      <th></th>\n",
              "      <th></th>\n",
              "      <th></th>\n",
              "      <th></th>\n",
              "      <th></th>\n",
              "      <th></th>\n",
              "    </tr>\n",
              "  </thead>\n",
              "  <tbody>\n",
              "    <tr>\n",
              "      <th>2020-10-30 00:00:00</th>\n",
              "      <td>-0.022646</td>\n",
              "      <td>0.043686</td>\n",
              "      <td>-0.011733</td>\n",
              "      <td>0.068407</td>\n",
              "      <td>0.025879</td>\n",
              "      <td>0.067042</td>\n",
              "      <td>30.912129</td>\n",
              "      <td>31.659119</td>\n",
              "      <td>31.880844</td>\n",
              "    </tr>\n",
              "    <tr>\n",
              "      <th>2020-10-30 00:01:00</th>\n",
              "      <td>-0.020743</td>\n",
              "      <td>0.043564</td>\n",
              "      <td>-0.015013</td>\n",
              "      <td>0.068242</td>\n",
              "      <td>0.025999</td>\n",
              "      <td>0.066976</td>\n",
              "      <td>30.854053</td>\n",
              "      <td>31.657970</td>\n",
              "      <td>31.878972</td>\n",
              "    </tr>\n",
              "    <tr>\n",
              "      <th>2020-10-30 00:02:00</th>\n",
              "      <td>-0.021927</td>\n",
              "      <td>0.043721</td>\n",
              "      <td>-0.015699</td>\n",
              "      <td>0.068486</td>\n",
              "      <td>0.026037</td>\n",
              "      <td>0.067066</td>\n",
              "      <td>30.860608</td>\n",
              "      <td>31.671665</td>\n",
              "      <td>31.913479</td>\n",
              "    </tr>\n",
              "    <tr>\n",
              "      <th>2020-10-30 00:03:00</th>\n",
              "      <td>-0.021649</td>\n",
              "      <td>0.043709</td>\n",
              "      <td>-0.013002</td>\n",
              "      <td>0.068499</td>\n",
              "      <td>0.025963</td>\n",
              "      <td>0.066603</td>\n",
              "      <td>30.798140</td>\n",
              "      <td>31.609107</td>\n",
              "      <td>31.973615</td>\n",
              "    </tr>\n",
              "    <tr>\n",
              "      <th>2020-10-30 00:04:00</th>\n",
              "      <td>-0.015017</td>\n",
              "      <td>0.043448</td>\n",
              "      <td>-0.013531</td>\n",
              "      <td>0.068233</td>\n",
              "      <td>0.025754</td>\n",
              "      <td>0.066618</td>\n",
              "      <td>30.889659</td>\n",
              "      <td>31.680165</td>\n",
              "      <td>31.986319</td>\n",
              "    </tr>\n",
              "    <tr>\n",
              "      <th>...</th>\n",
              "      <td>...</td>\n",
              "      <td>...</td>\n",
              "      <td>...</td>\n",
              "      <td>...</td>\n",
              "      <td>...</td>\n",
              "      <td>...</td>\n",
              "      <td>...</td>\n",
              "      <td>...</td>\n",
              "      <td>...</td>\n",
              "    </tr>\n",
              "    <tr>\n",
              "      <th>2020-11-30 23:55:00</th>\n",
              "      <td>-0.023115</td>\n",
              "      <td>0.018217</td>\n",
              "      <td>-0.009511</td>\n",
              "      <td>-0.001031</td>\n",
              "      <td>0.000426</td>\n",
              "      <td>-0.001840</td>\n",
              "      <td>0.109180</td>\n",
              "      <td>0.069521</td>\n",
              "      <td>0.364146</td>\n",
              "    </tr>\n",
              "    <tr>\n",
              "      <th>2020-11-30 23:56:00</th>\n",
              "      <td>-0.027674</td>\n",
              "      <td>0.018347</td>\n",
              "      <td>-0.009034</td>\n",
              "      <td>-0.001115</td>\n",
              "      <td>0.000402</td>\n",
              "      <td>-0.001613</td>\n",
              "      <td>0.103267</td>\n",
              "      <td>0.071613</td>\n",
              "      <td>0.368845</td>\n",
              "    </tr>\n",
              "    <tr>\n",
              "      <th>2020-11-30 23:57:00</th>\n",
              "      <td>-0.026946</td>\n",
              "      <td>0.018073</td>\n",
              "      <td>-0.007427</td>\n",
              "      <td>-0.001130</td>\n",
              "      <td>0.000497</td>\n",
              "      <td>-0.001755</td>\n",
              "      <td>0.106598</td>\n",
              "      <td>0.068883</td>\n",
              "      <td>0.331812</td>\n",
              "    </tr>\n",
              "    <tr>\n",
              "      <th>2020-11-30 23:58:00</th>\n",
              "      <td>-0.024427</td>\n",
              "      <td>0.018245</td>\n",
              "      <td>-0.008250</td>\n",
              "      <td>-0.000988</td>\n",
              "      <td>0.000342</td>\n",
              "      <td>-0.001598</td>\n",
              "      <td>0.107004</td>\n",
              "      <td>0.067869</td>\n",
              "      <td>0.353618</td>\n",
              "    </tr>\n",
              "    <tr>\n",
              "      <th>2020-11-30 23:59:00</th>\n",
              "      <td>-0.026377</td>\n",
              "      <td>0.017992</td>\n",
              "      <td>-0.005385</td>\n",
              "      <td>-0.001349</td>\n",
              "      <td>0.000292</td>\n",
              "      <td>-0.001674</td>\n",
              "      <td>0.101816</td>\n",
              "      <td>0.070887</td>\n",
              "      <td>0.342477</td>\n",
              "    </tr>\n",
              "  </tbody>\n",
              "</table>\n",
              "<p>46080 rows × 9 columns</p>\n",
              "</div>"
            ],
            "text/plain": [
              "                     AC_LED_Fixture_1  ...  West_desk_plug_load_emulators\n",
              "datetime                               ...                               \n",
              "2020-10-30 00:00:00         -0.022646  ...                      31.880844\n",
              "2020-10-30 00:01:00         -0.020743  ...                      31.878972\n",
              "2020-10-30 00:02:00         -0.021927  ...                      31.913479\n",
              "2020-10-30 00:03:00         -0.021649  ...                      31.973615\n",
              "2020-10-30 00:04:00         -0.015017  ...                      31.986319\n",
              "...                               ...  ...                            ...\n",
              "2020-11-30 23:55:00         -0.023115  ...                       0.364146\n",
              "2020-11-30 23:56:00         -0.027674  ...                       0.368845\n",
              "2020-11-30 23:57:00         -0.026946  ...                       0.331812\n",
              "2020-11-30 23:58:00         -0.024427  ...                       0.353618\n",
              "2020-11-30 23:59:00         -0.026377  ...                       0.342477\n",
              "\n",
              "[46080 rows x 9 columns]"
            ]
          },
          "metadata": {
            "tags": []
          },
          "execution_count": 21
        }
      ]
    },
    {
      "cell_type": "code",
      "metadata": {
        "colab": {
          "base_uri": "https://localhost:8080/",
          "height": 1000
        },
        "id": "DKE6L3ae-rUb",
        "outputId": "e4e06f79-3219-42f9-d640-b8cbf73be0ee"
      },
      "source": [
        "# loop through not raw dataframe list\n",
        "for df in not_raw_df_list:\n",
        "    \n",
        "    # print columns\n",
        "    [print(col) for col in df.columns]\n",
        "    print('')\n",
        "\n",
        "    # convert timestamp\n",
        "    df[idx_col] = pd.to_datetime(df[idx_col])\n",
        "\n",
        "    # set index\n",
        "    df.set_index(idx_col, inplace=True)\n",
        "\n",
        "# show\n",
        "obs_mech_df"
      ],
      "execution_count": null,
      "outputs": [
        {
          "output_type": "stream",
          "text": [
            "datetime\n",
            "chw\n",
            "fan\n",
            "chw_fan\n",
            "\n",
            "datetime\n",
            "zone_temp\n",
            "plnm_temp\n",
            "\n",
            "datetime\n",
            "PTAC_Clg_Coil_Cooling_Rate\n",
            "\n",
            "datetime\n",
            "PTAC_Fan_electric_rate\n",
            "\n",
            "datetime\n",
            "PlnmB_zone_temp\n",
            "\n",
            "datetime\n",
            "ZoneB_zone_temp\n",
            "\n",
            "datetime\n",
            "Vin.P\n",
            "\n",
            "datetime\n",
            "PTAC_Clg_Coil_Cooling_Rate\n",
            "\n",
            "datetime\n",
            "PTAC_Fan_electric_rate\n",
            "\n",
            "datetime\n",
            "PlnmB_zone_temp\n",
            "\n",
            "datetime\n",
            "ZoneB_zone_temp\n",
            "\n",
            "datetime\n",
            "Vin.P\n",
            "\n"
          ],
          "name": "stdout"
        },
        {
          "output_type": "execute_result",
          "data": {
            "text/html": [
              "<div>\n",
              "<style scoped>\n",
              "    .dataframe tbody tr th:only-of-type {\n",
              "        vertical-align: middle;\n",
              "    }\n",
              "\n",
              "    .dataframe tbody tr th {\n",
              "        vertical-align: top;\n",
              "    }\n",
              "\n",
              "    .dataframe thead th {\n",
              "        text-align: right;\n",
              "    }\n",
              "</style>\n",
              "<table border=\"1\" class=\"dataframe\">\n",
              "  <thead>\n",
              "    <tr style=\"text-align: right;\">\n",
              "      <th></th>\n",
              "      <th>chw</th>\n",
              "      <th>fan</th>\n",
              "      <th>chw_fan</th>\n",
              "    </tr>\n",
              "    <tr>\n",
              "      <th>datetime</th>\n",
              "      <th></th>\n",
              "      <th></th>\n",
              "      <th></th>\n",
              "    </tr>\n",
              "  </thead>\n",
              "  <tbody>\n",
              "    <tr>\n",
              "      <th>2020-10-30 00:00:00</th>\n",
              "      <td>0.955713</td>\n",
              "      <td>28.580654</td>\n",
              "      <td>29.340906</td>\n",
              "    </tr>\n",
              "    <tr>\n",
              "      <th>2020-10-30 00:15:00</th>\n",
              "      <td>0.889596</td>\n",
              "      <td>28.659275</td>\n",
              "      <td>29.543152</td>\n",
              "    </tr>\n",
              "    <tr>\n",
              "      <th>2020-10-30 00:30:00</th>\n",
              "      <td>0.875262</td>\n",
              "      <td>28.707050</td>\n",
              "      <td>29.582312</td>\n",
              "    </tr>\n",
              "    <tr>\n",
              "      <th>2020-10-30 00:45:00</th>\n",
              "      <td>0.880616</td>\n",
              "      <td>28.644261</td>\n",
              "      <td>29.524877</td>\n",
              "    </tr>\n",
              "    <tr>\n",
              "      <th>2020-10-30 01:00:00</th>\n",
              "      <td>0.896955</td>\n",
              "      <td>28.716636</td>\n",
              "      <td>29.613591</td>\n",
              "    </tr>\n",
              "    <tr>\n",
              "      <th>...</th>\n",
              "      <td>...</td>\n",
              "      <td>...</td>\n",
              "      <td>...</td>\n",
              "    </tr>\n",
              "    <tr>\n",
              "      <th>2020-11-30 06:45:00</th>\n",
              "      <td>728.836817</td>\n",
              "      <td>515.387326</td>\n",
              "      <td>1244.224143</td>\n",
              "    </tr>\n",
              "    <tr>\n",
              "      <th>2020-11-30 07:00:00</th>\n",
              "      <td>694.658074</td>\n",
              "      <td>514.799159</td>\n",
              "      <td>1209.457233</td>\n",
              "    </tr>\n",
              "    <tr>\n",
              "      <th>2020-11-30 07:15:00</th>\n",
              "      <td>630.403077</td>\n",
              "      <td>514.791260</td>\n",
              "      <td>1145.194336</td>\n",
              "    </tr>\n",
              "    <tr>\n",
              "      <th>2020-11-30 07:30:00</th>\n",
              "      <td>641.782624</td>\n",
              "      <td>515.627350</td>\n",
              "      <td>1157.409974</td>\n",
              "    </tr>\n",
              "    <tr>\n",
              "      <th>2020-11-30 07:45:00</th>\n",
              "      <td>648.519050</td>\n",
              "      <td>515.392997</td>\n",
              "      <td>1163.912046</td>\n",
              "    </tr>\n",
              "  </tbody>\n",
              "</table>\n",
              "<p>3008 rows × 3 columns</p>\n",
              "</div>"
            ],
            "text/plain": [
              "                            chw         fan      chw_fan\n",
              "datetime                                                \n",
              "2020-10-30 00:00:00    0.955713   28.580654    29.340906\n",
              "2020-10-30 00:15:00    0.889596   28.659275    29.543152\n",
              "2020-10-30 00:30:00    0.875262   28.707050    29.582312\n",
              "2020-10-30 00:45:00    0.880616   28.644261    29.524877\n",
              "2020-10-30 01:00:00    0.896955   28.716636    29.613591\n",
              "...                         ...         ...          ...\n",
              "2020-11-30 06:45:00  728.836817  515.387326  1244.224143\n",
              "2020-11-30 07:00:00  694.658074  514.799159  1209.457233\n",
              "2020-11-30 07:15:00  630.403077  514.791260  1145.194336\n",
              "2020-11-30 07:30:00  641.782624  515.627350  1157.409974\n",
              "2020-11-30 07:45:00  648.519050  515.392997  1163.912046\n",
              "\n",
              "[3008 rows x 3 columns]"
            ]
          },
          "metadata": {
            "tags": []
          },
          "execution_count": 22
        }
      ]
    },
    {
      "cell_type": "markdown",
      "metadata": {
        "id": "y1GL0hibDYk3"
      },
      "source": [
        "## 3.1 AC Experiment"
      ]
    },
    {
      "cell_type": "markdown",
      "metadata": {
        "id": "_-YUvV2RpHz2"
      },
      "source": [
        "### 3.1.1 Electrical Load"
      ]
    },
    {
      "cell_type": "code",
      "metadata": {
        "id": "yI8il6IEtkeR",
        "colab": {
          "base_uri": "https://localhost:8080/",
          "height": 741
        },
        "outputId": "1a47cd72-92ce-4e23-f1dc-43fb4efffdda"
      },
      "source": [
        "# copy observed dataframe\n",
        "ac_elec_calc_df = pd.DataFrame(obs_raw_elec_ac_df.resample(resample_rule).mean()[ac_beg:ac_end])\n",
        "\n",
        "# sum rows\n",
        "ac_elec_calc_df[obs_col_name] = ac_elec_calc_df[ac_elec_calc_df.columns[0:9]].sum(axis=1)\n",
        "\n",
        "# add column from predicted dataframe\n",
        "ac_elec_calc_df[pre_col_name] = - pre_ac_pwr_df['Vin.P']\n",
        "\n",
        "# new dataframe for plots\n",
        "ac_elec_plot_df = pd.DataFrame(ac_elec_calc_df.loc[:])\n",
        "\n",
        "# drop columns\n",
        "ac_elec_plot_df.drop(ac_elec_plot_df.columns[0:9], axis=1, inplace=True)\n",
        "\n",
        "# set periods between experiments to NaN for calcs\n",
        "ac_elec_calc_df.loc[ac_lo_end:ac_md_beg, obs_col_name] = np.nan\n",
        "ac_elec_calc_df.loc[ac_md_end:ac_hi_beg, obs_col_name] = np.nan\n",
        "\n",
        "# calculate difference of predicted and observed for NMBE\n",
        "ac_elec_calc_df['pre_min_obs'] = ac_elec_calc_df[pre_col_name] - ac_elec_calc_df[obs_col_name]\n",
        "\n",
        "# calculate the square of the difference for CV(RMSE)\n",
        "ac_elec_calc_df['pre_min_obs_sq'] = ac_elec_calc_df['pre_min_obs']**2\n",
        "\n",
        "# calculate NMBE and CV(RMSE)\n",
        "ac_elec_dict = calcs(ac_elec_calc_df['pre_min_obs'], ac_elec_calc_df[obs_col_name], ac_elec_calc_df['pre_min_obs_sq'])\n",
        "\n",
        "# show\n",
        "ac_elec_calc_df"
      ],
      "execution_count": null,
      "outputs": [
        {
          "output_type": "stream",
          "text": [
            "NMBE sum = 1437.6513478374086\n",
            "n = 381\n",
            "y_bar = 1720.935798719587\n",
            "NMBE = 0.0021983928880087277\n",
            "CV(RMSE) = 0.020691183926497013\n"
          ],
          "name": "stdout"
        },
        {
          "output_type": "execute_result",
          "data": {
            "text/html": [
              "<div>\n",
              "<style scoped>\n",
              "    .dataframe tbody tr th:only-of-type {\n",
              "        vertical-align: middle;\n",
              "    }\n",
              "\n",
              "    .dataframe tbody tr th {\n",
              "        vertical-align: top;\n",
              "    }\n",
              "\n",
              "    .dataframe thead th {\n",
              "        text-align: right;\n",
              "    }\n",
              "</style>\n",
              "<table border=\"1\" class=\"dataframe\">\n",
              "  <thead>\n",
              "    <tr style=\"text-align: right;\">\n",
              "      <th></th>\n",
              "      <th>AC_LED_Fixture_1</th>\n",
              "      <th>AC_LED_Fixture_2</th>\n",
              "      <th>AC_LED_Fixture_3</th>\n",
              "      <th>AC_LED_Fixture_4</th>\n",
              "      <th>AC_LED_Fixture_5</th>\n",
              "      <th>AC_LED_Fixture_6</th>\n",
              "      <th>North_desk_plug_load_emulators</th>\n",
              "      <th>East_desk_plug_load_emulators</th>\n",
              "      <th>West_desk_plug_load_emulators</th>\n",
              "      <th>Measured</th>\n",
              "      <th>Modeled</th>\n",
              "      <th>pre_min_obs</th>\n",
              "      <th>pre_min_obs_sq</th>\n",
              "    </tr>\n",
              "    <tr>\n",
              "      <th>datetime</th>\n",
              "      <th></th>\n",
              "      <th></th>\n",
              "      <th></th>\n",
              "      <th></th>\n",
              "      <th></th>\n",
              "      <th></th>\n",
              "      <th></th>\n",
              "      <th></th>\n",
              "      <th></th>\n",
              "      <th></th>\n",
              "      <th></th>\n",
              "      <th></th>\n",
              "      <th></th>\n",
              "    </tr>\n",
              "  </thead>\n",
              "  <tbody>\n",
              "    <tr>\n",
              "      <th>2020-11-11 10:30:00</th>\n",
              "      <td>30.698090</td>\n",
              "      <td>31.453184</td>\n",
              "      <td>31.504830</td>\n",
              "      <td>30.986242</td>\n",
              "      <td>31.046649</td>\n",
              "      <td>31.656522</td>\n",
              "      <td>150.831604</td>\n",
              "      <td>150.462491</td>\n",
              "      <td>150.545218</td>\n",
              "      <td>639.184830</td>\n",
              "      <td>900.22327</td>\n",
              "      <td>261.038440</td>\n",
              "      <td>68141.067317</td>\n",
              "    </tr>\n",
              "    <tr>\n",
              "      <th>2020-11-11 10:45:00</th>\n",
              "      <td>30.941650</td>\n",
              "      <td>31.794680</td>\n",
              "      <td>31.819065</td>\n",
              "      <td>31.339723</td>\n",
              "      <td>31.446393</td>\n",
              "      <td>31.935990</td>\n",
              "      <td>150.740440</td>\n",
              "      <td>150.347150</td>\n",
              "      <td>150.496330</td>\n",
              "      <td>640.861422</td>\n",
              "      <td>570.97090</td>\n",
              "      <td>-69.890522</td>\n",
              "      <td>4884.685080</td>\n",
              "    </tr>\n",
              "    <tr>\n",
              "      <th>2020-11-11 11:00:00</th>\n",
              "      <td>31.029683</td>\n",
              "      <td>31.917789</td>\n",
              "      <td>31.873156</td>\n",
              "      <td>31.453634</td>\n",
              "      <td>31.497008</td>\n",
              "      <td>32.039726</td>\n",
              "      <td>150.793265</td>\n",
              "      <td>150.482263</td>\n",
              "      <td>150.530903</td>\n",
              "      <td>641.617426</td>\n",
              "      <td>572.93890</td>\n",
              "      <td>-68.678526</td>\n",
              "      <td>4716.739934</td>\n",
              "    </tr>\n",
              "    <tr>\n",
              "      <th>2020-11-11 11:15:00</th>\n",
              "      <td>31.035374</td>\n",
              "      <td>31.924794</td>\n",
              "      <td>31.872398</td>\n",
              "      <td>31.463088</td>\n",
              "      <td>31.497793</td>\n",
              "      <td>32.049607</td>\n",
              "      <td>150.777698</td>\n",
              "      <td>150.399732</td>\n",
              "      <td>150.487324</td>\n",
              "      <td>641.507809</td>\n",
              "      <td>573.48260</td>\n",
              "      <td>-68.025209</td>\n",
              "      <td>4627.428994</td>\n",
              "    </tr>\n",
              "    <tr>\n",
              "      <th>2020-11-11 11:30:00</th>\n",
              "      <td>31.032450</td>\n",
              "      <td>31.929389</td>\n",
              "      <td>31.878320</td>\n",
              "      <td>31.465970</td>\n",
              "      <td>31.497076</td>\n",
              "      <td>32.054311</td>\n",
              "      <td>150.741559</td>\n",
              "      <td>150.331894</td>\n",
              "      <td>150.489880</td>\n",
              "      <td>641.420849</td>\n",
              "      <td>573.51526</td>\n",
              "      <td>-67.905589</td>\n",
              "      <td>4611.168963</td>\n",
              "    </tr>\n",
              "    <tr>\n",
              "      <th>...</th>\n",
              "      <td>...</td>\n",
              "      <td>...</td>\n",
              "      <td>...</td>\n",
              "      <td>...</td>\n",
              "      <td>...</td>\n",
              "      <td>...</td>\n",
              "      <td>...</td>\n",
              "      <td>...</td>\n",
              "      <td>...</td>\n",
              "      <td>...</td>\n",
              "      <td>...</td>\n",
              "      <td>...</td>\n",
              "      <td>...</td>\n",
              "    </tr>\n",
              "    <tr>\n",
              "      <th>2020-11-16 07:00:00</th>\n",
              "      <td>58.680685</td>\n",
              "      <td>58.620884</td>\n",
              "      <td>59.176221</td>\n",
              "      <td>58.593379</td>\n",
              "      <td>59.167695</td>\n",
              "      <td>58.980424</td>\n",
              "      <td>521.219190</td>\n",
              "      <td>521.725599</td>\n",
              "      <td>521.005645</td>\n",
              "      <td>1917.169722</td>\n",
              "      <td>1940.19270</td>\n",
              "      <td>23.022978</td>\n",
              "      <td>530.057536</td>\n",
              "    </tr>\n",
              "    <tr>\n",
              "      <th>2020-11-16 07:15:00</th>\n",
              "      <td>58.666677</td>\n",
              "      <td>58.604074</td>\n",
              "      <td>59.161513</td>\n",
              "      <td>58.581651</td>\n",
              "      <td>59.151454</td>\n",
              "      <td>58.973112</td>\n",
              "      <td>521.342430</td>\n",
              "      <td>521.680025</td>\n",
              "      <td>521.119761</td>\n",
              "      <td>1917.280698</td>\n",
              "      <td>1940.09120</td>\n",
              "      <td>22.810502</td>\n",
              "      <td>520.319010</td>\n",
              "    </tr>\n",
              "    <tr>\n",
              "      <th>2020-11-16 07:30:00</th>\n",
              "      <td>58.680012</td>\n",
              "      <td>58.618090</td>\n",
              "      <td>59.170604</td>\n",
              "      <td>58.594683</td>\n",
              "      <td>59.163370</td>\n",
              "      <td>58.985236</td>\n",
              "      <td>521.251936</td>\n",
              "      <td>521.679173</td>\n",
              "      <td>520.980638</td>\n",
              "      <td>1917.123741</td>\n",
              "      <td>1940.01420</td>\n",
              "      <td>22.890459</td>\n",
              "      <td>523.973110</td>\n",
              "    </tr>\n",
              "    <tr>\n",
              "      <th>2020-11-16 07:45:00</th>\n",
              "      <td>58.651413</td>\n",
              "      <td>58.588471</td>\n",
              "      <td>59.137469</td>\n",
              "      <td>58.565778</td>\n",
              "      <td>59.130799</td>\n",
              "      <td>58.953629</td>\n",
              "      <td>521.404875</td>\n",
              "      <td>521.797816</td>\n",
              "      <td>521.151448</td>\n",
              "      <td>1917.381698</td>\n",
              "      <td>1940.08420</td>\n",
              "      <td>22.702502</td>\n",
              "      <td>515.403610</td>\n",
              "    </tr>\n",
              "    <tr>\n",
              "      <th>2020-11-16 08:00:00</th>\n",
              "      <td>58.638815</td>\n",
              "      <td>58.585662</td>\n",
              "      <td>59.124242</td>\n",
              "      <td>58.559334</td>\n",
              "      <td>59.128532</td>\n",
              "      <td>58.946682</td>\n",
              "      <td>521.395551</td>\n",
              "      <td>521.908495</td>\n",
              "      <td>521.110090</td>\n",
              "      <td>1917.397403</td>\n",
              "      <td>1939.90840</td>\n",
              "      <td>22.510997</td>\n",
              "      <td>506.744974</td>\n",
              "    </tr>\n",
              "  </tbody>\n",
              "</table>\n",
              "<p>471 rows × 13 columns</p>\n",
              "</div>"
            ],
            "text/plain": [
              "                     AC_LED_Fixture_1  ...  pre_min_obs_sq\n",
              "datetime                               ...                \n",
              "2020-11-11 10:30:00         30.698090  ...    68141.067317\n",
              "2020-11-11 10:45:00         30.941650  ...     4884.685080\n",
              "2020-11-11 11:00:00         31.029683  ...     4716.739934\n",
              "2020-11-11 11:15:00         31.035374  ...     4627.428994\n",
              "2020-11-11 11:30:00         31.032450  ...     4611.168963\n",
              "...                               ...  ...             ...\n",
              "2020-11-16 07:00:00         58.680685  ...      530.057536\n",
              "2020-11-16 07:15:00         58.666677  ...      520.319010\n",
              "2020-11-16 07:30:00         58.680012  ...      523.973110\n",
              "2020-11-16 07:45:00         58.651413  ...      515.403610\n",
              "2020-11-16 08:00:00         58.638815  ...      506.744974\n",
              "\n",
              "[471 rows x 13 columns]"
            ]
          },
          "metadata": {
            "tags": []
          },
          "execution_count": 8
        }
      ]
    },
    {
      "cell_type": "code",
      "metadata": {
        "colab": {
          "base_uri": "https://localhost:8080/",
          "height": 322
        },
        "id": "01qsjBNH2fUy",
        "outputId": "85fc0a13-1d8d-4f40-bf07-2f882dc04fcb"
      },
      "source": [
        "ac_elec_plot_df.plot()"
      ],
      "execution_count": null,
      "outputs": [
        {
          "output_type": "execute_result",
          "data": {
            "text/plain": [
              "<matplotlib.axes._subplots.AxesSubplot at 0x7f03e0809990>"
            ]
          },
          "metadata": {
            "tags": []
          },
          "execution_count": 9
        },
        {
          "output_type": "display_data",
          "data": {
            "image/png": "[encoded data removed]",
            "text/plain": [
              "<Figure size 432x288 with 1 Axes>"
            ]
          },
          "metadata": {
            "tags": [],
            "needs_background": "light"
          }
        }
      ]
    },
    {
      "cell_type": "markdown",
      "metadata": {
        "id": "hDmm4OPH2Yr0"
      },
      "source": [
        "### 3.1.2 Cooling Load"
      ]
    },
    {
      "cell_type": "code",
      "metadata": {
        "colab": {
          "base_uri": "https://localhost:8080/",
          "height": 547
        },
        "id": "HenVmJba2eZZ",
        "outputId": "e053fb13-f14e-4c91-8061-defbf2cd126d"
      },
      "source": [
        "# copy observed dataframe\n",
        "ac_clg_calc_df = pd.DataFrame(obs_mech_df.loc[ac_beg:ac_end, 'chw']) #.resample(resample_rule).mean()[ac_beg:ac_end])\n",
        "\n",
        "# rename column\n",
        "ac_clg_calc_df.rename(columns={'chw':obs_col_name}, inplace=True)\n",
        "\n",
        "# reverse sign of observed cooling load\n",
        "# ac_mech_calc_df[obs_col_name] = ac_mech_calc_df[obs_col_name]\n",
        "\n",
        "# add column from predicted dataframes\n",
        "ac_clg_calc_df[pre_col_name] = pre_ac_clg_df['PTAC_Clg_Coil_Cooling_Rate']\n",
        "\n",
        "# new dataframe for plots\n",
        "ac_clg_plot_df = pd.DataFrame(ac_clg_calc_df.loc[:])\n",
        "\n",
        "# set periods between experiments to NaN for calcs\n",
        "ac_clg_calc_df.loc[ac_lo_end:ac_md_beg, obs_col_name] = np.nan\n",
        "ac_clg_calc_df.loc[ac_md_end:ac_hi_beg, obs_col_name] = np.nan\n",
        "\n",
        "# calculate difference of predicted and observed for NMBE\n",
        "ac_clg_calc_df['pre_min_obs'] = ac_clg_calc_df[pre_col_name] - ac_clg_calc_df[obs_col_name]\n",
        "\n",
        "# calculate the square of the difference for CV(RMSE)\n",
        "ac_clg_calc_df['pre_min_obs_sq'] = ac_clg_calc_df['pre_min_obs']**2\n",
        "\n",
        "# calculate NMBE and CV(RMSE)\n",
        "ac_clg_dict = calcs(ac_clg_calc_df['pre_min_obs'], ac_clg_calc_df[obs_col_name], ac_clg_calc_df['pre_min_obs_sq'])\n",
        "\n",
        "# show\n",
        "ac_clg_calc_df"
      ],
      "execution_count": null,
      "outputs": [
        {
          "output_type": "stream",
          "text": [
            "NMBE sum = 99443.92513802001\n",
            "n = 381\n",
            "y_bar = 1816.3437712125458\n",
            "NMBE = 0.1440776487273629\n",
            "CV(RMSE) = 0.16088474332620292\n"
          ],
          "name": "stdout"
        },
        {
          "output_type": "execute_result",
          "data": {
            "text/html": [
              "<div>\n",
              "<style scoped>\n",
              "    .dataframe tbody tr th:only-of-type {\n",
              "        vertical-align: middle;\n",
              "    }\n",
              "\n",
              "    .dataframe tbody tr th {\n",
              "        vertical-align: top;\n",
              "    }\n",
              "\n",
              "    .dataframe thead th {\n",
              "        text-align: right;\n",
              "    }\n",
              "</style>\n",
              "<table border=\"1\" class=\"dataframe\">\n",
              "  <thead>\n",
              "    <tr style=\"text-align: right;\">\n",
              "      <th></th>\n",
              "      <th>Measured</th>\n",
              "      <th>Modeled</th>\n",
              "      <th>pre_min_obs</th>\n",
              "      <th>pre_min_obs_sq</th>\n",
              "    </tr>\n",
              "    <tr>\n",
              "      <th>datetime</th>\n",
              "      <th></th>\n",
              "      <th></th>\n",
              "      <th></th>\n",
              "      <th></th>\n",
              "    </tr>\n",
              "  </thead>\n",
              "  <tbody>\n",
              "    <tr>\n",
              "      <th>2020-11-11 10:30:00</th>\n",
              "      <td>823.578025</td>\n",
              "      <td>1090.47140</td>\n",
              "      <td>266.893375</td>\n",
              "      <td>71232.073445</td>\n",
              "    </tr>\n",
              "    <tr>\n",
              "      <th>2020-11-11 10:45:00</th>\n",
              "      <td>807.466571</td>\n",
              "      <td>737.99634</td>\n",
              "      <td>-69.470231</td>\n",
              "      <td>4826.112946</td>\n",
              "    </tr>\n",
              "    <tr>\n",
              "      <th>2020-11-11 11:00:00</th>\n",
              "      <td>849.196380</td>\n",
              "      <td>734.62580</td>\n",
              "      <td>-114.570580</td>\n",
              "      <td>13126.417858</td>\n",
              "    </tr>\n",
              "    <tr>\n",
              "      <th>2020-11-11 11:15:00</th>\n",
              "      <td>819.859551</td>\n",
              "      <td>745.15985</td>\n",
              "      <td>-74.699701</td>\n",
              "      <td>5580.045261</td>\n",
              "    </tr>\n",
              "    <tr>\n",
              "      <th>2020-11-11 11:30:00</th>\n",
              "      <td>824.332418</td>\n",
              "      <td>754.64680</td>\n",
              "      <td>-69.685618</td>\n",
              "      <td>4856.085362</td>\n",
              "    </tr>\n",
              "    <tr>\n",
              "      <th>...</th>\n",
              "      <td>...</td>\n",
              "      <td>...</td>\n",
              "      <td>...</td>\n",
              "      <td>...</td>\n",
              "    </tr>\n",
              "    <tr>\n",
              "      <th>2020-11-16 07:00:00</th>\n",
              "      <td>1964.662272</td>\n",
              "      <td>2308.50100</td>\n",
              "      <td>343.838728</td>\n",
              "      <td>118225.070689</td>\n",
              "    </tr>\n",
              "    <tr>\n",
              "      <th>2020-11-16 07:15:00</th>\n",
              "      <td>1967.515791</td>\n",
              "      <td>2311.49500</td>\n",
              "      <td>343.979209</td>\n",
              "      <td>118321.696408</td>\n",
              "    </tr>\n",
              "    <tr>\n",
              "      <th>2020-11-16 07:30:00</th>\n",
              "      <td>1861.386214</td>\n",
              "      <td>2314.51830</td>\n",
              "      <td>453.132086</td>\n",
              "      <td>205328.687604</td>\n",
              "    </tr>\n",
              "    <tr>\n",
              "      <th>2020-11-16 07:45:00</th>\n",
              "      <td>2100.486740</td>\n",
              "      <td>2316.74460</td>\n",
              "      <td>216.257860</td>\n",
              "      <td>46767.462214</td>\n",
              "    </tr>\n",
              "    <tr>\n",
              "      <th>2020-11-16 08:00:00</th>\n",
              "      <td>2000.961384</td>\n",
              "      <td>2321.61720</td>\n",
              "      <td>320.655816</td>\n",
              "      <td>102820.152078</td>\n",
              "    </tr>\n",
              "  </tbody>\n",
              "</table>\n",
              "<p>471 rows × 4 columns</p>\n",
              "</div>"
            ],
            "text/plain": [
              "                        Measured     Modeled  pre_min_obs  pre_min_obs_sq\n",
              "datetime                                                                 \n",
              "2020-11-11 10:30:00   823.578025  1090.47140   266.893375    71232.073445\n",
              "2020-11-11 10:45:00   807.466571   737.99634   -69.470231     4826.112946\n",
              "2020-11-11 11:00:00   849.196380   734.62580  -114.570580    13126.417858\n",
              "2020-11-11 11:15:00   819.859551   745.15985   -74.699701     5580.045261\n",
              "2020-11-11 11:30:00   824.332418   754.64680   -69.685618     4856.085362\n",
              "...                          ...         ...          ...             ...\n",
              "2020-11-16 07:00:00  1964.662272  2308.50100   343.838728   118225.070689\n",
              "2020-11-16 07:15:00  1967.515791  2311.49500   343.979209   118321.696408\n",
              "2020-11-16 07:30:00  1861.386214  2314.51830   453.132086   205328.687604\n",
              "2020-11-16 07:45:00  2100.486740  2316.74460   216.257860    46767.462214\n",
              "2020-11-16 08:00:00  2000.961384  2321.61720   320.655816   102820.152078\n",
              "\n",
              "[471 rows x 4 columns]"
            ]
          },
          "metadata": {
            "tags": []
          },
          "execution_count": 11
        }
      ]
    },
    {
      "cell_type": "code",
      "metadata": {
        "colab": {
          "base_uri": "https://localhost:8080/",
          "height": 319
        },
        "id": "kblbcirC_XQK",
        "outputId": "42c08819-fc73-4089-de42-901fdc72e373"
      },
      "source": [
        "ac_clg_plot_df.plot()"
      ],
      "execution_count": null,
      "outputs": [
        {
          "output_type": "execute_result",
          "data": {
            "text/plain": [
              "<matplotlib.axes._subplots.AxesSubplot at 0x7f03df5515d0>"
            ]
          },
          "metadata": {
            "tags": []
          },
          "execution_count": 13
        },
        {
          "output_type": "display_data",
          "data": {
            "image/png": "[encoded data removed]",
            "text/plain": [
              "<Figure size 432x288 with 1 Axes>"
            ]
          },
          "metadata": {
            "tags": [],
            "needs_background": "light"
          }
        }
      ]
    },
    {
      "cell_type": "markdown",
      "metadata": {
        "id": "SPbFZArpte3g"
      },
      "source": [
        "### 3.1.3 Temperatures"
      ]
    },
    {
      "cell_type": "code",
      "metadata": {
        "colab": {
          "base_uri": "https://localhost:8080/",
          "height": 547
        },
        "id": "ClpF4hR3fY1k",
        "outputId": "86e2ff2c-e1df-4e5f-a95f-27efe3919c4e"
      },
      "source": [
        "# copy observed dataframe\n",
        "ac_zone_calc_df = pd.DataFrame(obs_temp_df.loc[ac_beg:ac_end, 'zone_temp'])\n",
        "\n",
        "# rename column\n",
        "ac_zone_calc_df.rename(columns={'zone_temp':obs_col_name}, inplace=True)\n",
        "\n",
        "# add column from predicted dataframe\n",
        "ac_zone_calc_df[pre_col_name] = pre_ac_zone_temp_df['ZoneB_zone_temp']\n",
        "\n",
        "# copy dataframe for plots\n",
        "ac_zone_plot_df = pd.DataFrame(ac_zone_calc_df.loc[:])\n",
        "\n",
        "# set periods between experiments to NaN for calcs\n",
        "ac_zone_calc_df.loc[ac_lo_end:ac_md_beg, obs_col_name] = np.nan\n",
        "ac_zone_calc_df.loc[ac_md_end:ac_hi_beg, obs_col_name] = np.nan\n",
        "\n",
        "# calculate difference between predicted and observed for NMBE\n",
        "ac_zone_calc_df['pre_min_obs'] = ac_zone_calc_df[pre_col_name] - ac_zone_calc_df[obs_col_name]\n",
        "\n",
        "# calculate the square of the difference for CV(RMSE)\n",
        "ac_zone_calc_df['pre_min_obs_sq'] = ac_zone_calc_df['pre_min_obs']**2\n",
        "\n",
        "# calculate NMBE and CV(RMSE)\n",
        "ac_zone_dict = calcs(ac_zone_calc_df['pre_min_obs'], ac_zone_calc_df[obs_col_name], ac_zone_calc_df['pre_min_obs_sq'])\n",
        "\n",
        "# show\n",
        "ac_zone_calc_df"
      ],
      "execution_count": null,
      "outputs": [
        {
          "output_type": "stream",
          "text": [
            "NMBE sum = -141.17612782133307\n",
            "n = 381\n",
            "y_bar = 23.370591590082242\n",
            "NMBE = -0.015896736050245015\n",
            "CV(RMSE) = 0.016536774134294382\n"
          ],
          "name": "stdout"
        },
        {
          "output_type": "execute_result",
          "data": {
            "text/html": [
              "<div>\n",
              "<style scoped>\n",
              "    .dataframe tbody tr th:only-of-type {\n",
              "        vertical-align: middle;\n",
              "    }\n",
              "\n",
              "    .dataframe tbody tr th {\n",
              "        vertical-align: top;\n",
              "    }\n",
              "\n",
              "    .dataframe thead th {\n",
              "        text-align: right;\n",
              "    }\n",
              "</style>\n",
              "<table border=\"1\" class=\"dataframe\">\n",
              "  <thead>\n",
              "    <tr style=\"text-align: right;\">\n",
              "      <th></th>\n",
              "      <th>Measured</th>\n",
              "      <th>Modeled</th>\n",
              "      <th>pre_min_obs</th>\n",
              "      <th>pre_min_obs_sq</th>\n",
              "    </tr>\n",
              "    <tr>\n",
              "      <th>datetime</th>\n",
              "      <th></th>\n",
              "      <th></th>\n",
              "      <th></th>\n",
              "      <th></th>\n",
              "    </tr>\n",
              "  </thead>\n",
              "  <tbody>\n",
              "    <tr>\n",
              "      <th>2020-11-11 10:30:00</th>\n",
              "      <td>23.139306</td>\n",
              "      <td>22.999668</td>\n",
              "      <td>-0.139638</td>\n",
              "      <td>0.019499</td>\n",
              "    </tr>\n",
              "    <tr>\n",
              "      <th>2020-11-11 10:45:00</th>\n",
              "      <td>23.118969</td>\n",
              "      <td>23.000095</td>\n",
              "      <td>-0.118874</td>\n",
              "      <td>0.014131</td>\n",
              "    </tr>\n",
              "    <tr>\n",
              "      <th>2020-11-11 11:00:00</th>\n",
              "      <td>23.104780</td>\n",
              "      <td>23.000216</td>\n",
              "      <td>-0.104564</td>\n",
              "      <td>0.010934</td>\n",
              "    </tr>\n",
              "    <tr>\n",
              "      <th>2020-11-11 11:15:00</th>\n",
              "      <td>23.089950</td>\n",
              "      <td>23.000221</td>\n",
              "      <td>-0.089729</td>\n",
              "      <td>0.008051</td>\n",
              "    </tr>\n",
              "    <tr>\n",
              "      <th>2020-11-11 11:30:00</th>\n",
              "      <td>23.089258</td>\n",
              "      <td>23.000200</td>\n",
              "      <td>-0.089058</td>\n",
              "      <td>0.007931</td>\n",
              "    </tr>\n",
              "    <tr>\n",
              "      <th>...</th>\n",
              "      <td>...</td>\n",
              "      <td>...</td>\n",
              "      <td>...</td>\n",
              "      <td>...</td>\n",
              "    </tr>\n",
              "    <tr>\n",
              "      <th>2020-11-16 07:00:00</th>\n",
              "      <td>23.399835</td>\n",
              "      <td>23.000002</td>\n",
              "      <td>-0.399833</td>\n",
              "      <td>0.159867</td>\n",
              "    </tr>\n",
              "    <tr>\n",
              "      <th>2020-11-16 07:15:00</th>\n",
              "      <td>23.421530</td>\n",
              "      <td>23.000038</td>\n",
              "      <td>-0.421492</td>\n",
              "      <td>0.177655</td>\n",
              "    </tr>\n",
              "    <tr>\n",
              "      <th>2020-11-16 07:30:00</th>\n",
              "      <td>23.446750</td>\n",
              "      <td>23.000053</td>\n",
              "      <td>-0.446697</td>\n",
              "      <td>0.199538</td>\n",
              "    </tr>\n",
              "    <tr>\n",
              "      <th>2020-11-16 07:45:00</th>\n",
              "      <td>23.446249</td>\n",
              "      <td>23.000067</td>\n",
              "      <td>-0.446182</td>\n",
              "      <td>0.199078</td>\n",
              "    </tr>\n",
              "    <tr>\n",
              "      <th>2020-11-16 08:00:00</th>\n",
              "      <td>23.415025</td>\n",
              "      <td>23.000057</td>\n",
              "      <td>-0.414968</td>\n",
              "      <td>0.172199</td>\n",
              "    </tr>\n",
              "  </tbody>\n",
              "</table>\n",
              "<p>471 rows × 4 columns</p>\n",
              "</div>"
            ],
            "text/plain": [
              "                      Measured    Modeled  pre_min_obs  pre_min_obs_sq\n",
              "datetime                                                              \n",
              "2020-11-11 10:30:00  23.139306  22.999668    -0.139638        0.019499\n",
              "2020-11-11 10:45:00  23.118969  23.000095    -0.118874        0.014131\n",
              "2020-11-11 11:00:00  23.104780  23.000216    -0.104564        0.010934\n",
              "2020-11-11 11:15:00  23.089950  23.000221    -0.089729        0.008051\n",
              "2020-11-11 11:30:00  23.089258  23.000200    -0.089058        0.007931\n",
              "...                        ...        ...          ...             ...\n",
              "2020-11-16 07:00:00  23.399835  23.000002    -0.399833        0.159867\n",
              "2020-11-16 07:15:00  23.421530  23.000038    -0.421492        0.177655\n",
              "2020-11-16 07:30:00  23.446750  23.000053    -0.446697        0.199538\n",
              "2020-11-16 07:45:00  23.446249  23.000067    -0.446182        0.199078\n",
              "2020-11-16 08:00:00  23.415025  23.000057    -0.414968        0.172199\n",
              "\n",
              "[471 rows x 4 columns]"
            ]
          },
          "metadata": {
            "tags": []
          },
          "execution_count": 14
        }
      ]
    },
    {
      "cell_type": "code",
      "metadata": {
        "colab": {
          "base_uri": "https://localhost:8080/",
          "height": 319
        },
        "id": "ffy7A072nJRP",
        "outputId": "80914fe0-57b7-4620-a92b-e0aa673e2eef"
      },
      "source": [
        "ac_zone_plot_df.plot()"
      ],
      "execution_count": null,
      "outputs": [
        {
          "output_type": "execute_result",
          "data": {
            "text/plain": [
              "<matplotlib.axes._subplots.AxesSubplot at 0x7f03df5f8f10>"
            ]
          },
          "metadata": {
            "tags": []
          },
          "execution_count": 15
        },
        {
          "output_type": "display_data",
          "data": {
            "image/png": "[encoded data removed]",
            "text/plain": [
              "<Figure size 432x288 with 1 Axes>"
            ]
          },
          "metadata": {
            "tags": [],
            "needs_background": "light"
          }
        }
      ]
    },
    {
      "cell_type": "code",
      "metadata": {
        "id": "LrNqVDh2nxkp",
        "colab": {
          "base_uri": "https://localhost:8080/",
          "height": 547
        },
        "outputId": "b322706a-2c25-422f-bba3-d67726c432e9"
      },
      "source": [
        "# copy observed dataframe\n",
        "ac_plnm_calc_df = pd.DataFrame(obs_temp_df.loc[ac_beg:ac_end, 'plnm_temp'])\n",
        "\n",
        "# rename column\n",
        "ac_plnm_calc_df.rename(columns={'plnm_temp':obs_col_name}, inplace=True)\n",
        "\n",
        "# add column from predicted dataframe\n",
        "ac_plnm_calc_df[pre_col_name] = pre_ac_plnm_temp_df['PlnmB_zone_temp']\n",
        "\n",
        "# copy dataframe for plots\n",
        "ac_plnm_plot_df = pd.DataFrame(ac_plnm_calc_df.loc[:])\n",
        "\n",
        "# set periods between experiments to NaN for calcs\n",
        "ac_plnm_calc_df.loc[ac_lo_end:ac_md_beg, obs_col_name] = np.nan\n",
        "ac_plnm_calc_df.loc[ac_md_end:ac_hi_beg, obs_col_name] = np.nan\n",
        "\n",
        "# calculate difference between predicted and observed for NMBE\n",
        "ac_plnm_calc_df['pre_min_obs'] = ac_plnm_calc_df[pre_col_name] - ac_plnm_calc_df[obs_col_name]\n",
        "\n",
        "# calculate the square of the difference for CV(RMSE)\n",
        "ac_plnm_calc_df['pre_min_obs_sq'] = ac_plnm_calc_df['pre_min_obs']**2\n",
        "\n",
        "# calculate NMBE and CV(RMSE)\n",
        "ac_plnm_dict = calcs(ac_plnm_calc_df['pre_min_obs'], ac_plnm_calc_df[obs_col_name], ac_plnm_calc_df['pre_min_obs_sq'])\n",
        "\n",
        "# show\n",
        "ac_plnm_calc_df"
      ],
      "execution_count": null,
      "outputs": [
        {
          "output_type": "stream",
          "text": [
            "NMBE sum = -566.3583384863331\n",
            "n = 381\n",
            "y_bar = 23.195086828048105\n",
            "NMBE = -0.06425570601550591\n",
            "CV(RMSE) = 0.06579389662697707\n"
          ],
          "name": "stdout"
        },
        {
          "output_type": "execute_result",
          "data": {
            "text/html": [
              "<div>\n",
              "<style scoped>\n",
              "    .dataframe tbody tr th:only-of-type {\n",
              "        vertical-align: middle;\n",
              "    }\n",
              "\n",
              "    .dataframe tbody tr th {\n",
              "        vertical-align: top;\n",
              "    }\n",
              "\n",
              "    .dataframe thead th {\n",
              "        text-align: right;\n",
              "    }\n",
              "</style>\n",
              "<table border=\"1\" class=\"dataframe\">\n",
              "  <thead>\n",
              "    <tr style=\"text-align: right;\">\n",
              "      <th></th>\n",
              "      <th>Measured</th>\n",
              "      <th>Modeled</th>\n",
              "      <th>pre_min_obs</th>\n",
              "      <th>pre_min_obs_sq</th>\n",
              "    </tr>\n",
              "    <tr>\n",
              "      <th>datetime</th>\n",
              "      <th></th>\n",
              "      <th></th>\n",
              "      <th></th>\n",
              "      <th></th>\n",
              "    </tr>\n",
              "  </thead>\n",
              "  <tbody>\n",
              "    <tr>\n",
              "      <th>2020-11-11 10:30:00</th>\n",
              "      <td>23.076363</td>\n",
              "      <td>20.967607</td>\n",
              "      <td>-2.108756</td>\n",
              "      <td>4.446850</td>\n",
              "    </tr>\n",
              "    <tr>\n",
              "      <th>2020-11-11 10:45:00</th>\n",
              "      <td>23.046211</td>\n",
              "      <td>20.998470</td>\n",
              "      <td>-2.047741</td>\n",
              "      <td>4.193241</td>\n",
              "    </tr>\n",
              "    <tr>\n",
              "      <th>2020-11-11 11:00:00</th>\n",
              "      <td>23.000329</td>\n",
              "      <td>21.008608</td>\n",
              "      <td>-1.991721</td>\n",
              "      <td>3.966954</td>\n",
              "    </tr>\n",
              "    <tr>\n",
              "      <th>2020-11-11 11:15:00</th>\n",
              "      <td>22.969693</td>\n",
              "      <td>21.024963</td>\n",
              "      <td>-1.944730</td>\n",
              "      <td>3.781975</td>\n",
              "    </tr>\n",
              "    <tr>\n",
              "      <th>2020-11-11 11:30:00</th>\n",
              "      <td>22.952131</td>\n",
              "      <td>21.052130</td>\n",
              "      <td>-1.900001</td>\n",
              "      <td>3.610002</td>\n",
              "    </tr>\n",
              "    <tr>\n",
              "      <th>...</th>\n",
              "      <td>...</td>\n",
              "      <td>...</td>\n",
              "      <td>...</td>\n",
              "      <td>...</td>\n",
              "    </tr>\n",
              "    <tr>\n",
              "      <th>2020-11-16 07:00:00</th>\n",
              "      <td>23.360472</td>\n",
              "      <td>21.753029</td>\n",
              "      <td>-1.607443</td>\n",
              "      <td>2.583874</td>\n",
              "    </tr>\n",
              "    <tr>\n",
              "      <th>2020-11-16 07:15:00</th>\n",
              "      <td>23.349245</td>\n",
              "      <td>21.742683</td>\n",
              "      <td>-1.606562</td>\n",
              "      <td>2.581041</td>\n",
              "    </tr>\n",
              "    <tr>\n",
              "      <th>2020-11-16 07:30:00</th>\n",
              "      <td>23.351945</td>\n",
              "      <td>21.735884</td>\n",
              "      <td>-1.616061</td>\n",
              "      <td>2.611654</td>\n",
              "    </tr>\n",
              "    <tr>\n",
              "      <th>2020-11-16 07:45:00</th>\n",
              "      <td>23.351450</td>\n",
              "      <td>21.723219</td>\n",
              "      <td>-1.628231</td>\n",
              "      <td>2.651137</td>\n",
              "    </tr>\n",
              "    <tr>\n",
              "      <th>2020-11-16 08:00:00</th>\n",
              "      <td>23.341124</td>\n",
              "      <td>21.717978</td>\n",
              "      <td>-1.623146</td>\n",
              "      <td>2.634603</td>\n",
              "    </tr>\n",
              "  </tbody>\n",
              "</table>\n",
              "<p>471 rows × 4 columns</p>\n",
              "</div>"
            ],
            "text/plain": [
              "                      Measured    Modeled  pre_min_obs  pre_min_obs_sq\n",
              "datetime                                                              \n",
              "2020-11-11 10:30:00  23.076363  20.967607    -2.108756        4.446850\n",
              "2020-11-11 10:45:00  23.046211  20.998470    -2.047741        4.193241\n",
              "2020-11-11 11:00:00  23.000329  21.008608    -1.991721        3.966954\n",
              "2020-11-11 11:15:00  22.969693  21.024963    -1.944730        3.781975\n",
              "2020-11-11 11:30:00  22.952131  21.052130    -1.900001        3.610002\n",
              "...                        ...        ...          ...             ...\n",
              "2020-11-16 07:00:00  23.360472  21.753029    -1.607443        2.583874\n",
              "2020-11-16 07:15:00  23.349245  21.742683    -1.606562        2.581041\n",
              "2020-11-16 07:30:00  23.351945  21.735884    -1.616061        2.611654\n",
              "2020-11-16 07:45:00  23.351450  21.723219    -1.628231        2.651137\n",
              "2020-11-16 08:00:00  23.341124  21.717978    -1.623146        2.634603\n",
              "\n",
              "[471 rows x 4 columns]"
            ]
          },
          "metadata": {
            "tags": []
          },
          "execution_count": 16
        }
      ]
    },
    {
      "cell_type": "code",
      "metadata": {
        "colab": {
          "base_uri": "https://localhost:8080/",
          "height": 319
        },
        "id": "dYead_ohCc1h",
        "outputId": "77eacd45-c619-4166-b7fb-059296681fa3"
      },
      "source": [
        "ac_plnm_plot_df.plot()"
      ],
      "execution_count": null,
      "outputs": [
        {
          "output_type": "execute_result",
          "data": {
            "text/plain": [
              "<matplotlib.axes._subplots.AxesSubplot at 0x7f03df3f2d90>"
            ]
          },
          "metadata": {
            "tags": []
          },
          "execution_count": 17
        },
        {
          "output_type": "display_data",
          "data": {
            "image/png": "[encoded data removed]",
            "text/plain": [
              "<Figure size 432x288 with 1 Axes>"
            ]
          },
          "metadata": {
            "tags": [],
            "needs_background": "light"
          }
        }
      ]
    },
    {
      "cell_type": "markdown",
      "metadata": {
        "id": "uZiReWRBSZKh"
      },
      "source": [
        "### 3.1.4 Total Energy"
      ]
    },
    {
      "cell_type": "code",
      "metadata": {
        "colab": {
          "base_uri": "https://localhost:8080/",
          "height": 547
        },
        "id": "-akEqWQySe-M",
        "outputId": "f275f4b3-ada3-4382-8626-beb20fc38a6b"
      },
      "source": [
        "# series of total energy \n",
        "ac_obs_tot_series = ac_elec_calc_df.loc[:, obs_col_name] + obs_mech_df.loc[ac_beg:ac_end, 'chw_fan']\n",
        "ac_pre_tot_series = ac_elec_calc_df.loc[:, pre_col_name] + ac_clg_calc_df.loc[:, pre_col_name] + pre_ac_fan_df.loc[:, 'PTAC_Fan_electric_rate']\n",
        "\n",
        "# dict of data\n",
        "ac_total_dict = {obs_col_name:ac_obs_tot_series,\n",
        "                 pre_col_name:ac_pre_tot_series}\n",
        "\n",
        "# dataframe\n",
        "ac_total_calc_df = pd.DataFrame(data=ac_total_dict)\n",
        "\n",
        "# copy dataframe for plots\n",
        "ac_total_plot_df = pd.DataFrame(ac_total_calc_df.loc[:])\n",
        "\n",
        "# set periods between experiments to NaN for calcs\n",
        "ac_total_calc_df.loc[ac_lo_end:ac_md_beg, obs_col_name] = np.nan\n",
        "ac_total_calc_df.loc[ac_md_end:ac_hi_beg, obs_col_name] = np.nan\n",
        "\n",
        "# calculate difference between predicted and observed for NMBE\n",
        "ac_total_calc_df['pre_min_obs'] = ac_total_calc_df[pre_col_name] - ac_total_calc_df[obs_col_name]\n",
        "\n",
        "# calculate the square of the difference for CV(RMSE)\n",
        "ac_total_calc_df['pre_min_obs_sq'] = ac_total_calc_df['pre_min_obs']**2\n",
        "\n",
        "# calculate NMBE and CV(RMSE)\n",
        "ac_total_dict = calcs(ac_total_calc_df['pre_min_obs'], ac_total_calc_df[obs_col_name], ac_total_calc_df['pre_min_obs_sq'])\n",
        "\n",
        "# show\n",
        "ac_total_calc_df"
      ],
      "execution_count": null,
      "outputs": [
        {
          "output_type": "stream",
          "text": [
            "NMBE sum = 119937.1147216975\n",
            "n = 381\n",
            "y_bar = 4049.1496338800607\n",
            "NMBE = 0.07794821497058049\n",
            "CV(RMSE) = 0.08631600745303618\n"
          ],
          "name": "stdout"
        },
        {
          "output_type": "execute_result",
          "data": {
            "text/html": [
              "<div>\n",
              "<style scoped>\n",
              "    .dataframe tbody tr th:only-of-type {\n",
              "        vertical-align: middle;\n",
              "    }\n",
              "\n",
              "    .dataframe tbody tr th {\n",
              "        vertical-align: top;\n",
              "    }\n",
              "\n",
              "    .dataframe thead th {\n",
              "        text-align: right;\n",
              "    }\n",
              "</style>\n",
              "<table border=\"1\" class=\"dataframe\">\n",
              "  <thead>\n",
              "    <tr style=\"text-align: right;\">\n",
              "      <th></th>\n",
              "      <th>Measured</th>\n",
              "      <th>Modeled</th>\n",
              "      <th>pre_min_obs</th>\n",
              "      <th>pre_min_obs_sq</th>\n",
              "    </tr>\n",
              "    <tr>\n",
              "      <th>datetime</th>\n",
              "      <th></th>\n",
              "      <th></th>\n",
              "      <th></th>\n",
              "      <th></th>\n",
              "    </tr>\n",
              "  </thead>\n",
              "  <tbody>\n",
              "    <tr>\n",
              "      <th>2020-11-11 10:30:00</th>\n",
              "      <td>1971.592432</td>\n",
              "      <td>2552.57927</td>\n",
              "      <td>580.986838</td>\n",
              "      <td>337545.705733</td>\n",
              "    </tr>\n",
              "    <tr>\n",
              "      <th>2020-11-11 10:45:00</th>\n",
              "      <td>1956.838374</td>\n",
              "      <td>1870.85184</td>\n",
              "      <td>-85.986534</td>\n",
              "      <td>7393.684100</td>\n",
              "    </tr>\n",
              "    <tr>\n",
              "      <th>2020-11-11 11:00:00</th>\n",
              "      <td>1999.279577</td>\n",
              "      <td>1869.44930</td>\n",
              "      <td>-129.830277</td>\n",
              "      <td>16855.900931</td>\n",
              "    </tr>\n",
              "    <tr>\n",
              "      <th>2020-11-11 11:15:00</th>\n",
              "      <td>1969.931797</td>\n",
              "      <td>1880.52705</td>\n",
              "      <td>-89.404747</td>\n",
              "      <td>7993.208697</td>\n",
              "    </tr>\n",
              "    <tr>\n",
              "      <th>2020-11-11 11:30:00</th>\n",
              "      <td>1974.061305</td>\n",
              "      <td>1890.04666</td>\n",
              "      <td>-84.014645</td>\n",
              "      <td>7058.460495</td>\n",
              "    </tr>\n",
              "    <tr>\n",
              "      <th>...</th>\n",
              "      <td>...</td>\n",
              "      <td>...</td>\n",
              "      <td>...</td>\n",
              "      <td>...</td>\n",
              "    </tr>\n",
              "    <tr>\n",
              "      <th>2020-11-16 07:00:00</th>\n",
              "      <td>4392.095733</td>\n",
              "      <td>4810.57830</td>\n",
              "      <td>418.482567</td>\n",
              "      <td>175127.658706</td>\n",
              "    </tr>\n",
              "    <tr>\n",
              "      <th>2020-11-16 07:15:00</th>\n",
              "      <td>4395.252294</td>\n",
              "      <td>4813.47080</td>\n",
              "      <td>418.218506</td>\n",
              "      <td>174906.718606</td>\n",
              "    </tr>\n",
              "    <tr>\n",
              "      <th>2020-11-16 07:30:00</th>\n",
              "      <td>4288.550847</td>\n",
              "      <td>4816.41710</td>\n",
              "      <td>527.866253</td>\n",
              "      <td>278642.781151</td>\n",
              "    </tr>\n",
              "    <tr>\n",
              "      <th>2020-11-16 07:45:00</th>\n",
              "      <td>4528.650981</td>\n",
              "      <td>4818.71340</td>\n",
              "      <td>290.062419</td>\n",
              "      <td>84136.207031</td>\n",
              "    </tr>\n",
              "    <tr>\n",
              "      <th>2020-11-16 08:00:00</th>\n",
              "      <td>4429.217403</td>\n",
              "      <td>4823.41020</td>\n",
              "      <td>394.192797</td>\n",
              "      <td>155387.961276</td>\n",
              "    </tr>\n",
              "  </tbody>\n",
              "</table>\n",
              "<p>471 rows × 4 columns</p>\n",
              "</div>"
            ],
            "text/plain": [
              "                        Measured     Modeled  pre_min_obs  pre_min_obs_sq\n",
              "datetime                                                                 \n",
              "2020-11-11 10:30:00  1971.592432  2552.57927   580.986838   337545.705733\n",
              "2020-11-11 10:45:00  1956.838374  1870.85184   -85.986534     7393.684100\n",
              "2020-11-11 11:00:00  1999.279577  1869.44930  -129.830277    16855.900931\n",
              "2020-11-11 11:15:00  1969.931797  1880.52705   -89.404747     7993.208697\n",
              "2020-11-11 11:30:00  1974.061305  1890.04666   -84.014645     7058.460495\n",
              "...                          ...         ...          ...             ...\n",
              "2020-11-16 07:00:00  4392.095733  4810.57830   418.482567   175127.658706\n",
              "2020-11-16 07:15:00  4395.252294  4813.47080   418.218506   174906.718606\n",
              "2020-11-16 07:30:00  4288.550847  4816.41710   527.866253   278642.781151\n",
              "2020-11-16 07:45:00  4528.650981  4818.71340   290.062419    84136.207031\n",
              "2020-11-16 08:00:00  4429.217403  4823.41020   394.192797   155387.961276\n",
              "\n",
              "[471 rows x 4 columns]"
            ]
          },
          "metadata": {
            "tags": []
          },
          "execution_count": 51
        }
      ]
    },
    {
      "cell_type": "code",
      "metadata": {
        "colab": {
          "base_uri": "https://localhost:8080/",
          "height": 319
        },
        "id": "ppiFaQKblckC",
        "outputId": "bf82d57a-3769-4bc3-c552-3448bebbeae4"
      },
      "source": [
        "ac_total_plot_df.plot()"
      ],
      "execution_count": null,
      "outputs": [
        {
          "output_type": "execute_result",
          "data": {
            "text/plain": [
              "<matplotlib.axes._subplots.AxesSubplot at 0x7f03da033ad0>"
            ]
          },
          "metadata": {
            "tags": []
          },
          "execution_count": 28
        },
        {
          "output_type": "display_data",
          "data": {
            "image/png": "[encoded data removed]",
            "text/plain": [
              "<Figure size 432x288 with 1 Axes>"
            ]
          },
          "metadata": {
            "tags": [],
            "needs_background": "light"
          }
        }
      ]
    },
    {
      "cell_type": "markdown",
      "metadata": {
        "id": "QVHT55rL_V6J"
      },
      "source": [
        "## 3.2 DC Experiment"
      ]
    },
    {
      "cell_type": "markdown",
      "metadata": {
        "id": "0tY_uTZAD5pZ"
      },
      "source": [
        "### 3.2.1 Electrical Load"
      ]
    },
    {
      "cell_type": "code",
      "metadata": {
        "id": "eDmkMEs0yMpw",
        "colab": {
          "base_uri": "https://localhost:8080/",
          "height": 547
        },
        "outputId": "2e3062b1-d61d-42a1-a4f7-8392314ba9b7"
      },
      "source": [
        "# copy observed dataframe\n",
        "dc_elec_calc_df = pd.DataFrame(obs_raw_elec_dc_df.resample(resample_rule).mean()[dc_beg:dc_end])\n",
        "\n",
        "# rename column\n",
        "dc_elec_calc_df.rename(columns={'DC_Power_Hub':obs_col_name}, inplace=True)\n",
        "\n",
        "# add column from predicted dataframe\n",
        "dc_elec_calc_df[pre_col_name] = - pre_dc_pwr_df['Vin.P']\n",
        "\n",
        "# new dataframe for plots\n",
        "dc_elec_plot_df = pd.DataFrame(dc_elec_calc_df.loc[:])\n",
        "\n",
        "# set periods between experiments to NaN for calcs\n",
        "dc_elec_calc_df.loc[dc_hi_end:dc_lo_beg, obs_col_name] = np.nan\n",
        "dc_elec_calc_df.loc[dc_lo_end:dc_md_beg, obs_col_name] = np.nan\n",
        "\n",
        "# calculate difference of predicted and observed for NMBE\n",
        "dc_elec_calc_df['pre_min_obs'] = dc_elec_calc_df[pre_col_name] - dc_elec_calc_df[obs_col_name]\n",
        "\n",
        "# calculate the square of the difference for CV(RMSE)\n",
        "dc_elec_calc_df['pre_min_obs_sq'] = dc_elec_calc_df['pre_min_obs']**2\n",
        "\n",
        "# calculate NMBE and CV(RMSE)\n",
        "dc_elec_dict = calcs(dc_elec_calc_df['pre_min_obs'], dc_elec_calc_df[obs_col_name], dc_elec_calc_df['pre_min_obs_sq'])\n",
        "\n",
        "# show\n",
        "dc_elec_calc_df"
      ],
      "execution_count": null,
      "outputs": [
        {
          "output_type": "stream",
          "text": [
            "NMBE sum = -31389.650706683744\n",
            "n = 933\n",
            "y_bar = 650.8149902751161\n",
            "NMBE = -0.051750318040855114\n",
            "CV(RMSE) = 0.055724616448556974\n"
          ],
          "name": "stdout"
        },
        {
          "output_type": "execute_result",
          "data": {
            "text/html": [
              "<div>\n",
              "<style scoped>\n",
              "    .dataframe tbody tr th:only-of-type {\n",
              "        vertical-align: middle;\n",
              "    }\n",
              "\n",
              "    .dataframe tbody tr th {\n",
              "        vertical-align: top;\n",
              "    }\n",
              "\n",
              "    .dataframe thead th {\n",
              "        text-align: right;\n",
              "    }\n",
              "</style>\n",
              "<table border=\"1\" class=\"dataframe\">\n",
              "  <thead>\n",
              "    <tr style=\"text-align: right;\">\n",
              "      <th></th>\n",
              "      <th>Measured</th>\n",
              "      <th>Modeled</th>\n",
              "      <th>pre_min_obs</th>\n",
              "      <th>pre_min_obs_sq</th>\n",
              "    </tr>\n",
              "    <tr>\n",
              "      <th>datetime</th>\n",
              "      <th></th>\n",
              "      <th></th>\n",
              "      <th></th>\n",
              "      <th></th>\n",
              "    </tr>\n",
              "  </thead>\n",
              "  <tbody>\n",
              "    <tr>\n",
              "      <th>2020-11-17 18:00:00</th>\n",
              "      <td>835.247643</td>\n",
              "      <td>592.96344</td>\n",
              "      <td>-242.284203</td>\n",
              "      <td>58701.634920</td>\n",
              "    </tr>\n",
              "    <tr>\n",
              "      <th>2020-11-17 18:15:00</th>\n",
              "      <td>835.186981</td>\n",
              "      <td>791.08624</td>\n",
              "      <td>-44.100741</td>\n",
              "      <td>1944.875327</td>\n",
              "    </tr>\n",
              "    <tr>\n",
              "      <th>2020-11-17 18:30:00</th>\n",
              "      <td>835.289472</td>\n",
              "      <td>791.09700</td>\n",
              "      <td>-44.192472</td>\n",
              "      <td>1952.974616</td>\n",
              "    </tr>\n",
              "    <tr>\n",
              "      <th>2020-11-17 18:45:00</th>\n",
              "      <td>835.067624</td>\n",
              "      <td>791.12620</td>\n",
              "      <td>-43.941424</td>\n",
              "      <td>1930.848752</td>\n",
              "    </tr>\n",
              "    <tr>\n",
              "      <th>2020-11-17 19:00:00</th>\n",
              "      <td>835.036771</td>\n",
              "      <td>791.08970</td>\n",
              "      <td>-43.947071</td>\n",
              "      <td>1931.345028</td>\n",
              "    </tr>\n",
              "    <tr>\n",
              "      <th>...</th>\n",
              "      <td>...</td>\n",
              "      <td>...</td>\n",
              "      <td>...</td>\n",
              "      <td>...</td>\n",
              "    </tr>\n",
              "    <tr>\n",
              "      <th>2020-11-30 07:00:00</th>\n",
              "      <td>624.850747</td>\n",
              "      <td>595.77515</td>\n",
              "      <td>-29.075597</td>\n",
              "      <td>845.390350</td>\n",
              "    </tr>\n",
              "    <tr>\n",
              "      <th>2020-11-30 07:15:00</th>\n",
              "      <td>624.876262</td>\n",
              "      <td>595.75170</td>\n",
              "      <td>-29.124562</td>\n",
              "      <td>848.240134</td>\n",
              "    </tr>\n",
              "    <tr>\n",
              "      <th>2020-11-30 07:30:00</th>\n",
              "      <td>624.795827</td>\n",
              "      <td>595.76130</td>\n",
              "      <td>-29.034527</td>\n",
              "      <td>843.003755</td>\n",
              "    </tr>\n",
              "    <tr>\n",
              "      <th>2020-11-30 07:45:00</th>\n",
              "      <td>624.820197</td>\n",
              "      <td>595.81450</td>\n",
              "      <td>-29.005697</td>\n",
              "      <td>841.330481</td>\n",
              "    </tr>\n",
              "    <tr>\n",
              "      <th>2020-11-30 08:00:00</th>\n",
              "      <td>624.828604</td>\n",
              "      <td>595.76660</td>\n",
              "      <td>-29.062004</td>\n",
              "      <td>844.600052</td>\n",
              "    </tr>\n",
              "  </tbody>\n",
              "</table>\n",
              "<p>1209 rows × 4 columns</p>\n",
              "</div>"
            ],
            "text/plain": [
              "                       Measured    Modeled  pre_min_obs  pre_min_obs_sq\n",
              "datetime                                                               \n",
              "2020-11-17 18:00:00  835.247643  592.96344  -242.284203    58701.634920\n",
              "2020-11-17 18:15:00  835.186981  791.08624   -44.100741     1944.875327\n",
              "2020-11-17 18:30:00  835.289472  791.09700   -44.192472     1952.974616\n",
              "2020-11-17 18:45:00  835.067624  791.12620   -43.941424     1930.848752\n",
              "2020-11-17 19:00:00  835.036771  791.08970   -43.947071     1931.345028\n",
              "...                         ...        ...          ...             ...\n",
              "2020-11-30 07:00:00  624.850747  595.77515   -29.075597      845.390350\n",
              "2020-11-30 07:15:00  624.876262  595.75170   -29.124562      848.240134\n",
              "2020-11-30 07:30:00  624.795827  595.76130   -29.034527      843.003755\n",
              "2020-11-30 07:45:00  624.820197  595.81450   -29.005697      841.330481\n",
              "2020-11-30 08:00:00  624.828604  595.76660   -29.062004      844.600052\n",
              "\n",
              "[1209 rows x 4 columns]"
            ]
          },
          "metadata": {
            "tags": []
          },
          "execution_count": 29
        }
      ]
    },
    {
      "cell_type": "code",
      "metadata": {
        "id": "QtM03xn2EmeK",
        "colab": {
          "base_uri": "https://localhost:8080/",
          "height": 319
        },
        "outputId": "d26816dd-178c-4cb2-a970-a7c45a754113"
      },
      "source": [
        "dc_elec_plot_df.plot()"
      ],
      "execution_count": null,
      "outputs": [
        {
          "output_type": "execute_result",
          "data": {
            "text/plain": [
              "<matplotlib.axes._subplots.AxesSubplot at 0x7f03da092310>"
            ]
          },
          "metadata": {
            "tags": []
          },
          "execution_count": 30
        },
        {
          "output_type": "display_data",
          "data": {
            "image/png": "[encoded data removed]",
            "text/plain": [
              "<Figure size 432x288 with 1 Axes>"
            ]
          },
          "metadata": {
            "tags": [],
            "needs_background": "light"
          }
        }
      ]
    },
    {
      "cell_type": "markdown",
      "metadata": {
        "id": "C8cehz-YEnGQ"
      },
      "source": [
        "### 3.2.2 Cooling Load"
      ]
    },
    {
      "cell_type": "code",
      "metadata": {
        "colab": {
          "base_uri": "https://localhost:8080/",
          "height": 309
        },
        "id": "h_uJgVNmFLFF",
        "outputId": "ae920bb5-ffa8-4dab-a8a8-8a84460af46f"
      },
      "source": [
        "obs_mech_df['2020-11-22 10:15':'2020-11-23 00:00'].plot()\n",
        "# '2020-11-22 10:45' "
      ],
      "execution_count": null,
      "outputs": [
        {
          "output_type": "execute_result",
          "data": {
            "text/plain": [
              "<matplotlib.axes._subplots.AxesSubplot at 0x7f3a727af0d0>"
            ]
          },
          "metadata": {
            "tags": []
          },
          "execution_count": 24
        },
        {
          "output_type": "display_data",
          "data": {
            "image/png": "[encoded data removed]",
            "text/plain": [
              "<Figure size 432x288 with 1 Axes>"
            ]
          },
          "metadata": {
            "tags": [],
            "needs_background": "light"
          }
        }
      ]
    },
    {
      "cell_type": "code",
      "metadata": {
        "colab": {
          "base_uri": "https://localhost:8080/",
          "height": 547
        },
        "id": "bm6lFdMtEq2L",
        "outputId": "71b4fd28-323e-45b5-d55f-195a5a13c5d1"
      },
      "source": [
        "# copy observed dataframe\n",
        "dc_clg_calc_df = pd.DataFrame(obs_mech_df.loc[dc_beg:dc_end, 'chw'])\n",
        "\n",
        "# rename column\n",
        "dc_clg_calc_df.rename(columns={'chw':obs_col_name}, inplace=True)\n",
        "\n",
        "# reverse sign of observed cooling load\n",
        "# dc_mech_calc_df[obs_col_name] = - dc_mech_calc_df[obs_col_name]\n",
        "\n",
        "# add column from predicted dataframes\n",
        "dc_clg_calc_df[pre_col_name] = pre_dc_clg_df['PTAC_Clg_Coil_Cooling_Rate']\n",
        "\n",
        "# set bad data to NaN\n",
        "dc_clg_calc_df.loc['2020-11-22 10:15':'2020-11-23 00:00', obs_col_name] = np.nan #'2020-11-22 10:45':'2020-11-22 23:00'\n",
        "\n",
        "# new dataframe for plots\n",
        "dc_clg_plot_df = pd.DataFrame(dc_clg_calc_df)\n",
        "\n",
        "# set periods between experiments to NaN for calcs\n",
        "dc_clg_calc_df.loc[dc_hi_end:dc_lo_beg, obs_col_name] = np.nan\n",
        "dc_clg_calc_df.loc[dc_lo_end:dc_md_beg, obs_col_name] = np.nan\n",
        "\n",
        "# calculate difference of predicted and observed for NMBE\n",
        "dc_clg_calc_df['pre_min_obs'] = dc_clg_calc_df[pre_col_name] - dc_clg_calc_df[obs_col_name]\n",
        "\n",
        "# calculate the square of the difference for CV(RMSE)\n",
        "dc_clg_calc_df['pre_min_obs_sq'] = dc_clg_calc_df['pre_min_obs']**2\n",
        "\n",
        "# calculate NMBE and CV(RMSE)\n",
        "dc_clg_dict = calcs(dc_clg_calc_df['pre_min_obs'], dc_clg_calc_df[obs_col_name], dc_clg_calc_df['pre_min_obs_sq'])\n",
        "\n",
        "# show\n",
        "dc_clg_calc_df"
      ],
      "execution_count": null,
      "outputs": [
        {
          "output_type": "stream",
          "text": [
            "NMBE sum = 49071.156569266794\n",
            "n = 933\n",
            "y_bar = 904.1352583501964\n",
            "NMBE = 0.05823404746154722\n",
            "CV(RMSE) = 0.14208443055288156\n"
          ],
          "name": "stdout"
        },
        {
          "output_type": "execute_result",
          "data": {
            "text/html": [
              "<div>\n",
              "<style scoped>\n",
              "    .dataframe tbody tr th:only-of-type {\n",
              "        vertical-align: middle;\n",
              "    }\n",
              "\n",
              "    .dataframe tbody tr th {\n",
              "        vertical-align: top;\n",
              "    }\n",
              "\n",
              "    .dataframe thead th {\n",
              "        text-align: right;\n",
              "    }\n",
              "</style>\n",
              "<table border=\"1\" class=\"dataframe\">\n",
              "  <thead>\n",
              "    <tr style=\"text-align: right;\">\n",
              "      <th></th>\n",
              "      <th>Measured</th>\n",
              "      <th>Modeled</th>\n",
              "      <th>pre_min_obs</th>\n",
              "      <th>pre_min_obs_sq</th>\n",
              "    </tr>\n",
              "    <tr>\n",
              "      <th>datetime</th>\n",
              "      <th></th>\n",
              "      <th></th>\n",
              "      <th></th>\n",
              "      <th></th>\n",
              "    </tr>\n",
              "  </thead>\n",
              "  <tbody>\n",
              "    <tr>\n",
              "      <th>2020-11-17 18:00:00</th>\n",
              "      <td>980.819374</td>\n",
              "      <td>1055.14250</td>\n",
              "      <td>74.323126</td>\n",
              "      <td>5523.927011</td>\n",
              "    </tr>\n",
              "    <tr>\n",
              "      <th>2020-11-17 18:15:00</th>\n",
              "      <td>1112.145743</td>\n",
              "      <td>1497.02980</td>\n",
              "      <td>384.884057</td>\n",
              "      <td>148135.737636</td>\n",
              "    </tr>\n",
              "    <tr>\n",
              "      <th>2020-11-17 18:30:00</th>\n",
              "      <td>1151.807397</td>\n",
              "      <td>1480.50000</td>\n",
              "      <td>328.692603</td>\n",
              "      <td>108038.827096</td>\n",
              "    </tr>\n",
              "    <tr>\n",
              "      <th>2020-11-17 18:45:00</th>\n",
              "      <td>1119.484403</td>\n",
              "      <td>1455.57470</td>\n",
              "      <td>336.090297</td>\n",
              "      <td>112956.687697</td>\n",
              "    </tr>\n",
              "    <tr>\n",
              "      <th>2020-11-17 19:00:00</th>\n",
              "      <td>1053.963654</td>\n",
              "      <td>1437.92970</td>\n",
              "      <td>383.966046</td>\n",
              "      <td>147429.924686</td>\n",
              "    </tr>\n",
              "    <tr>\n",
              "      <th>...</th>\n",
              "      <td>...</td>\n",
              "      <td>...</td>\n",
              "      <td>...</td>\n",
              "      <td>...</td>\n",
              "    </tr>\n",
              "    <tr>\n",
              "      <th>2020-11-30 06:45:00</th>\n",
              "      <td>728.836817</td>\n",
              "      <td>749.12800</td>\n",
              "      <td>20.291183</td>\n",
              "      <td>411.732109</td>\n",
              "    </tr>\n",
              "    <tr>\n",
              "      <th>2020-11-30 07:00:00</th>\n",
              "      <td>694.658074</td>\n",
              "      <td>746.27734</td>\n",
              "      <td>51.619266</td>\n",
              "      <td>2664.548610</td>\n",
              "    </tr>\n",
              "    <tr>\n",
              "      <th>2020-11-30 07:15:00</th>\n",
              "      <td>630.403077</td>\n",
              "      <td>732.87335</td>\n",
              "      <td>102.470273</td>\n",
              "      <td>10500.156933</td>\n",
              "    </tr>\n",
              "    <tr>\n",
              "      <th>2020-11-30 07:30:00</th>\n",
              "      <td>641.782624</td>\n",
              "      <td>718.82544</td>\n",
              "      <td>77.042816</td>\n",
              "      <td>5935.595481</td>\n",
              "    </tr>\n",
              "    <tr>\n",
              "      <th>2020-11-30 07:45:00</th>\n",
              "      <td>648.519050</td>\n",
              "      <td>706.18380</td>\n",
              "      <td>57.664750</td>\n",
              "      <td>3325.223431</td>\n",
              "    </tr>\n",
              "  </tbody>\n",
              "</table>\n",
              "<p>1208 rows × 4 columns</p>\n",
              "</div>"
            ],
            "text/plain": [
              "                        Measured     Modeled  pre_min_obs  pre_min_obs_sq\n",
              "datetime                                                                 \n",
              "2020-11-17 18:00:00   980.819374  1055.14250    74.323126     5523.927011\n",
              "2020-11-17 18:15:00  1112.145743  1497.02980   384.884057   148135.737636\n",
              "2020-11-17 18:30:00  1151.807397  1480.50000   328.692603   108038.827096\n",
              "2020-11-17 18:45:00  1119.484403  1455.57470   336.090297   112956.687697\n",
              "2020-11-17 19:00:00  1053.963654  1437.92970   383.966046   147429.924686\n",
              "...                          ...         ...          ...             ...\n",
              "2020-11-30 06:45:00   728.836817   749.12800    20.291183      411.732109\n",
              "2020-11-30 07:00:00   694.658074   746.27734    51.619266     2664.548610\n",
              "2020-11-30 07:15:00   630.403077   732.87335   102.470273    10500.156933\n",
              "2020-11-30 07:30:00   641.782624   718.82544    77.042816     5935.595481\n",
              "2020-11-30 07:45:00   648.519050   706.18380    57.664750     3325.223431\n",
              "\n",
              "[1208 rows x 4 columns]"
            ]
          },
          "metadata": {
            "tags": []
          },
          "execution_count": 34
        }
      ]
    },
    {
      "cell_type": "code",
      "metadata": {
        "colab": {
          "base_uri": "https://localhost:8080/",
          "height": 319
        },
        "id": "7nnZ5RKPEq-d",
        "outputId": "db8da0f9-54be-40bc-bab6-a323dfa7036b"
      },
      "source": [
        "dc_clg_plot_df.plot()"
      ],
      "execution_count": null,
      "outputs": [
        {
          "output_type": "execute_result",
          "data": {
            "text/plain": [
              "<matplotlib.axes._subplots.AxesSubplot at 0x7f03d9e20390>"
            ]
          },
          "metadata": {
            "tags": []
          },
          "execution_count": 35
        },
        {
          "output_type": "display_data",
          "data": {
            "image/png": "[encoded data removed]",
            "text/plain": [
              "<Figure size 432x288 with 1 Axes>"
            ]
          },
          "metadata": {
            "tags": [],
            "needs_background": "light"
          }
        }
      ]
    },
    {
      "cell_type": "markdown",
      "metadata": {
        "id": "fdBoaK7kGLKX"
      },
      "source": [
        "### 3.2.3 Temperatures"
      ]
    },
    {
      "cell_type": "code",
      "metadata": {
        "colab": {
          "base_uri": "https://localhost:8080/",
          "height": 326
        },
        "id": "XanCwtYnbHI2",
        "outputId": "bd1fcd96-cdbb-47d1-b663-574b340c7e4f"
      },
      "source": [
        "obs_temp_df.loc['2020-11-20 17:30':'2020-11-23 00:00', 'zone_temp'].plot()"
      ],
      "execution_count": null,
      "outputs": [
        {
          "output_type": "execute_result",
          "data": {
            "text/plain": [
              "<matplotlib.axes._subplots.AxesSubplot at 0x7fdbee06bd10>"
            ]
          },
          "metadata": {
            "tags": []
          },
          "execution_count": 165
        },
        {
          "output_type": "display_data",
          "data": {
            "image/png": "[encoded data removed]",
            "text/plain": [
              "<Figure size 432x288 with 1 Axes>"
            ]
          },
          "metadata": {
            "tags": []
          }
        }
      ]
    },
    {
      "cell_type": "code",
      "metadata": {
        "colab": {
          "base_uri": "https://localhost:8080/",
          "height": 547
        },
        "id": "-dL0jnZOGNvN",
        "outputId": "7ff0506d-ead1-4d2e-e33e-5efa7fa4acaf"
      },
      "source": [
        "# copy observed dataframe\n",
        "dc_zone_calc_df = pd.DataFrame(obs_temp_df.loc[dc_beg:dc_end, 'zone_temp'])\n",
        "\n",
        "# rename column\n",
        "dc_zone_calc_df.rename(columns={'zone_temp':obs_col_name}, inplace=True)\n",
        "\n",
        "# add column from predicted dataframe\n",
        "dc_zone_calc_df[pre_col_name] = pre_dc_zone_temp_df['ZoneB_zone_temp']\n",
        "\n",
        "# set bad data to NaN\n",
        "dc_zone_calc_df.loc['2020-11-20 17:30':'2020-11-23 00:00', obs_col_name] = np.nan\n",
        "\n",
        "# new dataframe for plots\n",
        "dc_zone_plot_df = pd.DataFrame(dc_zone_calc_df.loc[:])\n",
        "\n",
        "# set periods between experiments to NaN for calcs\n",
        "dc_zone_calc_df.loc[dc_hi_end:dc_lo_beg, obs_col_name] = np.nan\n",
        "dc_zone_calc_df.loc[dc_lo_end:dc_md_beg, obs_col_name] = np.nan\n",
        "\n",
        "# calculate difference between predicted and observed for NMBE\n",
        "dc_zone_calc_df['pre_min_obs'] = dc_zone_calc_df[pre_col_name] - dc_zone_calc_df[obs_col_name]\n",
        "\n",
        "# calculate the square of the difference for CV(RMSE)\n",
        "dc_zone_calc_df['pre_min_obs_sq'] = dc_zone_calc_df['pre_min_obs']**2\n",
        "\n",
        "# calculate NMBE and CV(RMSE)\n",
        "dc_zone_dict = calcs(dc_zone_calc_df['pre_min_obs'], dc_zone_calc_df[obs_col_name], dc_zone_calc_df['pre_min_obs_sq'])\n",
        "\n",
        "# show\n",
        "dc_zone_calc_df"
      ],
      "execution_count": null,
      "outputs": [
        {
          "output_type": "stream",
          "text": [
            "NMBE sum = -145.6233749886662\n",
            "n = 934\n",
            "y_bar = 23.155967201272663\n",
            "NMBE = -0.006740413233985948\n",
            "CV(RMSE) = 0.007109753379437095\n"
          ],
          "name": "stdout"
        },
        {
          "output_type": "execute_result",
          "data": {
            "text/html": [
              "<div>\n",
              "<style scoped>\n",
              "    .dataframe tbody tr th:only-of-type {\n",
              "        vertical-align: middle;\n",
              "    }\n",
              "\n",
              "    .dataframe tbody tr th {\n",
              "        vertical-align: top;\n",
              "    }\n",
              "\n",
              "    .dataframe thead th {\n",
              "        text-align: right;\n",
              "    }\n",
              "</style>\n",
              "<table border=\"1\" class=\"dataframe\">\n",
              "  <thead>\n",
              "    <tr style=\"text-align: right;\">\n",
              "      <th></th>\n",
              "      <th>Measured</th>\n",
              "      <th>Modeled</th>\n",
              "      <th>pre_min_obs</th>\n",
              "      <th>pre_min_obs_sq</th>\n",
              "    </tr>\n",
              "    <tr>\n",
              "      <th>datetime</th>\n",
              "      <th></th>\n",
              "      <th></th>\n",
              "      <th></th>\n",
              "      <th></th>\n",
              "    </tr>\n",
              "  </thead>\n",
              "  <tbody>\n",
              "    <tr>\n",
              "      <th>2020-11-17 18:00:00</th>\n",
              "      <td>23.197808</td>\n",
              "      <td>23.000034</td>\n",
              "      <td>-0.197774</td>\n",
              "      <td>0.039114</td>\n",
              "    </tr>\n",
              "    <tr>\n",
              "      <th>2020-11-17 18:15:00</th>\n",
              "      <td>23.206877</td>\n",
              "      <td>22.998964</td>\n",
              "      <td>-0.207913</td>\n",
              "      <td>0.043228</td>\n",
              "    </tr>\n",
              "    <tr>\n",
              "      <th>2020-11-17 18:30:00</th>\n",
              "      <td>23.196386</td>\n",
              "      <td>22.998990</td>\n",
              "      <td>-0.197396</td>\n",
              "      <td>0.038965</td>\n",
              "    </tr>\n",
              "    <tr>\n",
              "      <th>2020-11-17 18:45:00</th>\n",
              "      <td>23.206489</td>\n",
              "      <td>22.999294</td>\n",
              "      <td>-0.207195</td>\n",
              "      <td>0.042930</td>\n",
              "    </tr>\n",
              "    <tr>\n",
              "      <th>2020-11-17 19:00:00</th>\n",
              "      <td>23.190290</td>\n",
              "      <td>22.999586</td>\n",
              "      <td>-0.190704</td>\n",
              "      <td>0.036368</td>\n",
              "    </tr>\n",
              "    <tr>\n",
              "      <th>...</th>\n",
              "      <td>...</td>\n",
              "      <td>...</td>\n",
              "      <td>...</td>\n",
              "      <td>...</td>\n",
              "    </tr>\n",
              "    <tr>\n",
              "      <th>2020-11-30 07:00:00</th>\n",
              "      <td>23.076906</td>\n",
              "      <td>22.999811</td>\n",
              "      <td>-0.077095</td>\n",
              "      <td>0.005944</td>\n",
              "    </tr>\n",
              "    <tr>\n",
              "      <th>2020-11-30 07:15:00</th>\n",
              "      <td>23.086813</td>\n",
              "      <td>22.999916</td>\n",
              "      <td>-0.086897</td>\n",
              "      <td>0.007551</td>\n",
              "    </tr>\n",
              "    <tr>\n",
              "      <th>2020-11-30 07:30:00</th>\n",
              "      <td>23.081688</td>\n",
              "      <td>23.000029</td>\n",
              "      <td>-0.081659</td>\n",
              "      <td>0.006668</td>\n",
              "    </tr>\n",
              "    <tr>\n",
              "      <th>2020-11-30 07:45:00</th>\n",
              "      <td>23.087724</td>\n",
              "      <td>23.000080</td>\n",
              "      <td>-0.087644</td>\n",
              "      <td>0.007681</td>\n",
              "    </tr>\n",
              "    <tr>\n",
              "      <th>2020-11-30 08:00:00</th>\n",
              "      <td>23.076771</td>\n",
              "      <td>23.000090</td>\n",
              "      <td>-0.076681</td>\n",
              "      <td>0.005880</td>\n",
              "    </tr>\n",
              "  </tbody>\n",
              "</table>\n",
              "<p>1209 rows × 4 columns</p>\n",
              "</div>"
            ],
            "text/plain": [
              "                      Measured    Modeled  pre_min_obs  pre_min_obs_sq\n",
              "datetime                                                              \n",
              "2020-11-17 18:00:00  23.197808  23.000034    -0.197774        0.039114\n",
              "2020-11-17 18:15:00  23.206877  22.998964    -0.207913        0.043228\n",
              "2020-11-17 18:30:00  23.196386  22.998990    -0.197396        0.038965\n",
              "2020-11-17 18:45:00  23.206489  22.999294    -0.207195        0.042930\n",
              "2020-11-17 19:00:00  23.190290  22.999586    -0.190704        0.036368\n",
              "...                        ...        ...          ...             ...\n",
              "2020-11-30 07:00:00  23.076906  22.999811    -0.077095        0.005944\n",
              "2020-11-30 07:15:00  23.086813  22.999916    -0.086897        0.007551\n",
              "2020-11-30 07:30:00  23.081688  23.000029    -0.081659        0.006668\n",
              "2020-11-30 07:45:00  23.087724  23.000080    -0.087644        0.007681\n",
              "2020-11-30 08:00:00  23.076771  23.000090    -0.076681        0.005880\n",
              "\n",
              "[1209 rows x 4 columns]"
            ]
          },
          "metadata": {
            "tags": []
          },
          "execution_count": 36
        }
      ]
    },
    {
      "cell_type": "code",
      "metadata": {
        "colab": {
          "base_uri": "https://localhost:8080/",
          "height": 319
        },
        "id": "9gk4SjpPGAAg",
        "outputId": "5e23af98-bb6b-4897-9d94-6bbf5cbdbba9"
      },
      "source": [
        "dc_zone_plot_df.plot()"
      ],
      "execution_count": null,
      "outputs": [
        {
          "output_type": "execute_result",
          "data": {
            "text/plain": [
              "<matplotlib.axes._subplots.AxesSubplot at 0x7f03d9d0f810>"
            ]
          },
          "metadata": {
            "tags": []
          },
          "execution_count": 37
        },
        {
          "output_type": "display_data",
          "data": {
            "image/png": "[encoded data removed]",
            "text/plain": [
              "<Figure size 432x288 with 1 Axes>"
            ]
          },
          "metadata": {
            "tags": [],
            "needs_background": "light"
          }
        }
      ]
    },
    {
      "cell_type": "code",
      "metadata": {
        "colab": {
          "base_uri": "https://localhost:8080/",
          "height": 324
        },
        "id": "APDNu3Oid0fm",
        "outputId": "7ef091c7-3aea-4f40-95e4-e41244bd0355"
      },
      "source": [
        "obs_temp_df.loc['2020-11-20 17:00':'2020-11-24 23:00', 'plnm_temp'].plot()"
      ],
      "execution_count": null,
      "outputs": [
        {
          "output_type": "execute_result",
          "data": {
            "text/plain": [
              "<matplotlib.axes._subplots.AxesSubplot at 0x7fdbeda96cd0>"
            ]
          },
          "metadata": {
            "tags": []
          },
          "execution_count": 178
        },
        {
          "output_type": "display_data",
          "data": {
            "image/png": "[encoded data removed]",
            "text/plain": [
              "<Figure size 432x288 with 1 Axes>"
            ]
          },
          "metadata": {
            "tags": []
          }
        }
      ]
    },
    {
      "cell_type": "code",
      "metadata": {
        "id": "J3-XuJa2GvrL",
        "colab": {
          "base_uri": "https://localhost:8080/",
          "height": 547
        },
        "outputId": "34e2f563-99ba-4c4f-d88a-802451914e54"
      },
      "source": [
        "# copy observed dataframe\n",
        "dc_plnm_calc_df = pd.DataFrame(obs_temp_df.loc[dc_beg:dc_end, 'plnm_temp'])\n",
        "\n",
        "# rename column\n",
        "dc_plnm_calc_df.rename(columns={'plnm_temp':obs_col_name}, inplace=True)\n",
        "\n",
        "# add column from predicted dataframe\n",
        "dc_plnm_calc_df[pre_col_name] = pre_dc_plnm_temp_df['PlnmB_zone_temp']\n",
        "\n",
        "# set bad data to NaN\n",
        "dc_plnm_calc_df.loc['2020-11-20 17:30':'2020-11-23 00:00', obs_col_name] = np.nan\n",
        "\n",
        "# new dataframe for plots\n",
        "dc_plnm_plot_df = pd.DataFrame(dc_plnm_calc_df.loc[:])\n",
        "\n",
        "# set periods between experiments to NaN for calcs\n",
        "dc_plnm_calc_df.loc[dc_hi_end:dc_lo_beg, obs_col_name] = np.nan\n",
        "dc_plnm_calc_df.loc[dc_lo_end:dc_md_beg, obs_col_name] = np.nan\n",
        "\n",
        "# calculate difference between predicted and observed for NMBE\n",
        "dc_plnm_calc_df['pre_min_obs'] = dc_plnm_calc_df[pre_col_name] - dc_plnm_calc_df[obs_col_name]\n",
        "\n",
        "# calculate the square of the difference for CV(RMSE)\n",
        "dc_plnm_calc_df['pre_min_obs_sq'] = dc_plnm_calc_df['pre_min_obs']**2\n",
        "\n",
        "# calculate NMBE and CV(RMSE)\n",
        "dc_plnm_dict = calcs(dc_plnm_calc_df['pre_min_obs'], dc_plnm_calc_df[obs_col_name], dc_plnm_calc_df['pre_min_obs_sq'])\n",
        "\n",
        "# show\n",
        "dc_plnm_calc_df"
      ],
      "execution_count": null,
      "outputs": [
        {
          "output_type": "stream",
          "text": [
            "NMBE sum = -1156.5947674370766\n",
            "n = 934\n",
            "y_bar = 23.568909096827735\n",
            "NMBE = -0.052596893939859\n",
            "CV(RMSE) = 0.055624175619088286\n"
          ],
          "name": "stdout"
        },
        {
          "output_type": "execute_result",
          "data": {
            "text/html": [
              "<div>\n",
              "<style scoped>\n",
              "    .dataframe tbody tr th:only-of-type {\n",
              "        vertical-align: middle;\n",
              "    }\n",
              "\n",
              "    .dataframe tbody tr th {\n",
              "        vertical-align: top;\n",
              "    }\n",
              "\n",
              "    .dataframe thead th {\n",
              "        text-align: right;\n",
              "    }\n",
              "</style>\n",
              "<table border=\"1\" class=\"dataframe\">\n",
              "  <thead>\n",
              "    <tr style=\"text-align: right;\">\n",
              "      <th></th>\n",
              "      <th>Measured</th>\n",
              "      <th>Modeled</th>\n",
              "      <th>pre_min_obs</th>\n",
              "      <th>pre_min_obs_sq</th>\n",
              "    </tr>\n",
              "    <tr>\n",
              "      <th>datetime</th>\n",
              "      <th></th>\n",
              "      <th></th>\n",
              "      <th></th>\n",
              "      <th></th>\n",
              "    </tr>\n",
              "  </thead>\n",
              "  <tbody>\n",
              "    <tr>\n",
              "      <th>2020-11-17 18:00:00</th>\n",
              "      <td>23.863505</td>\n",
              "      <td>22.551825</td>\n",
              "      <td>-1.311680</td>\n",
              "      <td>1.720504</td>\n",
              "    </tr>\n",
              "    <tr>\n",
              "      <th>2020-11-17 18:15:00</th>\n",
              "      <td>23.851711</td>\n",
              "      <td>22.537746</td>\n",
              "      <td>-1.313965</td>\n",
              "      <td>1.726503</td>\n",
              "    </tr>\n",
              "    <tr>\n",
              "      <th>2020-11-17 18:30:00</th>\n",
              "      <td>23.870643</td>\n",
              "      <td>22.551320</td>\n",
              "      <td>-1.319323</td>\n",
              "      <td>1.740612</td>\n",
              "    </tr>\n",
              "    <tr>\n",
              "      <th>2020-11-17 18:45:00</th>\n",
              "      <td>23.858746</td>\n",
              "      <td>22.559223</td>\n",
              "      <td>-1.299523</td>\n",
              "      <td>1.688761</td>\n",
              "    </tr>\n",
              "    <tr>\n",
              "      <th>2020-11-17 19:00:00</th>\n",
              "      <td>23.856464</td>\n",
              "      <td>22.553844</td>\n",
              "      <td>-1.302620</td>\n",
              "      <td>1.696818</td>\n",
              "    </tr>\n",
              "    <tr>\n",
              "      <th>...</th>\n",
              "      <td>...</td>\n",
              "      <td>...</td>\n",
              "      <td>...</td>\n",
              "      <td>...</td>\n",
              "    </tr>\n",
              "    <tr>\n",
              "      <th>2020-11-30 07:00:00</th>\n",
              "      <td>23.126625</td>\n",
              "      <td>21.846367</td>\n",
              "      <td>-1.280258</td>\n",
              "      <td>1.639061</td>\n",
              "    </tr>\n",
              "    <tr>\n",
              "      <th>2020-11-30 07:15:00</th>\n",
              "      <td>23.128189</td>\n",
              "      <td>21.834858</td>\n",
              "      <td>-1.293331</td>\n",
              "      <td>1.672706</td>\n",
              "    </tr>\n",
              "    <tr>\n",
              "      <th>2020-11-30 07:30:00</th>\n",
              "      <td>23.110097</td>\n",
              "      <td>21.823236</td>\n",
              "      <td>-1.286861</td>\n",
              "      <td>1.656012</td>\n",
              "    </tr>\n",
              "    <tr>\n",
              "      <th>2020-11-30 07:45:00</th>\n",
              "      <td>23.114335</td>\n",
              "      <td>21.816057</td>\n",
              "      <td>-1.298278</td>\n",
              "      <td>1.685525</td>\n",
              "    </tr>\n",
              "    <tr>\n",
              "      <th>2020-11-30 08:00:00</th>\n",
              "      <td>23.109461</td>\n",
              "      <td>21.803154</td>\n",
              "      <td>-1.306307</td>\n",
              "      <td>1.706438</td>\n",
              "    </tr>\n",
              "  </tbody>\n",
              "</table>\n",
              "<p>1209 rows × 4 columns</p>\n",
              "</div>"
            ],
            "text/plain": [
              "                      Measured    Modeled  pre_min_obs  pre_min_obs_sq\n",
              "datetime                                                              \n",
              "2020-11-17 18:00:00  23.863505  22.551825    -1.311680        1.720504\n",
              "2020-11-17 18:15:00  23.851711  22.537746    -1.313965        1.726503\n",
              "2020-11-17 18:30:00  23.870643  22.551320    -1.319323        1.740612\n",
              "2020-11-17 18:45:00  23.858746  22.559223    -1.299523        1.688761\n",
              "2020-11-17 19:00:00  23.856464  22.553844    -1.302620        1.696818\n",
              "...                        ...        ...          ...             ...\n",
              "2020-11-30 07:00:00  23.126625  21.846367    -1.280258        1.639061\n",
              "2020-11-30 07:15:00  23.128189  21.834858    -1.293331        1.672706\n",
              "2020-11-30 07:30:00  23.110097  21.823236    -1.286861        1.656012\n",
              "2020-11-30 07:45:00  23.114335  21.816057    -1.298278        1.685525\n",
              "2020-11-30 08:00:00  23.109461  21.803154    -1.306307        1.706438\n",
              "\n",
              "[1209 rows x 4 columns]"
            ]
          },
          "metadata": {
            "tags": []
          },
          "execution_count": 38
        }
      ]
    },
    {
      "cell_type": "code",
      "metadata": {
        "id": "Bs5Q-hL_Gv6E",
        "colab": {
          "base_uri": "https://localhost:8080/",
          "height": 319
        },
        "outputId": "09cde752-7cae-4626-ae72-82e87a7be6cc"
      },
      "source": [
        "dc_plnm_plot_df.plot()"
      ],
      "execution_count": null,
      "outputs": [
        {
          "output_type": "execute_result",
          "data": {
            "text/plain": [
              "<matplotlib.axes._subplots.AxesSubplot at 0x7f03d9c0fdd0>"
            ]
          },
          "metadata": {
            "tags": []
          },
          "execution_count": 39
        },
        {
          "output_type": "display_data",
          "data": {
            "image/png": "[encoded data removed]",
            "text/plain": [
              "<Figure size 432x288 with 1 Axes>"
            ]
          },
          "metadata": {
            "tags": [],
            "needs_background": "light"
          }
        }
      ]
    },
    {
      "cell_type": "markdown",
      "metadata": {
        "id": "lC4p22s7nanR"
      },
      "source": [
        "### 3.2.4 Total Energy"
      ]
    },
    {
      "cell_type": "code",
      "metadata": {
        "colab": {
          "base_uri": "https://localhost:8080/",
          "height": 547
        },
        "id": "XMdhPBSLneZa",
        "outputId": "65572130-009d-4f0f-85f9-87628a1b23b6"
      },
      "source": [
        "# series of total energy \n",
        "dc_obs_tot_series = dc_elec_calc_df.loc[:, obs_col_name] + obs_mech_df.loc[dc_beg:dc_end, 'chw_fan']\n",
        "dc_pre_tot_series = dc_elec_calc_df.loc[:, pre_col_name] + dc_clg_calc_df.loc[:, pre_col_name] + pre_dc_fan_df.loc[:, 'PTAC_Fan_electric_rate']\n",
        "\n",
        "# dict of data\n",
        "dc_total_dict = {obs_col_name:dc_obs_tot_series,\n",
        "                 pre_col_name:dc_pre_tot_series}\n",
        "\n",
        "# dataframe\n",
        "dc_total_calc_df = pd.DataFrame(data=dc_total_dict)\n",
        "\n",
        "# set bad data to NaN\n",
        "dc_total_calc_df.loc['2020-11-22 10:15':'2020-11-23 00:00', obs_col_name] = np.nan #'2020-11-22 10:45':'2020-11-22 23:00'\n",
        "\n",
        "# copy dataframe for plots\n",
        "dc_total_plot_df = pd.DataFrame(dc_total_calc_df.loc[:])\n",
        "\n",
        "# calculate difference between predicted and observed for NMBE\n",
        "dc_total_calc_df['pre_min_obs'] = dc_total_calc_df[pre_col_name] - dc_total_calc_df[obs_col_name]\n",
        "\n",
        "# calculate the square of the difference for CV(RMSE)\n",
        "dc_total_calc_df['pre_min_obs_sq'] = dc_total_calc_df['pre_min_obs']**2\n",
        "\n",
        "# calculate NMBE and CV(RMSE)\n",
        "dc_total_dict = calcs(dc_total_calc_df['pre_min_obs'], dc_total_calc_df[obs_col_name], dc_total_calc_df['pre_min_obs_sq'])\n",
        "\n",
        "# show\n",
        "dc_total_calc_df"
      ],
      "execution_count": null,
      "outputs": [
        {
          "output_type": "stream",
          "text": [
            "NMBE sum = 62504.255345309546\n",
            "n = 932\n",
            "y_bar = 2068.8073785779925\n",
            "NMBE = 0.03245187900277242\n",
            "CV(RMSE) = 0.06413494390000296\n"
          ],
          "name": "stdout"
        },
        {
          "output_type": "execute_result",
          "data": {
            "text/html": [
              "<div>\n",
              "<style scoped>\n",
              "    .dataframe tbody tr th:only-of-type {\n",
              "        vertical-align: middle;\n",
              "    }\n",
              "\n",
              "    .dataframe tbody tr th {\n",
              "        vertical-align: top;\n",
              "    }\n",
              "\n",
              "    .dataframe thead th {\n",
              "        text-align: right;\n",
              "    }\n",
              "</style>\n",
              "<table border=\"1\" class=\"dataframe\">\n",
              "  <thead>\n",
              "    <tr style=\"text-align: right;\">\n",
              "      <th></th>\n",
              "      <th>Measured</th>\n",
              "      <th>Modeled</th>\n",
              "      <th>pre_min_obs</th>\n",
              "      <th>pre_min_obs_sq</th>\n",
              "    </tr>\n",
              "    <tr>\n",
              "      <th>datetime</th>\n",
              "      <th></th>\n",
              "      <th></th>\n",
              "      <th></th>\n",
              "      <th></th>\n",
              "    </tr>\n",
              "  </thead>\n",
              "  <tbody>\n",
              "    <tr>\n",
              "      <th>2020-11-17 18:00:00</th>\n",
              "      <td>2325.788246</td>\n",
              "      <td>2209.99054</td>\n",
              "      <td>-115.797706</td>\n",
              "      <td>13409.108675</td>\n",
              "    </tr>\n",
              "    <tr>\n",
              "      <th>2020-11-17 18:15:00</th>\n",
              "      <td>2456.737008</td>\n",
              "      <td>2850.00064</td>\n",
              "      <td>393.263632</td>\n",
              "      <td>154656.284588</td>\n",
              "    </tr>\n",
              "    <tr>\n",
              "      <th>2020-11-17 18:30:00</th>\n",
              "      <td>2495.995317</td>\n",
              "      <td>2833.48160</td>\n",
              "      <td>337.486283</td>\n",
              "      <td>113896.991320</td>\n",
              "    </tr>\n",
              "    <tr>\n",
              "      <th>2020-11-17 18:45:00</th>\n",
              "      <td>2463.337965</td>\n",
              "      <td>2808.58550</td>\n",
              "      <td>345.247535</td>\n",
              "      <td>119195.860763</td>\n",
              "    </tr>\n",
              "    <tr>\n",
              "      <th>2020-11-17 19:00:00</th>\n",
              "      <td>2398.378476</td>\n",
              "      <td>2790.90400</td>\n",
              "      <td>392.525524</td>\n",
              "      <td>154076.287076</td>\n",
              "    </tr>\n",
              "    <tr>\n",
              "      <th>...</th>\n",
              "      <td>...</td>\n",
              "      <td>...</td>\n",
              "      <td>...</td>\n",
              "      <td>...</td>\n",
              "    </tr>\n",
              "    <tr>\n",
              "      <th>2020-11-30 07:00:00</th>\n",
              "      <td>1834.307980</td>\n",
              "      <td>1903.93709</td>\n",
              "      <td>69.629110</td>\n",
              "      <td>4848.212914</td>\n",
              "    </tr>\n",
              "    <tr>\n",
              "      <th>2020-11-30 07:15:00</th>\n",
              "      <td>1770.070599</td>\n",
              "      <td>1890.50965</td>\n",
              "      <td>120.439051</td>\n",
              "      <td>14505.565057</td>\n",
              "    </tr>\n",
              "    <tr>\n",
              "      <th>2020-11-30 07:30:00</th>\n",
              "      <td>1782.205801</td>\n",
              "      <td>1876.47134</td>\n",
              "      <td>94.265539</td>\n",
              "      <td>8885.991876</td>\n",
              "    </tr>\n",
              "    <tr>\n",
              "      <th>2020-11-30 07:45:00</th>\n",
              "      <td>1788.732244</td>\n",
              "      <td>1863.88290</td>\n",
              "      <td>75.150656</td>\n",
              "      <td>5647.621143</td>\n",
              "    </tr>\n",
              "    <tr>\n",
              "      <th>2020-11-30 08:00:00</th>\n",
              "      <td>NaN</td>\n",
              "      <td>NaN</td>\n",
              "      <td>NaN</td>\n",
              "      <td>NaN</td>\n",
              "    </tr>\n",
              "  </tbody>\n",
              "</table>\n",
              "<p>1209 rows × 4 columns</p>\n",
              "</div>"
            ],
            "text/plain": [
              "                        Measured     Modeled  pre_min_obs  pre_min_obs_sq\n",
              "datetime                                                                 \n",
              "2020-11-17 18:00:00  2325.788246  2209.99054  -115.797706    13409.108675\n",
              "2020-11-17 18:15:00  2456.737008  2850.00064   393.263632   154656.284588\n",
              "2020-11-17 18:30:00  2495.995317  2833.48160   337.486283   113896.991320\n",
              "2020-11-17 18:45:00  2463.337965  2808.58550   345.247535   119195.860763\n",
              "2020-11-17 19:00:00  2398.378476  2790.90400   392.525524   154076.287076\n",
              "...                          ...         ...          ...             ...\n",
              "2020-11-30 07:00:00  1834.307980  1903.93709    69.629110     4848.212914\n",
              "2020-11-30 07:15:00  1770.070599  1890.50965   120.439051    14505.565057\n",
              "2020-11-30 07:30:00  1782.205801  1876.47134    94.265539     8885.991876\n",
              "2020-11-30 07:45:00  1788.732244  1863.88290    75.150656     5647.621143\n",
              "2020-11-30 08:00:00          NaN         NaN          NaN             NaN\n",
              "\n",
              "[1209 rows x 4 columns]"
            ]
          },
          "metadata": {
            "tags": []
          },
          "execution_count": 56
        }
      ]
    },
    {
      "cell_type": "code",
      "metadata": {
        "colab": {
          "base_uri": "https://localhost:8080/",
          "height": 319
        },
        "id": "qNG2LbY6oNte",
        "outputId": "b3360dcb-d7f3-4530-cac9-b9cc0be82825"
      },
      "source": [
        "dc_total_plot_df.plot()"
      ],
      "execution_count": null,
      "outputs": [
        {
          "output_type": "execute_result",
          "data": {
            "text/plain": [
              "<matplotlib.axes._subplots.AxesSubplot at 0x7f03d9e3f750>"
            ]
          },
          "metadata": {
            "tags": []
          },
          "execution_count": 41
        },
        {
          "output_type": "display_data",
          "data": {
            "image/png": "[encoded data removed]",
            "text/plain": [
              "<Figure size 432x288 with 1 Axes>"
            ]
          },
          "metadata": {
            "tags": [],
            "needs_background": "light"
          }
        }
      ]
    },
    {
      "cell_type": "markdown",
      "metadata": {
        "id": "H-Waukn65G11"
      },
      "source": [
        "# 4 Load"
      ]
    },
    {
      "cell_type": "code",
      "metadata": {
        "id": "4a3FQeP8nUBn"
      },
      "source": [
        "# use Seaborn's default theme\n",
        "sns.set_theme()\n",
        "\n",
        "# titles\n",
        "elec_title = 'Electrical Load'\n",
        "clg_title = 'Cooling Load'\n",
        "zone_title = 'Zone Temperature'\n",
        "plnm_title = 'Plenum Temperature'\n",
        "total_tile = 'Total Power'\n",
        "\n",
        "# labels\n",
        "power_label = 'Power (W)'\n",
        "temp_label = 'Temperature (C)'\n",
        "total_label = power_label\n",
        "\n",
        "# plot observed and predicted colors\n",
        "obs_clr = 'orange'\n",
        "pre_clr = 'purple'\n",
        "\n",
        "figsize = (10, 10)\n",
        "annotation_fontsize = 10"
      ],
      "execution_count": null,
      "outputs": []
    },
    {
      "cell_type": "markdown",
      "metadata": {
        "id": "nc3ZF7oznJz6"
      },
      "source": [
        "## 4.1 AC Experiment"
      ]
    },
    {
      "cell_type": "code",
      "metadata": {
        "colab": {
          "base_uri": "https://localhost:8080/",
          "height": 669
        },
        "id": "W1t4Qaj-nIqS",
        "outputId": "22e09ec4-cc13-45cf-d4c1-89ef4a79a896"
      },
      "source": [
        "# figure and axes\n",
        "# ac_fig, ((ac_ax1, ac_ax2), (ac_ax3, ac_ax4)) = plt.subplots(ncols=2, nrows=2, sharex=True)\n",
        "\n",
        "# figure\n",
        "ac_fig = plt.figure(figsize=figsize)\n",
        "\n",
        "# title\n",
        "ac_fig.suptitle('AC Experiment')\n",
        "\n",
        "# axis 1: electrical load\n",
        "ac_ax1 = plt.subplot(2, 2, 1) #2grid((2,2), (0,0),)\n",
        "ac_ax1.plot(ac_elec_plot_df.index, ac_elec_plot_df[obs_col_name], label=obs_col_name, color=obs_clr)\n",
        "ac_ax1.plot(ac_elec_plot_df.index, ac_elec_plot_df[pre_col_name], label=pre_col_name, color=pre_clr)\n",
        "ac_ax1.set_title(elec_title)\n",
        "ac_ax1.set_ylabel(power_label)\n",
        "ac_elec_nmbe = ac_elec_dict['nmbe']\n",
        "ac_elec_cvrmse = ac_elec_dict['cvrmse']\n",
        "ac_elec_text = f'{ac_elec_nmbe:.1f}% NMBE\\n{ac_elec_cvrmse:.1f}% CV(RMSE)'\n",
        "ac_ax1.annotate(s=ac_elec_text, xy=(0.65, 0.05), xycoords='axes fraction', fontsize=annotation_fontsize)\n",
        "\n",
        "# axis 2: cooling load\n",
        "ac_ax2 = plt.subplot(2, 2, 2, sharey=ac_ax1) #2grid((2,2), (0,1),)\n",
        "ac_ax2.plot(ac_clg_plot_df.index, ac_clg_plot_df[obs_col_name], label=obs_col_name, color=obs_clr)\n",
        "ac_ax2.plot(ac_clg_plot_df.index, ac_clg_plot_df[pre_col_name], label=pre_col_name, color=pre_clr)\n",
        "ac_ax2.set_title(clg_title)\n",
        "ac_clg_nmbe = ac_clg_dict['nmbe']\n",
        "ac_clg_cvrmse = ac_clg_dict['cvrmse']\n",
        "ac_clg_text = f'{ac_clg_nmbe:.1f}% NMBE\\n{ac_clg_cvrmse:.1f}% CV(RMSE)'\n",
        "ac_ax2.annotate(s=ac_clg_text, xy=(0.65, 0.05), xycoords='axes fraction', fontsize=annotation_fontsize)\n",
        "\n",
        "# axis 3: zone temperature\n",
        "ac_ax3 = plt.subplot(2, 2, 3) #2grid((2,2), (1,0),)\n",
        "ac_ax3.plot(ac_zone_plot_df.index, ac_zone_plot_df[obs_col_name], label=obs_col_name, color=obs_clr)\n",
        "ac_ax3.plot(ac_zone_plot_df.index, ac_zone_plot_df[pre_col_name], label=pre_col_name, color=pre_clr)\n",
        "ac_ax3.set_title(zone_title)\n",
        "ac_ax3.set_ylabel(temp_label)\n",
        "ac_zone_nmbe = ac_zone_dict['nmbe']\n",
        "ac_zone_cvrmse = ac_zone_dict['cvrmse']\n",
        "ac_zone_text = f'{ac_zone_nmbe:.1f}% NMBE\\n{ac_zone_cvrmse:.1f}% CV(RMSE)'\n",
        "ac_ax3.annotate(s=ac_zone_text, xy=(0.65, 0.05), xycoords='axes fraction', fontsize=annotation_fontsize)\n",
        "\n",
        "# axis 4: plenum temperature\n",
        "ac_ax4 = plt.subplot(2, 2, 4, sharey=ac_ax3) #2grid((2,2), (1,1),)\n",
        "ac_ax4.plot(ac_plnm_plot_df.index, ac_plnm_plot_df[obs_col_name], label=obs_col_name, color=obs_clr)\n",
        "ac_ax4.plot(ac_plnm_plot_df.index, ac_plnm_plot_df[pre_col_name], label=pre_col_name, color=pre_clr)\n",
        "ac_ax4.set_title(plnm_title)\n",
        "ac_plnm_nmbe = ac_plnm_dict['nmbe']\n",
        "ac_plnm_cvrmse = ac_plnm_dict['cvrmse']\n",
        "ac_plnm_text = f'{ac_plnm_nmbe:.1f}% NMBE\\n{ac_plnm_cvrmse:.1f}% CV(RMSE)'\n",
        "ac_ax4.annotate(s=ac_plnm_text, xy=(0.65, 0.05), xycoords='axes fraction', fontsize=annotation_fontsize)\n",
        "\n",
        "# format x-axis\n",
        "ac_fig.autofmt_xdate()\n",
        "\n",
        "# add legend\n",
        "handles, labels = ac_ax4.get_legend_handles_labels()\n",
        "ac_fig.legend(handles, labels, loc='upper right')"
      ],
      "execution_count": null,
      "outputs": [
        {
          "output_type": "execute_result",
          "data": {
            "text/plain": [
              "<matplotlib.legend.Legend at 0x7f03d980cf10>"
            ]
          },
          "metadata": {
            "tags": []
          },
          "execution_count": 45
        },
        {
          "output_type": "display_data",
          "data": {
            "image/png": "[encoded data removed]",
            "text/plain": [
              "<Figure size 720x720 with 4 Axes>"
            ]
          },
          "metadata": {
            "tags": []
          }
        }
      ]
    },
    {
      "cell_type": "code",
      "metadata": {
        "colab": {
          "base_uri": "https://localhost:8080/",
          "height": 299
        },
        "id": "3A1FRvfHq2cZ",
        "outputId": "2a74fdda-d102-4354-b957-2dd5c1d2e2f7"
      },
      "source": [
        "# create figure and axis\n",
        "ac_total_fig, ac_total_ax = plt.subplots()\n",
        "\n",
        "# set title and axis labels\n",
        "ac_total_ax.set_ylabel(total_label)\n",
        "\n",
        "# add data\n",
        "ac_total_ax.plot(ac_total_plot_df.index, ac_total_plot_df[obs_col_name], label=obs_col_name, color=obs_clr)\n",
        "ac_total_ax.plot(ac_total_plot_df.index, ac_total_plot_df[pre_col_name], label=pre_col_name, color=pre_clr)\n",
        "\n",
        "# add legend\n",
        "ac_total_ax.legend(loc='upper left') #bbox_to_anchor=(1, 1), loc='center right') #loc='best')\n",
        "\n",
        "# format x-axis\n",
        "ac_total_ax.figure.autofmt_xdate()\n",
        "\n",
        "# format y-axis\n",
        "ac_total_ax.set_ylim(ymin=0, ymax=6000)\n",
        "\n",
        "# annotaction\n",
        "ac_total_nmbe = ac_total_dict['nmbe']\n",
        "ac_total_cvrmse = ac_total_dict['cvrmse']\n",
        "ac_total_text = f'{ac_total_nmbe:.1f}% NMBE\\n{ac_total_cvrmse:.1f}% CV(RMSE)'\n",
        "ac_total_ax.annotate(s=ac_total_text, xy=(0.75, 0.05), xycoords='axes fraction', fontsize=annotation_fontsize)"
      ],
      "execution_count": null,
      "outputs": [
        {
          "output_type": "execute_result",
          "data": {
            "text/plain": [
              "Text(0.75, 0.05, '7.8% NMBE\\n8.6% CV(RMSE)')"
            ]
          },
          "metadata": {
            "tags": []
          },
          "execution_count": 54
        },
        {
          "output_type": "display_data",
          "data": {
            "image/png": "[encoded data removed]",
            "text/plain": [
              "<Figure size 432x288 with 1 Axes>"
            ]
          },
          "metadata": {
            "tags": []
          }
        }
      ]
    },
    {
      "cell_type": "markdown",
      "metadata": {
        "id": "TUNbVlBdBC4u"
      },
      "source": [
        "## 4.2 DC Experiment"
      ]
    },
    {
      "cell_type": "code",
      "metadata": {
        "colab": {
          "base_uri": "https://localhost:8080/",
          "height": 669
        },
        "id": "06sB--IVt6dM",
        "outputId": "a988c594-e9d7-441f-a4e3-fd61e7de1200"
      },
      "source": [
        "# figure\n",
        "dc_fig = plt.figure(figsize=figsize)\n",
        "\n",
        "annotation_x = 0.65\n",
        "annotation_y = 0.875\n",
        "\n",
        "# title\n",
        "dc_fig.suptitle('DC Experiment')\n",
        "\n",
        "# axis 1: electrical load\n",
        "dc_ax1 = plt.subplot(2, 2, 1) #2grid((2,2), (0,0),)\n",
        "dc_ax1.plot(dc_elec_plot_df.index, dc_elec_plot_df[obs_col_name], label=obs_col_name, color=obs_clr)\n",
        "dc_ax1.plot(dc_elec_plot_df.index, dc_elec_plot_df[pre_col_name], label=pre_col_name, color=pre_clr)\n",
        "dc_ax1.set_title(elec_title)\n",
        "dc_ax1.set_ylabel(power_label)\n",
        "dc_elec_nmbe = dc_elec_dict['nmbe']\n",
        "dc_elec_cvrmse = dc_elec_dict['cvrmse']\n",
        "dc_elec_text = f'{dc_elec_nmbe:.1f}% NMBE\\n{dc_elec_cvrmse:.1f}% CV(RMSE)'\n",
        "dc_ax1.annotate(s=dc_elec_text, xy=(annotation_x, annotation_y), xycoords='axes fraction', fontsize=annotation_fontsize)\n",
        "\n",
        "# axis 2: cooling load\n",
        "dc_ax2 = plt.subplot(2, 2, 2, sharey=dc_ax1) #2grid((2,2), (0,1),)\n",
        "dc_ax2.plot(dc_clg_plot_df.index, dc_clg_plot_df[obs_col_name], label=obs_col_name, color=obs_clr)\n",
        "dc_ax2.plot(dc_clg_plot_df.index, dc_clg_plot_df[pre_col_name], label=pre_col_name, color=pre_clr)\n",
        "dc_ax2.set_title(clg_title)\n",
        "dc_clg_nmbe = dc_clg_dict['nmbe']\n",
        "dc_clg_cvrmse = dc_clg_dict['cvrmse']\n",
        "dc_clg_text = f'{dc_clg_nmbe:.1f}% NMBE\\n{dc_clg_cvrmse:.1f}% CV(RMSE)'\n",
        "dc_ax2.annotate(s=dc_clg_text, xy=(annotation_x, annotation_y), xycoords='axes fraction', fontsize=annotation_fontsize)\n",
        "\n",
        "# axis 3: zone temperature\n",
        "dc_ax3 = plt.subplot(2, 2, 3) #2grid((2,2), (1,0),)\n",
        "dc_ax3.plot(dc_zone_plot_df.index, dc_zone_plot_df[obs_col_name], label=obs_col_name, color=obs_clr)\n",
        "dc_ax3.plot(dc_zone_plot_df.index, dc_zone_plot_df[pre_col_name], label=pre_col_name, color=pre_clr)\n",
        "dc_ax3.set_title(zone_title)\n",
        "dc_ax3.set_ylabel(temp_label)\n",
        "dc_zone_nmbe = dc_zone_dict['nmbe']\n",
        "dc_zone_cvrmse = dc_zone_dict['cvrmse']\n",
        "dc_zone_text = f'{dc_zone_nmbe:.1f}% NMBE\\n{dc_zone_cvrmse:.1f}% CV(RMSE)'\n",
        "dc_ax3.annotate(s=dc_zone_text, xy=(annotation_x, annotation_y), xycoords='axes fraction', fontsize=annotation_fontsize)\n",
        "\n",
        "# axis 4: plenum temperature\n",
        "dc_ax4 = plt.subplot(2, 2, 4, sharey=dc_ax3) #2grid((2,2), (1,1),)\n",
        "dc_ax4.plot(dc_plnm_plot_df.index, dc_plnm_plot_df[obs_col_name], label=obs_col_name, color=obs_clr)\n",
        "dc_ax4.plot(dc_plnm_plot_df.index, dc_plnm_plot_df[pre_col_name], label=pre_col_name, color=pre_clr)\n",
        "dc_ax4.set_title(plnm_title)\n",
        "dc_plnm_nmbe = dc_plnm_dict['nmbe']\n",
        "dc_plnm_cvrmse = dc_plnm_dict['cvrmse']\n",
        "dc_plnm_text = f'{dc_plnm_nmbe:.1f}% NMBE\\n{dc_plnm_cvrmse:.1f}% CV(RMSE)'\n",
        "dc_ax4.annotate(s=dc_plnm_text, xy=(annotation_x, annotation_y), xycoords='axes fraction', fontsize=annotation_fontsize)\n",
        "\n",
        "# format x-axis\n",
        "dc_fig.autofmt_xdate()\n",
        "\n",
        "# add legend\n",
        "handles, labels = dc_ax4.get_legend_handles_labels()\n",
        "dc_fig.legend(handles, labels, loc='upper right')"
      ],
      "execution_count": null,
      "outputs": [
        {
          "output_type": "execute_result",
          "data": {
            "text/plain": [
              "<matplotlib.legend.Legend at 0x7f03d7ca6d90>"
            ]
          },
          "metadata": {
            "tags": []
          },
          "execution_count": 47
        },
        {
          "output_type": "display_data",
          "data": {
            "image/png": "[encoded data removed]",
            "text/plain": [
              "<Figure size 720x720 with 4 Axes>"
            ]
          },
          "metadata": {
            "tags": []
          }
        }
      ]
    },
    {
      "cell_type": "code",
      "metadata": {
        "colab": {
          "base_uri": "https://localhost:8080/",
          "height": 299
        },
        "id": "sx8ghBzNtUqx",
        "outputId": "5f7c5bf1-1941-4053-b51c-29a7deea05f0"
      },
      "source": [
        "# create figure and axis\n",
        "dc_total_fig, dc_total_ax = plt.subplots()\n",
        "\n",
        "# set title and axis labels\n",
        "dc_total_ax.set_ylabel(total_label)\n",
        "\n",
        "# add data\n",
        "dc_total_ax.plot(dc_total_plot_df.index, dc_total_plot_df[obs_col_name], label=obs_col_name, color=obs_clr)\n",
        "dc_total_ax.plot(dc_total_plot_df.index, dc_total_plot_df[pre_col_name], label=pre_col_name, color=pre_clr)\n",
        "\n",
        "# add legend\n",
        "dc_total_ax.legend(loc='upper left') #bbox_to_anchor=(1, 1), loc='center right') #loc='best')\n",
        "\n",
        "# format x-axis\n",
        "dc_total_ax.figure.autofmt_xdate()\n",
        "\n",
        "# format y-axis\n",
        "dc_total_ax.set_ylim(ymin=0, ymax=6000)\n",
        "\n",
        "# annotaction\n",
        "dc_total_nmbe = dc_total_dict['nmbe']\n",
        "dc_total_cvrmse = dc_total_dict['cvrmse']\n",
        "dc_total_text = f'{dc_total_nmbe:.1f}% NMBE\\n{dc_total_cvrmse:.1f}% CV(RMSE)'\n",
        "dc_total_ax.annotate(s=dc_total_text, xy=(0.75, 0.05), xycoords='axes fraction', fontsize=annotation_fontsize)"
      ],
      "execution_count": null,
      "outputs": [
        {
          "output_type": "execute_result",
          "data": {
            "text/plain": [
              "Text(0.75, 0.05, '3.2% NMBE\\n6.4% CV(RMSE)')"
            ]
          },
          "metadata": {
            "tags": []
          },
          "execution_count": 57
        },
        {
          "output_type": "display_data",
          "data": {
            "image/png": "[encoded data removed]",
            "text/plain": [
              "<Figure size 432x288 with 1 Axes>"
            ]
          },
          "metadata": {
            "tags": []
          }
        }
      ]
    },
    {
      "cell_type": "code",
      "metadata": {
        "id": "uhWlm4Fbt6f0"
      },
      "source": [
        "# save\n",
        "# ac_fig.savefig(os.path.join(pre_dir, 'ac_validation.png'), bbox_inches='tight', dpi=300)\n",
        "ac_total_fig.savefig(os.path.join(pre_dir, 'ac_validation_total.png'), bbox_inches='tight', dpi=300)\n",
        "# dc_fig.savefig(os.path.join(pre_dir, 'dc_validation.png'), bbox_inches='tight', dpi=300)\n",
        "dc_total_fig.savefig(os.path.join(pre_dir, 'dc_validation_total.png'), bbox_inches='tight', dpi=300)"
      ],
      "execution_count": null,
      "outputs": []
    },
    {
      "cell_type": "code",
      "metadata": {
        "id": "DXejMNkkR1zi"
      },
      "source": [
        ""
      ],
      "execution_count": null,
      "outputs": []
    }
  ]
}